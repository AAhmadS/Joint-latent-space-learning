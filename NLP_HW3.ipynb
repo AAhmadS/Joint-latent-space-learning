{
  "nbformat": 4,
  "nbformat_minor": 0,
  "metadata": {
    "colab": {
      "provenance": [],
      "gpuType": "T4",
      "include_colab_link": true
    },
    "kernelspec": {
      "name": "python3",
      "display_name": "Python 3"
    },
    "language_info": {
      "name": "python"
    },
    "accelerator": "GPU",
    "widgets": {
      "application/vnd.jupyter.widget-state+json": {
        "afd6fa2cc3d14a29b68afc4acac5dccc": {
          "model_module": "@jupyter-widgets/controls",
          "model_name": "HBoxModel",
          "model_module_version": "1.5.0",
          "state": {
            "_dom_classes": [],
            "_model_module": "@jupyter-widgets/controls",
            "_model_module_version": "1.5.0",
            "_model_name": "HBoxModel",
            "_view_count": null,
            "_view_module": "@jupyter-widgets/controls",
            "_view_module_version": "1.5.0",
            "_view_name": "HBoxView",
            "box_style": "",
            "children": [
              "IPY_MODEL_f318903bf41d4479a8d0a8d39cd67f2e",
              "IPY_MODEL_53e6ae90ef9d48f69d274fad886c45d3",
              "IPY_MODEL_5b4cdfc2aea9449f9dc7431b867ad4f6"
            ],
            "layout": "IPY_MODEL_37d1357239cf4477a3976ff06a4e9155"
          }
        },
        "f318903bf41d4479a8d0a8d39cd67f2e": {
          "model_module": "@jupyter-widgets/controls",
          "model_name": "HTMLModel",
          "model_module_version": "1.5.0",
          "state": {
            "_dom_classes": [],
            "_model_module": "@jupyter-widgets/controls",
            "_model_module_version": "1.5.0",
            "_model_name": "HTMLModel",
            "_view_count": null,
            "_view_module": "@jupyter-widgets/controls",
            "_view_module_version": "1.5.0",
            "_view_name": "HTMLView",
            "description": "",
            "description_tooltip": null,
            "layout": "IPY_MODEL_fe5da2a3d06a4037a8d4bc597680b1a0",
            "placeholder": "​",
            "style": "IPY_MODEL_4e8fa1d9c1e84cb8933ba3405882bb4e",
            "value": "Downloading (…)okenizer_config.json: 100%"
          }
        },
        "53e6ae90ef9d48f69d274fad886c45d3": {
          "model_module": "@jupyter-widgets/controls",
          "model_name": "FloatProgressModel",
          "model_module_version": "1.5.0",
          "state": {
            "_dom_classes": [],
            "_model_module": "@jupyter-widgets/controls",
            "_model_module_version": "1.5.0",
            "_model_name": "FloatProgressModel",
            "_view_count": null,
            "_view_module": "@jupyter-widgets/controls",
            "_view_module_version": "1.5.0",
            "_view_name": "ProgressView",
            "bar_style": "success",
            "description": "",
            "description_tooltip": null,
            "layout": "IPY_MODEL_234d82f835ac4f41a08b7bbfa2abc38d",
            "max": 728,
            "min": 0,
            "orientation": "horizontal",
            "style": "IPY_MODEL_64fa678c662b412682a7b4f5ce9ebad2",
            "value": 728
          }
        },
        "5b4cdfc2aea9449f9dc7431b867ad4f6": {
          "model_module": "@jupyter-widgets/controls",
          "model_name": "HTMLModel",
          "model_module_version": "1.5.0",
          "state": {
            "_dom_classes": [],
            "_model_module": "@jupyter-widgets/controls",
            "_model_module_version": "1.5.0",
            "_model_name": "HTMLModel",
            "_view_count": null,
            "_view_module": "@jupyter-widgets/controls",
            "_view_module_version": "1.5.0",
            "_view_name": "HTMLView",
            "description": "",
            "description_tooltip": null,
            "layout": "IPY_MODEL_f163a45cf84e42c5ba179cedfdb8d419",
            "placeholder": "​",
            "style": "IPY_MODEL_4588d97dd5ae4b03b7d9730bf7ddc19c",
            "value": " 728/728 [00:00&lt;00:00, 11.0kB/s]"
          }
        },
        "37d1357239cf4477a3976ff06a4e9155": {
          "model_module": "@jupyter-widgets/base",
          "model_name": "LayoutModel",
          "model_module_version": "1.2.0",
          "state": {
            "_model_module": "@jupyter-widgets/base",
            "_model_module_version": "1.2.0",
            "_model_name": "LayoutModel",
            "_view_count": null,
            "_view_module": "@jupyter-widgets/base",
            "_view_module_version": "1.2.0",
            "_view_name": "LayoutView",
            "align_content": null,
            "align_items": null,
            "align_self": null,
            "border": null,
            "bottom": null,
            "display": null,
            "flex": null,
            "flex_flow": null,
            "grid_area": null,
            "grid_auto_columns": null,
            "grid_auto_flow": null,
            "grid_auto_rows": null,
            "grid_column": null,
            "grid_gap": null,
            "grid_row": null,
            "grid_template_areas": null,
            "grid_template_columns": null,
            "grid_template_rows": null,
            "height": null,
            "justify_content": null,
            "justify_items": null,
            "left": null,
            "margin": null,
            "max_height": null,
            "max_width": null,
            "min_height": null,
            "min_width": null,
            "object_fit": null,
            "object_position": null,
            "order": null,
            "overflow": null,
            "overflow_x": null,
            "overflow_y": null,
            "padding": null,
            "right": null,
            "top": null,
            "visibility": null,
            "width": null
          }
        },
        "fe5da2a3d06a4037a8d4bc597680b1a0": {
          "model_module": "@jupyter-widgets/base",
          "model_name": "LayoutModel",
          "model_module_version": "1.2.0",
          "state": {
            "_model_module": "@jupyter-widgets/base",
            "_model_module_version": "1.2.0",
            "_model_name": "LayoutModel",
            "_view_count": null,
            "_view_module": "@jupyter-widgets/base",
            "_view_module_version": "1.2.0",
            "_view_name": "LayoutView",
            "align_content": null,
            "align_items": null,
            "align_self": null,
            "border": null,
            "bottom": null,
            "display": null,
            "flex": null,
            "flex_flow": null,
            "grid_area": null,
            "grid_auto_columns": null,
            "grid_auto_flow": null,
            "grid_auto_rows": null,
            "grid_column": null,
            "grid_gap": null,
            "grid_row": null,
            "grid_template_areas": null,
            "grid_template_columns": null,
            "grid_template_rows": null,
            "height": null,
            "justify_content": null,
            "justify_items": null,
            "left": null,
            "margin": null,
            "max_height": null,
            "max_width": null,
            "min_height": null,
            "min_width": null,
            "object_fit": null,
            "object_position": null,
            "order": null,
            "overflow": null,
            "overflow_x": null,
            "overflow_y": null,
            "padding": null,
            "right": null,
            "top": null,
            "visibility": null,
            "width": null
          }
        },
        "4e8fa1d9c1e84cb8933ba3405882bb4e": {
          "model_module": "@jupyter-widgets/controls",
          "model_name": "DescriptionStyleModel",
          "model_module_version": "1.5.0",
          "state": {
            "_model_module": "@jupyter-widgets/controls",
            "_model_module_version": "1.5.0",
            "_model_name": "DescriptionStyleModel",
            "_view_count": null,
            "_view_module": "@jupyter-widgets/base",
            "_view_module_version": "1.2.0",
            "_view_name": "StyleView",
            "description_width": ""
          }
        },
        "234d82f835ac4f41a08b7bbfa2abc38d": {
          "model_module": "@jupyter-widgets/base",
          "model_name": "LayoutModel",
          "model_module_version": "1.2.0",
          "state": {
            "_model_module": "@jupyter-widgets/base",
            "_model_module_version": "1.2.0",
            "_model_name": "LayoutModel",
            "_view_count": null,
            "_view_module": "@jupyter-widgets/base",
            "_view_module_version": "1.2.0",
            "_view_name": "LayoutView",
            "align_content": null,
            "align_items": null,
            "align_self": null,
            "border": null,
            "bottom": null,
            "display": null,
            "flex": null,
            "flex_flow": null,
            "grid_area": null,
            "grid_auto_columns": null,
            "grid_auto_flow": null,
            "grid_auto_rows": null,
            "grid_column": null,
            "grid_gap": null,
            "grid_row": null,
            "grid_template_areas": null,
            "grid_template_columns": null,
            "grid_template_rows": null,
            "height": null,
            "justify_content": null,
            "justify_items": null,
            "left": null,
            "margin": null,
            "max_height": null,
            "max_width": null,
            "min_height": null,
            "min_width": null,
            "object_fit": null,
            "object_position": null,
            "order": null,
            "overflow": null,
            "overflow_x": null,
            "overflow_y": null,
            "padding": null,
            "right": null,
            "top": null,
            "visibility": null,
            "width": null
          }
        },
        "64fa678c662b412682a7b4f5ce9ebad2": {
          "model_module": "@jupyter-widgets/controls",
          "model_name": "ProgressStyleModel",
          "model_module_version": "1.5.0",
          "state": {
            "_model_module": "@jupyter-widgets/controls",
            "_model_module_version": "1.5.0",
            "_model_name": "ProgressStyleModel",
            "_view_count": null,
            "_view_module": "@jupyter-widgets/base",
            "_view_module_version": "1.2.0",
            "_view_name": "StyleView",
            "bar_color": null,
            "description_width": ""
          }
        },
        "f163a45cf84e42c5ba179cedfdb8d419": {
          "model_module": "@jupyter-widgets/base",
          "model_name": "LayoutModel",
          "model_module_version": "1.2.0",
          "state": {
            "_model_module": "@jupyter-widgets/base",
            "_model_module_version": "1.2.0",
            "_model_name": "LayoutModel",
            "_view_count": null,
            "_view_module": "@jupyter-widgets/base",
            "_view_module_version": "1.2.0",
            "_view_name": "LayoutView",
            "align_content": null,
            "align_items": null,
            "align_self": null,
            "border": null,
            "bottom": null,
            "display": null,
            "flex": null,
            "flex_flow": null,
            "grid_area": null,
            "grid_auto_columns": null,
            "grid_auto_flow": null,
            "grid_auto_rows": null,
            "grid_column": null,
            "grid_gap": null,
            "grid_row": null,
            "grid_template_areas": null,
            "grid_template_columns": null,
            "grid_template_rows": null,
            "height": null,
            "justify_content": null,
            "justify_items": null,
            "left": null,
            "margin": null,
            "max_height": null,
            "max_width": null,
            "min_height": null,
            "min_width": null,
            "object_fit": null,
            "object_position": null,
            "order": null,
            "overflow": null,
            "overflow_x": null,
            "overflow_y": null,
            "padding": null,
            "right": null,
            "top": null,
            "visibility": null,
            "width": null
          }
        },
        "4588d97dd5ae4b03b7d9730bf7ddc19c": {
          "model_module": "@jupyter-widgets/controls",
          "model_name": "DescriptionStyleModel",
          "model_module_version": "1.5.0",
          "state": {
            "_model_module": "@jupyter-widgets/controls",
            "_model_module_version": "1.5.0",
            "_model_name": "DescriptionStyleModel",
            "_view_count": null,
            "_view_module": "@jupyter-widgets/base",
            "_view_module_version": "1.2.0",
            "_view_name": "StyleView",
            "description_width": ""
          }
        },
        "21d1f504c22145578ce8961e4bc3c27f": {
          "model_module": "@jupyter-widgets/controls",
          "model_name": "HBoxModel",
          "model_module_version": "1.5.0",
          "state": {
            "_dom_classes": [],
            "_model_module": "@jupyter-widgets/controls",
            "_model_module_version": "1.5.0",
            "_model_name": "HBoxModel",
            "_view_count": null,
            "_view_module": "@jupyter-widgets/controls",
            "_view_module_version": "1.5.0",
            "_view_name": "HBoxView",
            "box_style": "",
            "children": [
              "IPY_MODEL_3b63b000990e4c3faa99c3e0badfdd51",
              "IPY_MODEL_b738ba6fd61849aba74be684321eb3e4",
              "IPY_MODEL_fa7b2b19a4634306bc0e429e853245a3"
            ],
            "layout": "IPY_MODEL_7a5e7e2e920a4f2f9295f726740cad32"
          }
        },
        "3b63b000990e4c3faa99c3e0badfdd51": {
          "model_module": "@jupyter-widgets/controls",
          "model_name": "HTMLModel",
          "model_module_version": "1.5.0",
          "state": {
            "_dom_classes": [],
            "_model_module": "@jupyter-widgets/controls",
            "_model_module_version": "1.5.0",
            "_model_name": "HTMLModel",
            "_view_count": null,
            "_view_module": "@jupyter-widgets/controls",
            "_view_module_version": "1.5.0",
            "_view_name": "HTMLView",
            "description": "",
            "description_tooltip": null,
            "layout": "IPY_MODEL_2e38f305fa1f47dea9ee93f9e2bd8740",
            "placeholder": "​",
            "style": "IPY_MODEL_1f0b71f7bb8c430eb8db4ce93f2b44aa",
            "value": "Downloading (…)lve/main/config.json: 100%"
          }
        },
        "b738ba6fd61849aba74be684321eb3e4": {
          "model_module": "@jupyter-widgets/controls",
          "model_name": "FloatProgressModel",
          "model_module_version": "1.5.0",
          "state": {
            "_dom_classes": [],
            "_model_module": "@jupyter-widgets/controls",
            "_model_module_version": "1.5.0",
            "_model_name": "FloatProgressModel",
            "_view_count": null,
            "_view_module": "@jupyter-widgets/controls",
            "_view_module_version": "1.5.0",
            "_view_name": "ProgressView",
            "bar_style": "success",
            "description": "",
            "description_tooltip": null,
            "layout": "IPY_MODEL_06dd799022284cc7b23ea27e330acdf0",
            "max": 808,
            "min": 0,
            "orientation": "horizontal",
            "style": "IPY_MODEL_c4ecb760dd084d618166831185c0d209",
            "value": 808
          }
        },
        "fa7b2b19a4634306bc0e429e853245a3": {
          "model_module": "@jupyter-widgets/controls",
          "model_name": "HTMLModel",
          "model_module_version": "1.5.0",
          "state": {
            "_dom_classes": [],
            "_model_module": "@jupyter-widgets/controls",
            "_model_module_version": "1.5.0",
            "_model_name": "HTMLModel",
            "_view_count": null,
            "_view_module": "@jupyter-widgets/controls",
            "_view_module_version": "1.5.0",
            "_view_name": "HTMLView",
            "description": "",
            "description_tooltip": null,
            "layout": "IPY_MODEL_cb6b6d1ab6f64495b305f34a06080e15",
            "placeholder": "​",
            "style": "IPY_MODEL_e60dd0b4bb794a1aaa5b31cba8e68a91",
            "value": " 808/808 [00:00&lt;00:00, 19.6kB/s]"
          }
        },
        "7a5e7e2e920a4f2f9295f726740cad32": {
          "model_module": "@jupyter-widgets/base",
          "model_name": "LayoutModel",
          "model_module_version": "1.2.0",
          "state": {
            "_model_module": "@jupyter-widgets/base",
            "_model_module_version": "1.2.0",
            "_model_name": "LayoutModel",
            "_view_count": null,
            "_view_module": "@jupyter-widgets/base",
            "_view_module_version": "1.2.0",
            "_view_name": "LayoutView",
            "align_content": null,
            "align_items": null,
            "align_self": null,
            "border": null,
            "bottom": null,
            "display": null,
            "flex": null,
            "flex_flow": null,
            "grid_area": null,
            "grid_auto_columns": null,
            "grid_auto_flow": null,
            "grid_auto_rows": null,
            "grid_column": null,
            "grid_gap": null,
            "grid_row": null,
            "grid_template_areas": null,
            "grid_template_columns": null,
            "grid_template_rows": null,
            "height": null,
            "justify_content": null,
            "justify_items": null,
            "left": null,
            "margin": null,
            "max_height": null,
            "max_width": null,
            "min_height": null,
            "min_width": null,
            "object_fit": null,
            "object_position": null,
            "order": null,
            "overflow": null,
            "overflow_x": null,
            "overflow_y": null,
            "padding": null,
            "right": null,
            "top": null,
            "visibility": null,
            "width": null
          }
        },
        "2e38f305fa1f47dea9ee93f9e2bd8740": {
          "model_module": "@jupyter-widgets/base",
          "model_name": "LayoutModel",
          "model_module_version": "1.2.0",
          "state": {
            "_model_module": "@jupyter-widgets/base",
            "_model_module_version": "1.2.0",
            "_model_name": "LayoutModel",
            "_view_count": null,
            "_view_module": "@jupyter-widgets/base",
            "_view_module_version": "1.2.0",
            "_view_name": "LayoutView",
            "align_content": null,
            "align_items": null,
            "align_self": null,
            "border": null,
            "bottom": null,
            "display": null,
            "flex": null,
            "flex_flow": null,
            "grid_area": null,
            "grid_auto_columns": null,
            "grid_auto_flow": null,
            "grid_auto_rows": null,
            "grid_column": null,
            "grid_gap": null,
            "grid_row": null,
            "grid_template_areas": null,
            "grid_template_columns": null,
            "grid_template_rows": null,
            "height": null,
            "justify_content": null,
            "justify_items": null,
            "left": null,
            "margin": null,
            "max_height": null,
            "max_width": null,
            "min_height": null,
            "min_width": null,
            "object_fit": null,
            "object_position": null,
            "order": null,
            "overflow": null,
            "overflow_x": null,
            "overflow_y": null,
            "padding": null,
            "right": null,
            "top": null,
            "visibility": null,
            "width": null
          }
        },
        "1f0b71f7bb8c430eb8db4ce93f2b44aa": {
          "model_module": "@jupyter-widgets/controls",
          "model_name": "DescriptionStyleModel",
          "model_module_version": "1.5.0",
          "state": {
            "_model_module": "@jupyter-widgets/controls",
            "_model_module_version": "1.5.0",
            "_model_name": "DescriptionStyleModel",
            "_view_count": null,
            "_view_module": "@jupyter-widgets/base",
            "_view_module_version": "1.2.0",
            "_view_name": "StyleView",
            "description_width": ""
          }
        },
        "06dd799022284cc7b23ea27e330acdf0": {
          "model_module": "@jupyter-widgets/base",
          "model_name": "LayoutModel",
          "model_module_version": "1.2.0",
          "state": {
            "_model_module": "@jupyter-widgets/base",
            "_model_module_version": "1.2.0",
            "_model_name": "LayoutModel",
            "_view_count": null,
            "_view_module": "@jupyter-widgets/base",
            "_view_module_version": "1.2.0",
            "_view_name": "LayoutView",
            "align_content": null,
            "align_items": null,
            "align_self": null,
            "border": null,
            "bottom": null,
            "display": null,
            "flex": null,
            "flex_flow": null,
            "grid_area": null,
            "grid_auto_columns": null,
            "grid_auto_flow": null,
            "grid_auto_rows": null,
            "grid_column": null,
            "grid_gap": null,
            "grid_row": null,
            "grid_template_areas": null,
            "grid_template_columns": null,
            "grid_template_rows": null,
            "height": null,
            "justify_content": null,
            "justify_items": null,
            "left": null,
            "margin": null,
            "max_height": null,
            "max_width": null,
            "min_height": null,
            "min_width": null,
            "object_fit": null,
            "object_position": null,
            "order": null,
            "overflow": null,
            "overflow_x": null,
            "overflow_y": null,
            "padding": null,
            "right": null,
            "top": null,
            "visibility": null,
            "width": null
          }
        },
        "c4ecb760dd084d618166831185c0d209": {
          "model_module": "@jupyter-widgets/controls",
          "model_name": "ProgressStyleModel",
          "model_module_version": "1.5.0",
          "state": {
            "_model_module": "@jupyter-widgets/controls",
            "_model_module_version": "1.5.0",
            "_model_name": "ProgressStyleModel",
            "_view_count": null,
            "_view_module": "@jupyter-widgets/base",
            "_view_module_version": "1.2.0",
            "_view_name": "StyleView",
            "bar_color": null,
            "description_width": ""
          }
        },
        "cb6b6d1ab6f64495b305f34a06080e15": {
          "model_module": "@jupyter-widgets/base",
          "model_name": "LayoutModel",
          "model_module_version": "1.2.0",
          "state": {
            "_model_module": "@jupyter-widgets/base",
            "_model_module_version": "1.2.0",
            "_model_name": "LayoutModel",
            "_view_count": null,
            "_view_module": "@jupyter-widgets/base",
            "_view_module_version": "1.2.0",
            "_view_name": "LayoutView",
            "align_content": null,
            "align_items": null,
            "align_self": null,
            "border": null,
            "bottom": null,
            "display": null,
            "flex": null,
            "flex_flow": null,
            "grid_area": null,
            "grid_auto_columns": null,
            "grid_auto_flow": null,
            "grid_auto_rows": null,
            "grid_column": null,
            "grid_gap": null,
            "grid_row": null,
            "grid_template_areas": null,
            "grid_template_columns": null,
            "grid_template_rows": null,
            "height": null,
            "justify_content": null,
            "justify_items": null,
            "left": null,
            "margin": null,
            "max_height": null,
            "max_width": null,
            "min_height": null,
            "min_width": null,
            "object_fit": null,
            "object_position": null,
            "order": null,
            "overflow": null,
            "overflow_x": null,
            "overflow_y": null,
            "padding": null,
            "right": null,
            "top": null,
            "visibility": null,
            "width": null
          }
        },
        "e60dd0b4bb794a1aaa5b31cba8e68a91": {
          "model_module": "@jupyter-widgets/controls",
          "model_name": "DescriptionStyleModel",
          "model_module_version": "1.5.0",
          "state": {
            "_model_module": "@jupyter-widgets/controls",
            "_model_module_version": "1.5.0",
            "_model_name": "DescriptionStyleModel",
            "_view_count": null,
            "_view_module": "@jupyter-widgets/base",
            "_view_module_version": "1.2.0",
            "_view_name": "StyleView",
            "description_width": ""
          }
        },
        "c72b04ef3a704666af9c2c93d69cee25": {
          "model_module": "@jupyter-widgets/controls",
          "model_name": "HBoxModel",
          "model_module_version": "1.5.0",
          "state": {
            "_dom_classes": [],
            "_model_module": "@jupyter-widgets/controls",
            "_model_module_version": "1.5.0",
            "_model_name": "HBoxModel",
            "_view_count": null,
            "_view_module": "@jupyter-widgets/controls",
            "_view_module_version": "1.5.0",
            "_view_name": "HBoxView",
            "box_style": "",
            "children": [
              "IPY_MODEL_59eb3cb5960044c094a960b894f67722",
              "IPY_MODEL_3ea4bfa294834137a46436755f3b73a4",
              "IPY_MODEL_998c971af7784d87aa4dfe744cd26f7f"
            ],
            "layout": "IPY_MODEL_071c6c00cde14574bcf938e0a8f0bea6"
          }
        },
        "59eb3cb5960044c094a960b894f67722": {
          "model_module": "@jupyter-widgets/controls",
          "model_name": "HTMLModel",
          "model_module_version": "1.5.0",
          "state": {
            "_dom_classes": [],
            "_model_module": "@jupyter-widgets/controls",
            "_model_module_version": "1.5.0",
            "_model_name": "HTMLModel",
            "_view_count": null,
            "_view_module": "@jupyter-widgets/controls",
            "_view_module_version": "1.5.0",
            "_view_name": "HTMLView",
            "description": "",
            "description_tooltip": null,
            "layout": "IPY_MODEL_03881d4ee44547e4a1ba6eb1a3151bad",
            "placeholder": "​",
            "style": "IPY_MODEL_bc8d9574b10b4294933819dc48482f7e",
            "value": "Downloading (…)olve/main/vocab.json: 100%"
          }
        },
        "3ea4bfa294834137a46436755f3b73a4": {
          "model_module": "@jupyter-widgets/controls",
          "model_name": "FloatProgressModel",
          "model_module_version": "1.5.0",
          "state": {
            "_dom_classes": [],
            "_model_module": "@jupyter-widgets/controls",
            "_model_module_version": "1.5.0",
            "_model_name": "FloatProgressModel",
            "_view_count": null,
            "_view_module": "@jupyter-widgets/controls",
            "_view_module_version": "1.5.0",
            "_view_name": "ProgressView",
            "bar_style": "success",
            "description": "",
            "description_tooltip": null,
            "layout": "IPY_MODEL_de8b9307532547228dbe159cd219f50b",
            "max": 1159342,
            "min": 0,
            "orientation": "horizontal",
            "style": "IPY_MODEL_b93afdce4dac44688284dbcf6fb9f187",
            "value": 1159342
          }
        },
        "998c971af7784d87aa4dfe744cd26f7f": {
          "model_module": "@jupyter-widgets/controls",
          "model_name": "HTMLModel",
          "model_module_version": "1.5.0",
          "state": {
            "_dom_classes": [],
            "_model_module": "@jupyter-widgets/controls",
            "_model_module_version": "1.5.0",
            "_model_name": "HTMLModel",
            "_view_count": null,
            "_view_module": "@jupyter-widgets/controls",
            "_view_module_version": "1.5.0",
            "_view_name": "HTMLView",
            "description": "",
            "description_tooltip": null,
            "layout": "IPY_MODEL_26ec1d251e5340e593088f72bc29b063",
            "placeholder": "​",
            "style": "IPY_MODEL_648f0f0595f643a9829dadd19f4559eb",
            "value": " 1.16M/1.16M [00:00&lt;00:00, 8.11MB/s]"
          }
        },
        "071c6c00cde14574bcf938e0a8f0bea6": {
          "model_module": "@jupyter-widgets/base",
          "model_name": "LayoutModel",
          "model_module_version": "1.2.0",
          "state": {
            "_model_module": "@jupyter-widgets/base",
            "_model_module_version": "1.2.0",
            "_model_name": "LayoutModel",
            "_view_count": null,
            "_view_module": "@jupyter-widgets/base",
            "_view_module_version": "1.2.0",
            "_view_name": "LayoutView",
            "align_content": null,
            "align_items": null,
            "align_self": null,
            "border": null,
            "bottom": null,
            "display": null,
            "flex": null,
            "flex_flow": null,
            "grid_area": null,
            "grid_auto_columns": null,
            "grid_auto_flow": null,
            "grid_auto_rows": null,
            "grid_column": null,
            "grid_gap": null,
            "grid_row": null,
            "grid_template_areas": null,
            "grid_template_columns": null,
            "grid_template_rows": null,
            "height": null,
            "justify_content": null,
            "justify_items": null,
            "left": null,
            "margin": null,
            "max_height": null,
            "max_width": null,
            "min_height": null,
            "min_width": null,
            "object_fit": null,
            "object_position": null,
            "order": null,
            "overflow": null,
            "overflow_x": null,
            "overflow_y": null,
            "padding": null,
            "right": null,
            "top": null,
            "visibility": null,
            "width": null
          }
        },
        "03881d4ee44547e4a1ba6eb1a3151bad": {
          "model_module": "@jupyter-widgets/base",
          "model_name": "LayoutModel",
          "model_module_version": "1.2.0",
          "state": {
            "_model_module": "@jupyter-widgets/base",
            "_model_module_version": "1.2.0",
            "_model_name": "LayoutModel",
            "_view_count": null,
            "_view_module": "@jupyter-widgets/base",
            "_view_module_version": "1.2.0",
            "_view_name": "LayoutView",
            "align_content": null,
            "align_items": null,
            "align_self": null,
            "border": null,
            "bottom": null,
            "display": null,
            "flex": null,
            "flex_flow": null,
            "grid_area": null,
            "grid_auto_columns": null,
            "grid_auto_flow": null,
            "grid_auto_rows": null,
            "grid_column": null,
            "grid_gap": null,
            "grid_row": null,
            "grid_template_areas": null,
            "grid_template_columns": null,
            "grid_template_rows": null,
            "height": null,
            "justify_content": null,
            "justify_items": null,
            "left": null,
            "margin": null,
            "max_height": null,
            "max_width": null,
            "min_height": null,
            "min_width": null,
            "object_fit": null,
            "object_position": null,
            "order": null,
            "overflow": null,
            "overflow_x": null,
            "overflow_y": null,
            "padding": null,
            "right": null,
            "top": null,
            "visibility": null,
            "width": null
          }
        },
        "bc8d9574b10b4294933819dc48482f7e": {
          "model_module": "@jupyter-widgets/controls",
          "model_name": "DescriptionStyleModel",
          "model_module_version": "1.5.0",
          "state": {
            "_model_module": "@jupyter-widgets/controls",
            "_model_module_version": "1.5.0",
            "_model_name": "DescriptionStyleModel",
            "_view_count": null,
            "_view_module": "@jupyter-widgets/base",
            "_view_module_version": "1.2.0",
            "_view_name": "StyleView",
            "description_width": ""
          }
        },
        "de8b9307532547228dbe159cd219f50b": {
          "model_module": "@jupyter-widgets/base",
          "model_name": "LayoutModel",
          "model_module_version": "1.2.0",
          "state": {
            "_model_module": "@jupyter-widgets/base",
            "_model_module_version": "1.2.0",
            "_model_name": "LayoutModel",
            "_view_count": null,
            "_view_module": "@jupyter-widgets/base",
            "_view_module_version": "1.2.0",
            "_view_name": "LayoutView",
            "align_content": null,
            "align_items": null,
            "align_self": null,
            "border": null,
            "bottom": null,
            "display": null,
            "flex": null,
            "flex_flow": null,
            "grid_area": null,
            "grid_auto_columns": null,
            "grid_auto_flow": null,
            "grid_auto_rows": null,
            "grid_column": null,
            "grid_gap": null,
            "grid_row": null,
            "grid_template_areas": null,
            "grid_template_columns": null,
            "grid_template_rows": null,
            "height": null,
            "justify_content": null,
            "justify_items": null,
            "left": null,
            "margin": null,
            "max_height": null,
            "max_width": null,
            "min_height": null,
            "min_width": null,
            "object_fit": null,
            "object_position": null,
            "order": null,
            "overflow": null,
            "overflow_x": null,
            "overflow_y": null,
            "padding": null,
            "right": null,
            "top": null,
            "visibility": null,
            "width": null
          }
        },
        "b93afdce4dac44688284dbcf6fb9f187": {
          "model_module": "@jupyter-widgets/controls",
          "model_name": "ProgressStyleModel",
          "model_module_version": "1.5.0",
          "state": {
            "_model_module": "@jupyter-widgets/controls",
            "_model_module_version": "1.5.0",
            "_model_name": "ProgressStyleModel",
            "_view_count": null,
            "_view_module": "@jupyter-widgets/base",
            "_view_module_version": "1.2.0",
            "_view_name": "StyleView",
            "bar_color": null,
            "description_width": ""
          }
        },
        "26ec1d251e5340e593088f72bc29b063": {
          "model_module": "@jupyter-widgets/base",
          "model_name": "LayoutModel",
          "model_module_version": "1.2.0",
          "state": {
            "_model_module": "@jupyter-widgets/base",
            "_model_module_version": "1.2.0",
            "_model_name": "LayoutModel",
            "_view_count": null,
            "_view_module": "@jupyter-widgets/base",
            "_view_module_version": "1.2.0",
            "_view_name": "LayoutView",
            "align_content": null,
            "align_items": null,
            "align_self": null,
            "border": null,
            "bottom": null,
            "display": null,
            "flex": null,
            "flex_flow": null,
            "grid_area": null,
            "grid_auto_columns": null,
            "grid_auto_flow": null,
            "grid_auto_rows": null,
            "grid_column": null,
            "grid_gap": null,
            "grid_row": null,
            "grid_template_areas": null,
            "grid_template_columns": null,
            "grid_template_rows": null,
            "height": null,
            "justify_content": null,
            "justify_items": null,
            "left": null,
            "margin": null,
            "max_height": null,
            "max_width": null,
            "min_height": null,
            "min_width": null,
            "object_fit": null,
            "object_position": null,
            "order": null,
            "overflow": null,
            "overflow_x": null,
            "overflow_y": null,
            "padding": null,
            "right": null,
            "top": null,
            "visibility": null,
            "width": null
          }
        },
        "648f0f0595f643a9829dadd19f4559eb": {
          "model_module": "@jupyter-widgets/controls",
          "model_name": "DescriptionStyleModel",
          "model_module_version": "1.5.0",
          "state": {
            "_model_module": "@jupyter-widgets/controls",
            "_model_module_version": "1.5.0",
            "_model_name": "DescriptionStyleModel",
            "_view_count": null,
            "_view_module": "@jupyter-widgets/base",
            "_view_module_version": "1.2.0",
            "_view_name": "StyleView",
            "description_width": ""
          }
        },
        "101691b1e6a54c9983014b9484c02e1e": {
          "model_module": "@jupyter-widgets/controls",
          "model_name": "HBoxModel",
          "model_module_version": "1.5.0",
          "state": {
            "_dom_classes": [],
            "_model_module": "@jupyter-widgets/controls",
            "_model_module_version": "1.5.0",
            "_model_name": "HBoxModel",
            "_view_count": null,
            "_view_module": "@jupyter-widgets/controls",
            "_view_module_version": "1.5.0",
            "_view_name": "HBoxView",
            "box_style": "",
            "children": [
              "IPY_MODEL_38606a8f78974cb2a3fd86e75c31dd43",
              "IPY_MODEL_7e4404baac7b487380794c29ebb0ece0",
              "IPY_MODEL_38635d8e4e17435c9dda35ab123a20ad"
            ],
            "layout": "IPY_MODEL_e5c2f1eae786431984bee3049086811a"
          }
        },
        "38606a8f78974cb2a3fd86e75c31dd43": {
          "model_module": "@jupyter-widgets/controls",
          "model_name": "HTMLModel",
          "model_module_version": "1.5.0",
          "state": {
            "_dom_classes": [],
            "_model_module": "@jupyter-widgets/controls",
            "_model_module_version": "1.5.0",
            "_model_name": "HTMLModel",
            "_view_count": null,
            "_view_module": "@jupyter-widgets/controls",
            "_view_module_version": "1.5.0",
            "_view_name": "HTMLView",
            "description": "",
            "description_tooltip": null,
            "layout": "IPY_MODEL_9e86dcac831e458e9bb724ddfa671c45",
            "placeholder": "​",
            "style": "IPY_MODEL_da15e6a089914846ab5a57cf0e63ce38",
            "value": "Downloading (…)olve/main/merges.txt: 100%"
          }
        },
        "7e4404baac7b487380794c29ebb0ece0": {
          "model_module": "@jupyter-widgets/controls",
          "model_name": "FloatProgressModel",
          "model_module_version": "1.5.0",
          "state": {
            "_dom_classes": [],
            "_model_module": "@jupyter-widgets/controls",
            "_model_module_version": "1.5.0",
            "_model_name": "FloatProgressModel",
            "_view_count": null,
            "_view_module": "@jupyter-widgets/controls",
            "_view_module_version": "1.5.0",
            "_view_name": "ProgressView",
            "bar_style": "success",
            "description": "",
            "description_tooltip": null,
            "layout": "IPY_MODEL_31faedc632ed42de807ad97b6aac32e9",
            "max": 875476,
            "min": 0,
            "orientation": "horizontal",
            "style": "IPY_MODEL_6d6d41da757a47f8977a16c384079b4e",
            "value": 875476
          }
        },
        "38635d8e4e17435c9dda35ab123a20ad": {
          "model_module": "@jupyter-widgets/controls",
          "model_name": "HTMLModel",
          "model_module_version": "1.5.0",
          "state": {
            "_dom_classes": [],
            "_model_module": "@jupyter-widgets/controls",
            "_model_module_version": "1.5.0",
            "_model_name": "HTMLModel",
            "_view_count": null,
            "_view_module": "@jupyter-widgets/controls",
            "_view_module_version": "1.5.0",
            "_view_name": "HTMLView",
            "description": "",
            "description_tooltip": null,
            "layout": "IPY_MODEL_c64a330e0d4b412fad2b70208d40e50c",
            "placeholder": "​",
            "style": "IPY_MODEL_34fa3d07f88747f4b575ceaa78137071",
            "value": " 875k/875k [00:00&lt;00:00, 16.4MB/s]"
          }
        },
        "e5c2f1eae786431984bee3049086811a": {
          "model_module": "@jupyter-widgets/base",
          "model_name": "LayoutModel",
          "model_module_version": "1.2.0",
          "state": {
            "_model_module": "@jupyter-widgets/base",
            "_model_module_version": "1.2.0",
            "_model_name": "LayoutModel",
            "_view_count": null,
            "_view_module": "@jupyter-widgets/base",
            "_view_module_version": "1.2.0",
            "_view_name": "LayoutView",
            "align_content": null,
            "align_items": null,
            "align_self": null,
            "border": null,
            "bottom": null,
            "display": null,
            "flex": null,
            "flex_flow": null,
            "grid_area": null,
            "grid_auto_columns": null,
            "grid_auto_flow": null,
            "grid_auto_rows": null,
            "grid_column": null,
            "grid_gap": null,
            "grid_row": null,
            "grid_template_areas": null,
            "grid_template_columns": null,
            "grid_template_rows": null,
            "height": null,
            "justify_content": null,
            "justify_items": null,
            "left": null,
            "margin": null,
            "max_height": null,
            "max_width": null,
            "min_height": null,
            "min_width": null,
            "object_fit": null,
            "object_position": null,
            "order": null,
            "overflow": null,
            "overflow_x": null,
            "overflow_y": null,
            "padding": null,
            "right": null,
            "top": null,
            "visibility": null,
            "width": null
          }
        },
        "9e86dcac831e458e9bb724ddfa671c45": {
          "model_module": "@jupyter-widgets/base",
          "model_name": "LayoutModel",
          "model_module_version": "1.2.0",
          "state": {
            "_model_module": "@jupyter-widgets/base",
            "_model_module_version": "1.2.0",
            "_model_name": "LayoutModel",
            "_view_count": null,
            "_view_module": "@jupyter-widgets/base",
            "_view_module_version": "1.2.0",
            "_view_name": "LayoutView",
            "align_content": null,
            "align_items": null,
            "align_self": null,
            "border": null,
            "bottom": null,
            "display": null,
            "flex": null,
            "flex_flow": null,
            "grid_area": null,
            "grid_auto_columns": null,
            "grid_auto_flow": null,
            "grid_auto_rows": null,
            "grid_column": null,
            "grid_gap": null,
            "grid_row": null,
            "grid_template_areas": null,
            "grid_template_columns": null,
            "grid_template_rows": null,
            "height": null,
            "justify_content": null,
            "justify_items": null,
            "left": null,
            "margin": null,
            "max_height": null,
            "max_width": null,
            "min_height": null,
            "min_width": null,
            "object_fit": null,
            "object_position": null,
            "order": null,
            "overflow": null,
            "overflow_x": null,
            "overflow_y": null,
            "padding": null,
            "right": null,
            "top": null,
            "visibility": null,
            "width": null
          }
        },
        "da15e6a089914846ab5a57cf0e63ce38": {
          "model_module": "@jupyter-widgets/controls",
          "model_name": "DescriptionStyleModel",
          "model_module_version": "1.5.0",
          "state": {
            "_model_module": "@jupyter-widgets/controls",
            "_model_module_version": "1.5.0",
            "_model_name": "DescriptionStyleModel",
            "_view_count": null,
            "_view_module": "@jupyter-widgets/base",
            "_view_module_version": "1.2.0",
            "_view_name": "StyleView",
            "description_width": ""
          }
        },
        "31faedc632ed42de807ad97b6aac32e9": {
          "model_module": "@jupyter-widgets/base",
          "model_name": "LayoutModel",
          "model_module_version": "1.2.0",
          "state": {
            "_model_module": "@jupyter-widgets/base",
            "_model_module_version": "1.2.0",
            "_model_name": "LayoutModel",
            "_view_count": null,
            "_view_module": "@jupyter-widgets/base",
            "_view_module_version": "1.2.0",
            "_view_name": "LayoutView",
            "align_content": null,
            "align_items": null,
            "align_self": null,
            "border": null,
            "bottom": null,
            "display": null,
            "flex": null,
            "flex_flow": null,
            "grid_area": null,
            "grid_auto_columns": null,
            "grid_auto_flow": null,
            "grid_auto_rows": null,
            "grid_column": null,
            "grid_gap": null,
            "grid_row": null,
            "grid_template_areas": null,
            "grid_template_columns": null,
            "grid_template_rows": null,
            "height": null,
            "justify_content": null,
            "justify_items": null,
            "left": null,
            "margin": null,
            "max_height": null,
            "max_width": null,
            "min_height": null,
            "min_width": null,
            "object_fit": null,
            "object_position": null,
            "order": null,
            "overflow": null,
            "overflow_x": null,
            "overflow_y": null,
            "padding": null,
            "right": null,
            "top": null,
            "visibility": null,
            "width": null
          }
        },
        "6d6d41da757a47f8977a16c384079b4e": {
          "model_module": "@jupyter-widgets/controls",
          "model_name": "ProgressStyleModel",
          "model_module_version": "1.5.0",
          "state": {
            "_model_module": "@jupyter-widgets/controls",
            "_model_module_version": "1.5.0",
            "_model_name": "ProgressStyleModel",
            "_view_count": null,
            "_view_module": "@jupyter-widgets/base",
            "_view_module_version": "1.2.0",
            "_view_name": "StyleView",
            "bar_color": null,
            "description_width": ""
          }
        },
        "c64a330e0d4b412fad2b70208d40e50c": {
          "model_module": "@jupyter-widgets/base",
          "model_name": "LayoutModel",
          "model_module_version": "1.2.0",
          "state": {
            "_model_module": "@jupyter-widgets/base",
            "_model_module_version": "1.2.0",
            "_model_name": "LayoutModel",
            "_view_count": null,
            "_view_module": "@jupyter-widgets/base",
            "_view_module_version": "1.2.0",
            "_view_name": "LayoutView",
            "align_content": null,
            "align_items": null,
            "align_self": null,
            "border": null,
            "bottom": null,
            "display": null,
            "flex": null,
            "flex_flow": null,
            "grid_area": null,
            "grid_auto_columns": null,
            "grid_auto_flow": null,
            "grid_auto_rows": null,
            "grid_column": null,
            "grid_gap": null,
            "grid_row": null,
            "grid_template_areas": null,
            "grid_template_columns": null,
            "grid_template_rows": null,
            "height": null,
            "justify_content": null,
            "justify_items": null,
            "left": null,
            "margin": null,
            "max_height": null,
            "max_width": null,
            "min_height": null,
            "min_width": null,
            "object_fit": null,
            "object_position": null,
            "order": null,
            "overflow": null,
            "overflow_x": null,
            "overflow_y": null,
            "padding": null,
            "right": null,
            "top": null,
            "visibility": null,
            "width": null
          }
        },
        "34fa3d07f88747f4b575ceaa78137071": {
          "model_module": "@jupyter-widgets/controls",
          "model_name": "DescriptionStyleModel",
          "model_module_version": "1.5.0",
          "state": {
            "_model_module": "@jupyter-widgets/controls",
            "_model_module_version": "1.5.0",
            "_model_name": "DescriptionStyleModel",
            "_view_count": null,
            "_view_module": "@jupyter-widgets/base",
            "_view_module_version": "1.2.0",
            "_view_name": "StyleView",
            "description_width": ""
          }
        },
        "d1b6b0eb63924af28c93b6d4a82f90ec": {
          "model_module": "@jupyter-widgets/controls",
          "model_name": "HBoxModel",
          "model_module_version": "1.5.0",
          "state": {
            "_dom_classes": [],
            "_model_module": "@jupyter-widgets/controls",
            "_model_module_version": "1.5.0",
            "_model_name": "HBoxModel",
            "_view_count": null,
            "_view_module": "@jupyter-widgets/controls",
            "_view_module_version": "1.5.0",
            "_view_name": "HBoxView",
            "box_style": "",
            "children": [
              "IPY_MODEL_b7ff7d7cf453441ca0f5f6f1cee225f9",
              "IPY_MODEL_64ecac72df934b7b90e3a9ff58e071ff",
              "IPY_MODEL_bf53b59269af45b0ae87f72096ccf4c0"
            ],
            "layout": "IPY_MODEL_1d6b61a1b84e4c59b08d522710506294"
          }
        },
        "b7ff7d7cf453441ca0f5f6f1cee225f9": {
          "model_module": "@jupyter-widgets/controls",
          "model_name": "HTMLModel",
          "model_module_version": "1.5.0",
          "state": {
            "_dom_classes": [],
            "_model_module": "@jupyter-widgets/controls",
            "_model_module_version": "1.5.0",
            "_model_name": "HTMLModel",
            "_view_count": null,
            "_view_module": "@jupyter-widgets/controls",
            "_view_module_version": "1.5.0",
            "_view_name": "HTMLView",
            "description": "",
            "description_tooltip": null,
            "layout": "IPY_MODEL_01fda2b8abfa415eb0840f0709b8854e",
            "placeholder": "​",
            "style": "IPY_MODEL_23d4836a154446238528477ecf7a1a08",
            "value": "Downloading (…)/main/tokenizer.json: 100%"
          }
        },
        "64ecac72df934b7b90e3a9ff58e071ff": {
          "model_module": "@jupyter-widgets/controls",
          "model_name": "FloatProgressModel",
          "model_module_version": "1.5.0",
          "state": {
            "_dom_classes": [],
            "_model_module": "@jupyter-widgets/controls",
            "_model_module_version": "1.5.0",
            "_model_name": "FloatProgressModel",
            "_view_count": null,
            "_view_module": "@jupyter-widgets/controls",
            "_view_module_version": "1.5.0",
            "_view_name": "ProgressView",
            "bar_style": "success",
            "description": "",
            "description_tooltip": null,
            "layout": "IPY_MODEL_1a165b5cc9834c5db7b01a95d24e9f27",
            "max": 2748949,
            "min": 0,
            "orientation": "horizontal",
            "style": "IPY_MODEL_53dc72849eee4c39bc83a361fb39996f",
            "value": 2748949
          }
        },
        "bf53b59269af45b0ae87f72096ccf4c0": {
          "model_module": "@jupyter-widgets/controls",
          "model_name": "HTMLModel",
          "model_module_version": "1.5.0",
          "state": {
            "_dom_classes": [],
            "_model_module": "@jupyter-widgets/controls",
            "_model_module_version": "1.5.0",
            "_model_name": "HTMLModel",
            "_view_count": null,
            "_view_module": "@jupyter-widgets/controls",
            "_view_module_version": "1.5.0",
            "_view_name": "HTMLView",
            "description": "",
            "description_tooltip": null,
            "layout": "IPY_MODEL_122261d912a244f4ac4bddc6767870bd",
            "placeholder": "​",
            "style": "IPY_MODEL_776d50d9bb62466a8b3688784d992c42",
            "value": " 2.75M/2.75M [00:00&lt;00:00, 21.6MB/s]"
          }
        },
        "1d6b61a1b84e4c59b08d522710506294": {
          "model_module": "@jupyter-widgets/base",
          "model_name": "LayoutModel",
          "model_module_version": "1.2.0",
          "state": {
            "_model_module": "@jupyter-widgets/base",
            "_model_module_version": "1.2.0",
            "_model_name": "LayoutModel",
            "_view_count": null,
            "_view_module": "@jupyter-widgets/base",
            "_view_module_version": "1.2.0",
            "_view_name": "LayoutView",
            "align_content": null,
            "align_items": null,
            "align_self": null,
            "border": null,
            "bottom": null,
            "display": null,
            "flex": null,
            "flex_flow": null,
            "grid_area": null,
            "grid_auto_columns": null,
            "grid_auto_flow": null,
            "grid_auto_rows": null,
            "grid_column": null,
            "grid_gap": null,
            "grid_row": null,
            "grid_template_areas": null,
            "grid_template_columns": null,
            "grid_template_rows": null,
            "height": null,
            "justify_content": null,
            "justify_items": null,
            "left": null,
            "margin": null,
            "max_height": null,
            "max_width": null,
            "min_height": null,
            "min_width": null,
            "object_fit": null,
            "object_position": null,
            "order": null,
            "overflow": null,
            "overflow_x": null,
            "overflow_y": null,
            "padding": null,
            "right": null,
            "top": null,
            "visibility": null,
            "width": null
          }
        },
        "01fda2b8abfa415eb0840f0709b8854e": {
          "model_module": "@jupyter-widgets/base",
          "model_name": "LayoutModel",
          "model_module_version": "1.2.0",
          "state": {
            "_model_module": "@jupyter-widgets/base",
            "_model_module_version": "1.2.0",
            "_model_name": "LayoutModel",
            "_view_count": null,
            "_view_module": "@jupyter-widgets/base",
            "_view_module_version": "1.2.0",
            "_view_name": "LayoutView",
            "align_content": null,
            "align_items": null,
            "align_self": null,
            "border": null,
            "bottom": null,
            "display": null,
            "flex": null,
            "flex_flow": null,
            "grid_area": null,
            "grid_auto_columns": null,
            "grid_auto_flow": null,
            "grid_auto_rows": null,
            "grid_column": null,
            "grid_gap": null,
            "grid_row": null,
            "grid_template_areas": null,
            "grid_template_columns": null,
            "grid_template_rows": null,
            "height": null,
            "justify_content": null,
            "justify_items": null,
            "left": null,
            "margin": null,
            "max_height": null,
            "max_width": null,
            "min_height": null,
            "min_width": null,
            "object_fit": null,
            "object_position": null,
            "order": null,
            "overflow": null,
            "overflow_x": null,
            "overflow_y": null,
            "padding": null,
            "right": null,
            "top": null,
            "visibility": null,
            "width": null
          }
        },
        "23d4836a154446238528477ecf7a1a08": {
          "model_module": "@jupyter-widgets/controls",
          "model_name": "DescriptionStyleModel",
          "model_module_version": "1.5.0",
          "state": {
            "_model_module": "@jupyter-widgets/controls",
            "_model_module_version": "1.5.0",
            "_model_name": "DescriptionStyleModel",
            "_view_count": null,
            "_view_module": "@jupyter-widgets/base",
            "_view_module_version": "1.2.0",
            "_view_name": "StyleView",
            "description_width": ""
          }
        },
        "1a165b5cc9834c5db7b01a95d24e9f27": {
          "model_module": "@jupyter-widgets/base",
          "model_name": "LayoutModel",
          "model_module_version": "1.2.0",
          "state": {
            "_model_module": "@jupyter-widgets/base",
            "_model_module_version": "1.2.0",
            "_model_name": "LayoutModel",
            "_view_count": null,
            "_view_module": "@jupyter-widgets/base",
            "_view_module_version": "1.2.0",
            "_view_name": "LayoutView",
            "align_content": null,
            "align_items": null,
            "align_self": null,
            "border": null,
            "bottom": null,
            "display": null,
            "flex": null,
            "flex_flow": null,
            "grid_area": null,
            "grid_auto_columns": null,
            "grid_auto_flow": null,
            "grid_auto_rows": null,
            "grid_column": null,
            "grid_gap": null,
            "grid_row": null,
            "grid_template_areas": null,
            "grid_template_columns": null,
            "grid_template_rows": null,
            "height": null,
            "justify_content": null,
            "justify_items": null,
            "left": null,
            "margin": null,
            "max_height": null,
            "max_width": null,
            "min_height": null,
            "min_width": null,
            "object_fit": null,
            "object_position": null,
            "order": null,
            "overflow": null,
            "overflow_x": null,
            "overflow_y": null,
            "padding": null,
            "right": null,
            "top": null,
            "visibility": null,
            "width": null
          }
        },
        "53dc72849eee4c39bc83a361fb39996f": {
          "model_module": "@jupyter-widgets/controls",
          "model_name": "ProgressStyleModel",
          "model_module_version": "1.5.0",
          "state": {
            "_model_module": "@jupyter-widgets/controls",
            "_model_module_version": "1.5.0",
            "_model_name": "ProgressStyleModel",
            "_view_count": null,
            "_view_module": "@jupyter-widgets/base",
            "_view_module_version": "1.2.0",
            "_view_name": "StyleView",
            "bar_color": null,
            "description_width": ""
          }
        },
        "122261d912a244f4ac4bddc6767870bd": {
          "model_module": "@jupyter-widgets/base",
          "model_name": "LayoutModel",
          "model_module_version": "1.2.0",
          "state": {
            "_model_module": "@jupyter-widgets/base",
            "_model_module_version": "1.2.0",
            "_model_name": "LayoutModel",
            "_view_count": null,
            "_view_module": "@jupyter-widgets/base",
            "_view_module_version": "1.2.0",
            "_view_name": "LayoutView",
            "align_content": null,
            "align_items": null,
            "align_self": null,
            "border": null,
            "bottom": null,
            "display": null,
            "flex": null,
            "flex_flow": null,
            "grid_area": null,
            "grid_auto_columns": null,
            "grid_auto_flow": null,
            "grid_auto_rows": null,
            "grid_column": null,
            "grid_gap": null,
            "grid_row": null,
            "grid_template_areas": null,
            "grid_template_columns": null,
            "grid_template_rows": null,
            "height": null,
            "justify_content": null,
            "justify_items": null,
            "left": null,
            "margin": null,
            "max_height": null,
            "max_width": null,
            "min_height": null,
            "min_width": null,
            "object_fit": null,
            "object_position": null,
            "order": null,
            "overflow": null,
            "overflow_x": null,
            "overflow_y": null,
            "padding": null,
            "right": null,
            "top": null,
            "visibility": null,
            "width": null
          }
        },
        "776d50d9bb62466a8b3688784d992c42": {
          "model_module": "@jupyter-widgets/controls",
          "model_name": "DescriptionStyleModel",
          "model_module_version": "1.5.0",
          "state": {
            "_model_module": "@jupyter-widgets/controls",
            "_model_module_version": "1.5.0",
            "_model_name": "DescriptionStyleModel",
            "_view_count": null,
            "_view_module": "@jupyter-widgets/base",
            "_view_module_version": "1.2.0",
            "_view_name": "StyleView",
            "description_width": ""
          }
        },
        "60b5d9376c16479180c6aabb3574e5c0": {
          "model_module": "@jupyter-widgets/controls",
          "model_name": "HBoxModel",
          "model_module_version": "1.5.0",
          "state": {
            "_dom_classes": [],
            "_model_module": "@jupyter-widgets/controls",
            "_model_module_version": "1.5.0",
            "_model_name": "HBoxModel",
            "_view_count": null,
            "_view_module": "@jupyter-widgets/controls",
            "_view_module_version": "1.5.0",
            "_view_name": "HBoxView",
            "box_style": "",
            "children": [
              "IPY_MODEL_9f74a2ea3a0141e78ade9125b482a809",
              "IPY_MODEL_d7296a88e3cd41e8ac255b1c2720861b",
              "IPY_MODEL_bc8d405ff28c4156939e0397855b6588"
            ],
            "layout": "IPY_MODEL_8e4facc4f4da491ea77fde4d033a6287"
          }
        },
        "9f74a2ea3a0141e78ade9125b482a809": {
          "model_module": "@jupyter-widgets/controls",
          "model_name": "HTMLModel",
          "model_module_version": "1.5.0",
          "state": {
            "_dom_classes": [],
            "_model_module": "@jupyter-widgets/controls",
            "_model_module_version": "1.5.0",
            "_model_name": "HTMLModel",
            "_view_count": null,
            "_view_module": "@jupyter-widgets/controls",
            "_view_module_version": "1.5.0",
            "_view_name": "HTMLView",
            "description": "",
            "description_tooltip": null,
            "layout": "IPY_MODEL_18b1d203b2134397b57b1c83c48526bc",
            "placeholder": "​",
            "style": "IPY_MODEL_a8c64c69c6fd4ee2ad20358152735461",
            "value": "Downloading (…)in/added_tokens.json: 100%"
          }
        },
        "d7296a88e3cd41e8ac255b1c2720861b": {
          "model_module": "@jupyter-widgets/controls",
          "model_name": "FloatProgressModel",
          "model_module_version": "1.5.0",
          "state": {
            "_dom_classes": [],
            "_model_module": "@jupyter-widgets/controls",
            "_model_module_version": "1.5.0",
            "_model_name": "FloatProgressModel",
            "_view_count": null,
            "_view_module": "@jupyter-widgets/controls",
            "_view_module_version": "1.5.0",
            "_view_name": "ProgressView",
            "bar_style": "success",
            "description": "",
            "description_tooltip": null,
            "layout": "IPY_MODEL_2860e0e9acb94cae85e8e5e7dceac1bb",
            "max": 14,
            "min": 0,
            "orientation": "horizontal",
            "style": "IPY_MODEL_66a9eabff6ea46f38c26da56bc32b26c",
            "value": 14
          }
        },
        "bc8d405ff28c4156939e0397855b6588": {
          "model_module": "@jupyter-widgets/controls",
          "model_name": "HTMLModel",
          "model_module_version": "1.5.0",
          "state": {
            "_dom_classes": [],
            "_model_module": "@jupyter-widgets/controls",
            "_model_module_version": "1.5.0",
            "_model_name": "HTMLModel",
            "_view_count": null,
            "_view_module": "@jupyter-widgets/controls",
            "_view_module_version": "1.5.0",
            "_view_name": "HTMLView",
            "description": "",
            "description_tooltip": null,
            "layout": "IPY_MODEL_9970ba6a29f943ebbc040ea6804cb794",
            "placeholder": "​",
            "style": "IPY_MODEL_cf40f0cf9e294e8a850486bc820148fa",
            "value": " 14.0/14.0 [00:00&lt;00:00, 413B/s]"
          }
        },
        "8e4facc4f4da491ea77fde4d033a6287": {
          "model_module": "@jupyter-widgets/base",
          "model_name": "LayoutModel",
          "model_module_version": "1.2.0",
          "state": {
            "_model_module": "@jupyter-widgets/base",
            "_model_module_version": "1.2.0",
            "_model_name": "LayoutModel",
            "_view_count": null,
            "_view_module": "@jupyter-widgets/base",
            "_view_module_version": "1.2.0",
            "_view_name": "LayoutView",
            "align_content": null,
            "align_items": null,
            "align_self": null,
            "border": null,
            "bottom": null,
            "display": null,
            "flex": null,
            "flex_flow": null,
            "grid_area": null,
            "grid_auto_columns": null,
            "grid_auto_flow": null,
            "grid_auto_rows": null,
            "grid_column": null,
            "grid_gap": null,
            "grid_row": null,
            "grid_template_areas": null,
            "grid_template_columns": null,
            "grid_template_rows": null,
            "height": null,
            "justify_content": null,
            "justify_items": null,
            "left": null,
            "margin": null,
            "max_height": null,
            "max_width": null,
            "min_height": null,
            "min_width": null,
            "object_fit": null,
            "object_position": null,
            "order": null,
            "overflow": null,
            "overflow_x": null,
            "overflow_y": null,
            "padding": null,
            "right": null,
            "top": null,
            "visibility": null,
            "width": null
          }
        },
        "18b1d203b2134397b57b1c83c48526bc": {
          "model_module": "@jupyter-widgets/base",
          "model_name": "LayoutModel",
          "model_module_version": "1.2.0",
          "state": {
            "_model_module": "@jupyter-widgets/base",
            "_model_module_version": "1.2.0",
            "_model_name": "LayoutModel",
            "_view_count": null,
            "_view_module": "@jupyter-widgets/base",
            "_view_module_version": "1.2.0",
            "_view_name": "LayoutView",
            "align_content": null,
            "align_items": null,
            "align_self": null,
            "border": null,
            "bottom": null,
            "display": null,
            "flex": null,
            "flex_flow": null,
            "grid_area": null,
            "grid_auto_columns": null,
            "grid_auto_flow": null,
            "grid_auto_rows": null,
            "grid_column": null,
            "grid_gap": null,
            "grid_row": null,
            "grid_template_areas": null,
            "grid_template_columns": null,
            "grid_template_rows": null,
            "height": null,
            "justify_content": null,
            "justify_items": null,
            "left": null,
            "margin": null,
            "max_height": null,
            "max_width": null,
            "min_height": null,
            "min_width": null,
            "object_fit": null,
            "object_position": null,
            "order": null,
            "overflow": null,
            "overflow_x": null,
            "overflow_y": null,
            "padding": null,
            "right": null,
            "top": null,
            "visibility": null,
            "width": null
          }
        },
        "a8c64c69c6fd4ee2ad20358152735461": {
          "model_module": "@jupyter-widgets/controls",
          "model_name": "DescriptionStyleModel",
          "model_module_version": "1.5.0",
          "state": {
            "_model_module": "@jupyter-widgets/controls",
            "_model_module_version": "1.5.0",
            "_model_name": "DescriptionStyleModel",
            "_view_count": null,
            "_view_module": "@jupyter-widgets/base",
            "_view_module_version": "1.2.0",
            "_view_name": "StyleView",
            "description_width": ""
          }
        },
        "2860e0e9acb94cae85e8e5e7dceac1bb": {
          "model_module": "@jupyter-widgets/base",
          "model_name": "LayoutModel",
          "model_module_version": "1.2.0",
          "state": {
            "_model_module": "@jupyter-widgets/base",
            "_model_module_version": "1.2.0",
            "_model_name": "LayoutModel",
            "_view_count": null,
            "_view_module": "@jupyter-widgets/base",
            "_view_module_version": "1.2.0",
            "_view_name": "LayoutView",
            "align_content": null,
            "align_items": null,
            "align_self": null,
            "border": null,
            "bottom": null,
            "display": null,
            "flex": null,
            "flex_flow": null,
            "grid_area": null,
            "grid_auto_columns": null,
            "grid_auto_flow": null,
            "grid_auto_rows": null,
            "grid_column": null,
            "grid_gap": null,
            "grid_row": null,
            "grid_template_areas": null,
            "grid_template_columns": null,
            "grid_template_rows": null,
            "height": null,
            "justify_content": null,
            "justify_items": null,
            "left": null,
            "margin": null,
            "max_height": null,
            "max_width": null,
            "min_height": null,
            "min_width": null,
            "object_fit": null,
            "object_position": null,
            "order": null,
            "overflow": null,
            "overflow_x": null,
            "overflow_y": null,
            "padding": null,
            "right": null,
            "top": null,
            "visibility": null,
            "width": null
          }
        },
        "66a9eabff6ea46f38c26da56bc32b26c": {
          "model_module": "@jupyter-widgets/controls",
          "model_name": "ProgressStyleModel",
          "model_module_version": "1.5.0",
          "state": {
            "_model_module": "@jupyter-widgets/controls",
            "_model_module_version": "1.5.0",
            "_model_name": "ProgressStyleModel",
            "_view_count": null,
            "_view_module": "@jupyter-widgets/base",
            "_view_module_version": "1.2.0",
            "_view_name": "StyleView",
            "bar_color": null,
            "description_width": ""
          }
        },
        "9970ba6a29f943ebbc040ea6804cb794": {
          "model_module": "@jupyter-widgets/base",
          "model_name": "LayoutModel",
          "model_module_version": "1.2.0",
          "state": {
            "_model_module": "@jupyter-widgets/base",
            "_model_module_version": "1.2.0",
            "_model_name": "LayoutModel",
            "_view_count": null,
            "_view_module": "@jupyter-widgets/base",
            "_view_module_version": "1.2.0",
            "_view_name": "LayoutView",
            "align_content": null,
            "align_items": null,
            "align_self": null,
            "border": null,
            "bottom": null,
            "display": null,
            "flex": null,
            "flex_flow": null,
            "grid_area": null,
            "grid_auto_columns": null,
            "grid_auto_flow": null,
            "grid_auto_rows": null,
            "grid_column": null,
            "grid_gap": null,
            "grid_row": null,
            "grid_template_areas": null,
            "grid_template_columns": null,
            "grid_template_rows": null,
            "height": null,
            "justify_content": null,
            "justify_items": null,
            "left": null,
            "margin": null,
            "max_height": null,
            "max_width": null,
            "min_height": null,
            "min_width": null,
            "object_fit": null,
            "object_position": null,
            "order": null,
            "overflow": null,
            "overflow_x": null,
            "overflow_y": null,
            "padding": null,
            "right": null,
            "top": null,
            "visibility": null,
            "width": null
          }
        },
        "cf40f0cf9e294e8a850486bc820148fa": {
          "model_module": "@jupyter-widgets/controls",
          "model_name": "DescriptionStyleModel",
          "model_module_version": "1.5.0",
          "state": {
            "_model_module": "@jupyter-widgets/controls",
            "_model_module_version": "1.5.0",
            "_model_name": "DescriptionStyleModel",
            "_view_count": null,
            "_view_module": "@jupyter-widgets/base",
            "_view_module_version": "1.2.0",
            "_view_name": "StyleView",
            "description_width": ""
          }
        },
        "a1d5fdd1c27b435e8ee8194cebf65847": {
          "model_module": "@jupyter-widgets/controls",
          "model_name": "HBoxModel",
          "model_module_version": "1.5.0",
          "state": {
            "_dom_classes": [],
            "_model_module": "@jupyter-widgets/controls",
            "_model_module_version": "1.5.0",
            "_model_name": "HBoxModel",
            "_view_count": null,
            "_view_module": "@jupyter-widgets/controls",
            "_view_module_version": "1.5.0",
            "_view_name": "HBoxView",
            "box_style": "",
            "children": [
              "IPY_MODEL_cf72f040849d49ffa0c287a5750c52e5",
              "IPY_MODEL_a25e10cbcdd14fca99167bc55c6e7e21",
              "IPY_MODEL_8fec514d89e04e8091b9f3313e295751"
            ],
            "layout": "IPY_MODEL_ed0d74416bcd4967b4e45893d85dd732"
          }
        },
        "cf72f040849d49ffa0c287a5750c52e5": {
          "model_module": "@jupyter-widgets/controls",
          "model_name": "HTMLModel",
          "model_module_version": "1.5.0",
          "state": {
            "_dom_classes": [],
            "_model_module": "@jupyter-widgets/controls",
            "_model_module_version": "1.5.0",
            "_model_name": "HTMLModel",
            "_view_count": null,
            "_view_module": "@jupyter-widgets/controls",
            "_view_module_version": "1.5.0",
            "_view_name": "HTMLView",
            "description": "",
            "description_tooltip": null,
            "layout": "IPY_MODEL_e631e7eb25d44577a38810568f77b676",
            "placeholder": "​",
            "style": "IPY_MODEL_d1aaee64ef014085b849d15a4ee7f473",
            "value": "Downloading (…)cial_tokens_map.json: 100%"
          }
        },
        "a25e10cbcdd14fca99167bc55c6e7e21": {
          "model_module": "@jupyter-widgets/controls",
          "model_name": "FloatProgressModel",
          "model_module_version": "1.5.0",
          "state": {
            "_dom_classes": [],
            "_model_module": "@jupyter-widgets/controls",
            "_model_module_version": "1.5.0",
            "_model_name": "FloatProgressModel",
            "_view_count": null,
            "_view_module": "@jupyter-widgets/controls",
            "_view_module_version": "1.5.0",
            "_view_name": "ProgressView",
            "bar_style": "success",
            "description": "",
            "description_tooltip": null,
            "layout": "IPY_MODEL_b62e056c7fe1433ca9d6b28e4c324cc6",
            "max": 104,
            "min": 0,
            "orientation": "horizontal",
            "style": "IPY_MODEL_849adaf217de4aa19b45f683fe2f78fb",
            "value": 104
          }
        },
        "8fec514d89e04e8091b9f3313e295751": {
          "model_module": "@jupyter-widgets/controls",
          "model_name": "HTMLModel",
          "model_module_version": "1.5.0",
          "state": {
            "_dom_classes": [],
            "_model_module": "@jupyter-widgets/controls",
            "_model_module_version": "1.5.0",
            "_model_name": "HTMLModel",
            "_view_count": null,
            "_view_module": "@jupyter-widgets/controls",
            "_view_module_version": "1.5.0",
            "_view_name": "HTMLView",
            "description": "",
            "description_tooltip": null,
            "layout": "IPY_MODEL_867e33ee088743c8bb3b5b71e2406e67",
            "placeholder": "​",
            "style": "IPY_MODEL_ad6aee5f65eb4f1eb653f6f59135b52a",
            "value": " 104/104 [00:00&lt;00:00, 5.87kB/s]"
          }
        },
        "ed0d74416bcd4967b4e45893d85dd732": {
          "model_module": "@jupyter-widgets/base",
          "model_name": "LayoutModel",
          "model_module_version": "1.2.0",
          "state": {
            "_model_module": "@jupyter-widgets/base",
            "_model_module_version": "1.2.0",
            "_model_name": "LayoutModel",
            "_view_count": null,
            "_view_module": "@jupyter-widgets/base",
            "_view_module_version": "1.2.0",
            "_view_name": "LayoutView",
            "align_content": null,
            "align_items": null,
            "align_self": null,
            "border": null,
            "bottom": null,
            "display": null,
            "flex": null,
            "flex_flow": null,
            "grid_area": null,
            "grid_auto_columns": null,
            "grid_auto_flow": null,
            "grid_auto_rows": null,
            "grid_column": null,
            "grid_gap": null,
            "grid_row": null,
            "grid_template_areas": null,
            "grid_template_columns": null,
            "grid_template_rows": null,
            "height": null,
            "justify_content": null,
            "justify_items": null,
            "left": null,
            "margin": null,
            "max_height": null,
            "max_width": null,
            "min_height": null,
            "min_width": null,
            "object_fit": null,
            "object_position": null,
            "order": null,
            "overflow": null,
            "overflow_x": null,
            "overflow_y": null,
            "padding": null,
            "right": null,
            "top": null,
            "visibility": null,
            "width": null
          }
        },
        "e631e7eb25d44577a38810568f77b676": {
          "model_module": "@jupyter-widgets/base",
          "model_name": "LayoutModel",
          "model_module_version": "1.2.0",
          "state": {
            "_model_module": "@jupyter-widgets/base",
            "_model_module_version": "1.2.0",
            "_model_name": "LayoutModel",
            "_view_count": null,
            "_view_module": "@jupyter-widgets/base",
            "_view_module_version": "1.2.0",
            "_view_name": "LayoutView",
            "align_content": null,
            "align_items": null,
            "align_self": null,
            "border": null,
            "bottom": null,
            "display": null,
            "flex": null,
            "flex_flow": null,
            "grid_area": null,
            "grid_auto_columns": null,
            "grid_auto_flow": null,
            "grid_auto_rows": null,
            "grid_column": null,
            "grid_gap": null,
            "grid_row": null,
            "grid_template_areas": null,
            "grid_template_columns": null,
            "grid_template_rows": null,
            "height": null,
            "justify_content": null,
            "justify_items": null,
            "left": null,
            "margin": null,
            "max_height": null,
            "max_width": null,
            "min_height": null,
            "min_width": null,
            "object_fit": null,
            "object_position": null,
            "order": null,
            "overflow": null,
            "overflow_x": null,
            "overflow_y": null,
            "padding": null,
            "right": null,
            "top": null,
            "visibility": null,
            "width": null
          }
        },
        "d1aaee64ef014085b849d15a4ee7f473": {
          "model_module": "@jupyter-widgets/controls",
          "model_name": "DescriptionStyleModel",
          "model_module_version": "1.5.0",
          "state": {
            "_model_module": "@jupyter-widgets/controls",
            "_model_module_version": "1.5.0",
            "_model_name": "DescriptionStyleModel",
            "_view_count": null,
            "_view_module": "@jupyter-widgets/base",
            "_view_module_version": "1.2.0",
            "_view_name": "StyleView",
            "description_width": ""
          }
        },
        "b62e056c7fe1433ca9d6b28e4c324cc6": {
          "model_module": "@jupyter-widgets/base",
          "model_name": "LayoutModel",
          "model_module_version": "1.2.0",
          "state": {
            "_model_module": "@jupyter-widgets/base",
            "_model_module_version": "1.2.0",
            "_model_name": "LayoutModel",
            "_view_count": null,
            "_view_module": "@jupyter-widgets/base",
            "_view_module_version": "1.2.0",
            "_view_name": "LayoutView",
            "align_content": null,
            "align_items": null,
            "align_self": null,
            "border": null,
            "bottom": null,
            "display": null,
            "flex": null,
            "flex_flow": null,
            "grid_area": null,
            "grid_auto_columns": null,
            "grid_auto_flow": null,
            "grid_auto_rows": null,
            "grid_column": null,
            "grid_gap": null,
            "grid_row": null,
            "grid_template_areas": null,
            "grid_template_columns": null,
            "grid_template_rows": null,
            "height": null,
            "justify_content": null,
            "justify_items": null,
            "left": null,
            "margin": null,
            "max_height": null,
            "max_width": null,
            "min_height": null,
            "min_width": null,
            "object_fit": null,
            "object_position": null,
            "order": null,
            "overflow": null,
            "overflow_x": null,
            "overflow_y": null,
            "padding": null,
            "right": null,
            "top": null,
            "visibility": null,
            "width": null
          }
        },
        "849adaf217de4aa19b45f683fe2f78fb": {
          "model_module": "@jupyter-widgets/controls",
          "model_name": "ProgressStyleModel",
          "model_module_version": "1.5.0",
          "state": {
            "_model_module": "@jupyter-widgets/controls",
            "_model_module_version": "1.5.0",
            "_model_name": "ProgressStyleModel",
            "_view_count": null,
            "_view_module": "@jupyter-widgets/base",
            "_view_module_version": "1.2.0",
            "_view_name": "StyleView",
            "bar_color": null,
            "description_width": ""
          }
        },
        "867e33ee088743c8bb3b5b71e2406e67": {
          "model_module": "@jupyter-widgets/base",
          "model_name": "LayoutModel",
          "model_module_version": "1.2.0",
          "state": {
            "_model_module": "@jupyter-widgets/base",
            "_model_module_version": "1.2.0",
            "_model_name": "LayoutModel",
            "_view_count": null,
            "_view_module": "@jupyter-widgets/base",
            "_view_module_version": "1.2.0",
            "_view_name": "LayoutView",
            "align_content": null,
            "align_items": null,
            "align_self": null,
            "border": null,
            "bottom": null,
            "display": null,
            "flex": null,
            "flex_flow": null,
            "grid_area": null,
            "grid_auto_columns": null,
            "grid_auto_flow": null,
            "grid_auto_rows": null,
            "grid_column": null,
            "grid_gap": null,
            "grid_row": null,
            "grid_template_areas": null,
            "grid_template_columns": null,
            "grid_template_rows": null,
            "height": null,
            "justify_content": null,
            "justify_items": null,
            "left": null,
            "margin": null,
            "max_height": null,
            "max_width": null,
            "min_height": null,
            "min_width": null,
            "object_fit": null,
            "object_position": null,
            "order": null,
            "overflow": null,
            "overflow_x": null,
            "overflow_y": null,
            "padding": null,
            "right": null,
            "top": null,
            "visibility": null,
            "width": null
          }
        },
        "ad6aee5f65eb4f1eb653f6f59135b52a": {
          "model_module": "@jupyter-widgets/controls",
          "model_name": "DescriptionStyleModel",
          "model_module_version": "1.5.0",
          "state": {
            "_model_module": "@jupyter-widgets/controls",
            "_model_module_version": "1.5.0",
            "_model_name": "DescriptionStyleModel",
            "_view_count": null,
            "_view_module": "@jupyter-widgets/base",
            "_view_module_version": "1.2.0",
            "_view_name": "StyleView",
            "description_width": ""
          }
        },
        "ddf1076652ea4ce38b291b71264a933e": {
          "model_module": "@jupyter-widgets/controls",
          "model_name": "HBoxModel",
          "model_module_version": "1.5.0",
          "state": {
            "_dom_classes": [],
            "_model_module": "@jupyter-widgets/controls",
            "_model_module_version": "1.5.0",
            "_model_name": "HBoxModel",
            "_view_count": null,
            "_view_module": "@jupyter-widgets/controls",
            "_view_module_version": "1.5.0",
            "_view_name": "HBoxView",
            "box_style": "",
            "children": [
              "IPY_MODEL_6566b68c45214472818093301a050418",
              "IPY_MODEL_971f9e67d0b04269854432d77220f2f2",
              "IPY_MODEL_43ecbf69361548b886c09f11e045ac9d"
            ],
            "layout": "IPY_MODEL_679fbfc43dbc436799deba30250827ee"
          }
        },
        "6566b68c45214472818093301a050418": {
          "model_module": "@jupyter-widgets/controls",
          "model_name": "HTMLModel",
          "model_module_version": "1.5.0",
          "state": {
            "_dom_classes": [],
            "_model_module": "@jupyter-widgets/controls",
            "_model_module_version": "1.5.0",
            "_model_name": "HTMLModel",
            "_view_count": null,
            "_view_module": "@jupyter-widgets/controls",
            "_view_module_version": "1.5.0",
            "_view_name": "HTMLView",
            "description": "",
            "description_tooltip": null,
            "layout": "IPY_MODEL_7efa9e9a567643edb7b0f086ee1e799e",
            "placeholder": "​",
            "style": "IPY_MODEL_7b4e706f893f4199a3149c395c4ce0d2",
            "value": "Downloading (…)lve/main/config.json: 100%"
          }
        },
        "971f9e67d0b04269854432d77220f2f2": {
          "model_module": "@jupyter-widgets/controls",
          "model_name": "FloatProgressModel",
          "model_module_version": "1.5.0",
          "state": {
            "_dom_classes": [],
            "_model_module": "@jupyter-widgets/controls",
            "_model_module_version": "1.5.0",
            "_model_name": "FloatProgressModel",
            "_view_count": null,
            "_view_module": "@jupyter-widgets/controls",
            "_view_module_version": "1.5.0",
            "_view_name": "ProgressView",
            "bar_style": "success",
            "description": "",
            "description_tooltip": null,
            "layout": "IPY_MODEL_af58c71a7383498c825e34232bdb5340",
            "max": 1441,
            "min": 0,
            "orientation": "horizontal",
            "style": "IPY_MODEL_4d70213fd87b47b4925d9fd0c28174b2",
            "value": 1441
          }
        },
        "43ecbf69361548b886c09f11e045ac9d": {
          "model_module": "@jupyter-widgets/controls",
          "model_name": "HTMLModel",
          "model_module_version": "1.5.0",
          "state": {
            "_dom_classes": [],
            "_model_module": "@jupyter-widgets/controls",
            "_model_module_version": "1.5.0",
            "_model_name": "HTMLModel",
            "_view_count": null,
            "_view_module": "@jupyter-widgets/controls",
            "_view_module_version": "1.5.0",
            "_view_name": "HTMLView",
            "description": "",
            "description_tooltip": null,
            "layout": "IPY_MODEL_f28c50ba893f44f19b6bc2837335e0a3",
            "placeholder": "​",
            "style": "IPY_MODEL_297a407aaa4842abad4975411ce066c2",
            "value": " 1.44k/1.44k [00:00&lt;00:00, 75.0kB/s]"
          }
        },
        "679fbfc43dbc436799deba30250827ee": {
          "model_module": "@jupyter-widgets/base",
          "model_name": "LayoutModel",
          "model_module_version": "1.2.0",
          "state": {
            "_model_module": "@jupyter-widgets/base",
            "_model_module_version": "1.2.0",
            "_model_name": "LayoutModel",
            "_view_count": null,
            "_view_module": "@jupyter-widgets/base",
            "_view_module_version": "1.2.0",
            "_view_name": "LayoutView",
            "align_content": null,
            "align_items": null,
            "align_self": null,
            "border": null,
            "bottom": null,
            "display": null,
            "flex": null,
            "flex_flow": null,
            "grid_area": null,
            "grid_auto_columns": null,
            "grid_auto_flow": null,
            "grid_auto_rows": null,
            "grid_column": null,
            "grid_gap": null,
            "grid_row": null,
            "grid_template_areas": null,
            "grid_template_columns": null,
            "grid_template_rows": null,
            "height": null,
            "justify_content": null,
            "justify_items": null,
            "left": null,
            "margin": null,
            "max_height": null,
            "max_width": null,
            "min_height": null,
            "min_width": null,
            "object_fit": null,
            "object_position": null,
            "order": null,
            "overflow": null,
            "overflow_x": null,
            "overflow_y": null,
            "padding": null,
            "right": null,
            "top": null,
            "visibility": null,
            "width": null
          }
        },
        "7efa9e9a567643edb7b0f086ee1e799e": {
          "model_module": "@jupyter-widgets/base",
          "model_name": "LayoutModel",
          "model_module_version": "1.2.0",
          "state": {
            "_model_module": "@jupyter-widgets/base",
            "_model_module_version": "1.2.0",
            "_model_name": "LayoutModel",
            "_view_count": null,
            "_view_module": "@jupyter-widgets/base",
            "_view_module_version": "1.2.0",
            "_view_name": "LayoutView",
            "align_content": null,
            "align_items": null,
            "align_self": null,
            "border": null,
            "bottom": null,
            "display": null,
            "flex": null,
            "flex_flow": null,
            "grid_area": null,
            "grid_auto_columns": null,
            "grid_auto_flow": null,
            "grid_auto_rows": null,
            "grid_column": null,
            "grid_gap": null,
            "grid_row": null,
            "grid_template_areas": null,
            "grid_template_columns": null,
            "grid_template_rows": null,
            "height": null,
            "justify_content": null,
            "justify_items": null,
            "left": null,
            "margin": null,
            "max_height": null,
            "max_width": null,
            "min_height": null,
            "min_width": null,
            "object_fit": null,
            "object_position": null,
            "order": null,
            "overflow": null,
            "overflow_x": null,
            "overflow_y": null,
            "padding": null,
            "right": null,
            "top": null,
            "visibility": null,
            "width": null
          }
        },
        "7b4e706f893f4199a3149c395c4ce0d2": {
          "model_module": "@jupyter-widgets/controls",
          "model_name": "DescriptionStyleModel",
          "model_module_version": "1.5.0",
          "state": {
            "_model_module": "@jupyter-widgets/controls",
            "_model_module_version": "1.5.0",
            "_model_name": "DescriptionStyleModel",
            "_view_count": null,
            "_view_module": "@jupyter-widgets/base",
            "_view_module_version": "1.2.0",
            "_view_name": "StyleView",
            "description_width": ""
          }
        },
        "af58c71a7383498c825e34232bdb5340": {
          "model_module": "@jupyter-widgets/base",
          "model_name": "LayoutModel",
          "model_module_version": "1.2.0",
          "state": {
            "_model_module": "@jupyter-widgets/base",
            "_model_module_version": "1.2.0",
            "_model_name": "LayoutModel",
            "_view_count": null,
            "_view_module": "@jupyter-widgets/base",
            "_view_module_version": "1.2.0",
            "_view_name": "LayoutView",
            "align_content": null,
            "align_items": null,
            "align_self": null,
            "border": null,
            "bottom": null,
            "display": null,
            "flex": null,
            "flex_flow": null,
            "grid_area": null,
            "grid_auto_columns": null,
            "grid_auto_flow": null,
            "grid_auto_rows": null,
            "grid_column": null,
            "grid_gap": null,
            "grid_row": null,
            "grid_template_areas": null,
            "grid_template_columns": null,
            "grid_template_rows": null,
            "height": null,
            "justify_content": null,
            "justify_items": null,
            "left": null,
            "margin": null,
            "max_height": null,
            "max_width": null,
            "min_height": null,
            "min_width": null,
            "object_fit": null,
            "object_position": null,
            "order": null,
            "overflow": null,
            "overflow_x": null,
            "overflow_y": null,
            "padding": null,
            "right": null,
            "top": null,
            "visibility": null,
            "width": null
          }
        },
        "4d70213fd87b47b4925d9fd0c28174b2": {
          "model_module": "@jupyter-widgets/controls",
          "model_name": "ProgressStyleModel",
          "model_module_version": "1.5.0",
          "state": {
            "_model_module": "@jupyter-widgets/controls",
            "_model_module_version": "1.5.0",
            "_model_name": "ProgressStyleModel",
            "_view_count": null,
            "_view_module": "@jupyter-widgets/base",
            "_view_module_version": "1.2.0",
            "_view_name": "StyleView",
            "bar_color": null,
            "description_width": ""
          }
        },
        "f28c50ba893f44f19b6bc2837335e0a3": {
          "model_module": "@jupyter-widgets/base",
          "model_name": "LayoutModel",
          "model_module_version": "1.2.0",
          "state": {
            "_model_module": "@jupyter-widgets/base",
            "_model_module_version": "1.2.0",
            "_model_name": "LayoutModel",
            "_view_count": null,
            "_view_module": "@jupyter-widgets/base",
            "_view_module_version": "1.2.0",
            "_view_name": "LayoutView",
            "align_content": null,
            "align_items": null,
            "align_self": null,
            "border": null,
            "bottom": null,
            "display": null,
            "flex": null,
            "flex_flow": null,
            "grid_area": null,
            "grid_auto_columns": null,
            "grid_auto_flow": null,
            "grid_auto_rows": null,
            "grid_column": null,
            "grid_gap": null,
            "grid_row": null,
            "grid_template_areas": null,
            "grid_template_columns": null,
            "grid_template_rows": null,
            "height": null,
            "justify_content": null,
            "justify_items": null,
            "left": null,
            "margin": null,
            "max_height": null,
            "max_width": null,
            "min_height": null,
            "min_width": null,
            "object_fit": null,
            "object_position": null,
            "order": null,
            "overflow": null,
            "overflow_x": null,
            "overflow_y": null,
            "padding": null,
            "right": null,
            "top": null,
            "visibility": null,
            "width": null
          }
        },
        "297a407aaa4842abad4975411ce066c2": {
          "model_module": "@jupyter-widgets/controls",
          "model_name": "DescriptionStyleModel",
          "model_module_version": "1.5.0",
          "state": {
            "_model_module": "@jupyter-widgets/controls",
            "_model_module_version": "1.5.0",
            "_model_name": "DescriptionStyleModel",
            "_view_count": null,
            "_view_module": "@jupyter-widgets/base",
            "_view_module_version": "1.2.0",
            "_view_name": "StyleView",
            "description_width": ""
          }
        }
      }
    }
  },
  "cells": [
    {
      "cell_type": "markdown",
      "metadata": {
        "id": "view-in-github",
        "colab_type": "text"
      },
      "source": [
        "<a href=\"https://colab.research.google.com/github/AAhmadS/NLP-HW3/blob/main/NLP_HW3.ipynb\" target=\"_parent\"><img src=\"https://colab.research.google.com/assets/colab-badge.svg\" alt=\"Open In Colab\"/></a>"
      ]
    },
    {
      "cell_type": "markdown",
      "metadata": {
        "id": "ycCs7DfEpX1u"
      },
      "source": [
        "## Install and import packages"
      ]
    },
    {
      "cell_type": "code",
      "execution_count": 1,
      "metadata": {
        "colab": {
          "base_uri": "https://localhost:8080/"
        },
        "id": "_jtkeu_Wx0ai",
        "outputId": "4f1ed95c-69d1-4e65-f461-442ac2341267"
      },
      "outputs": [
        {
          "output_type": "stream",
          "name": "stdout",
          "text": [
            "Mounted at /content/drive\n"
          ]
        }
      ],
      "source": [
        "from google.colab import drive\n",
        "drive.mount('/content/drive')"
      ]
    },
    {
      "cell_type": "code",
      "source": [
        "%cd /content/drive/MyDrive/TasnimDataset/"
      ],
      "metadata": {
        "colab": {
          "base_uri": "https://localhost:8080/"
        },
        "id": "1DCVttnZJ5OG",
        "outputId": "bfd3198c-d782-4d66-a6e5-c3e6b1a72968"
      },
      "execution_count": 2,
      "outputs": [
        {
          "output_type": "stream",
          "name": "stdout",
          "text": [
            "/content/drive/.shortcut-targets-by-id/1WC54iNX9iiUwBMeH0jXlgq2JSuERNvwm/TasnimDataset\n"
          ]
        }
      ]
    },
    {
      "cell_type": "code",
      "execution_count": 3,
      "metadata": {
        "id": "0BpdJkdBssk9"
      },
      "outputs": [],
      "source": [
        "%%capture\n",
        "!pip install transformers==4.0.1\n",
        "! pip install ftfy regex tqdm\n",
        "! pip install arabic-reshaper\n",
        "! pip install python-bidi\n",
        "! pip install dadmatools\n",
        "!pip install -Uq g2p_en"
      ]
    },
    {
      "cell_type": "code",
      "execution_count": 4,
      "metadata": {
        "id": "C1hkDT38hSaP",
        "outputId": "f16c4ee9-454c-4af9-fedf-92c9bca921ff",
        "colab": {
          "base_uri": "https://localhost:8080/"
        }
      },
      "outputs": [
        {
          "output_type": "stream",
          "name": "stdout",
          "text": [
            "Torch version: 2.0.1+cu118\n"
          ]
        },
        {
          "output_type": "stream",
          "name": "stderr",
          "text": [
            "<ipython-input-4-6bc956d93c61>:37: DeprecationWarning: Please use `gaussian_filter` from the `scipy.ndimage` namespace, the `scipy.ndimage.filters` namespace is deprecated.\n",
            "  from scipy.ndimage.filters import gaussian_filter\n"
          ]
        }
      ],
      "source": [
        "from __future__ import unicode_literals\n",
        "# from hazm import Normalizer as hNormalizer\n",
        "from dadmatools.models.normalizer import Normalizer as dNormalizer\n",
        "import gc\n",
        "import time\n",
        "import copy\n",
        "import PIL\n",
        "import torch\n",
        "import os\n",
        "import dill\n",
        "import requests\n",
        "import pandas as pd\n",
        "import numpy as np\n",
        "from PIL import Image\n",
        "import torch.nn as nn\n",
        "import multiprocessing\n",
        "from tqdm import tqdm\n",
        "from io import BytesIO\n",
        "import matplotlib.pyplot as plt\n",
        "from pkg_resources import packaging\n",
        "import torchvision.transforms as transforms\n",
        "from torch.utils.data import Dataset, DataLoader\n",
        "from matplotlib.font_manager import FontProperties\n",
        "from bidi.algorithm import get_display\n",
        "from arabic_reshaper import reshape\n",
        "from torch.cuda.amp import autocast\n",
        "from sklearn.model_selection import train_test_split\n",
        "from transformers import AutoModel, AutoTokenizer, AutoModel, TFAutoModel, AutoConfig\n",
        "from transformers import EncoderDecoderModel\n",
        "from transformers import GPT2LMHeadModel, GPT2Config\n",
        "from transformers import BertGenerationConfig, BertGenerationEncoder\n",
        "from transformers import BertModel\n",
        "from transformers import TrainingArguments, Trainer, RobertaModel\n",
        "from transformers import default_data_collator\n",
        "from IPython.display import clear_output\n",
        "import seaborn as sns\n",
        "from scipy.ndimage.filters import gaussian_filter\n",
        "import tqdm\n",
        "import torch\n",
        "from transformers import AutoTokenizer, AutoConfig, AutoModelWithLMHead\n",
        "from transformers import AutoTokenizer, GPT2LMHeadModel, GPT2Config\n",
        "\n",
        "from IPython import display\n",
        "\n",
        "# persian_font = FontProperties(fname='/content/fonts/Vazirmatn-Regular.ttf')\n",
        "# \n",
        "print(\"Torch version:\", torch.__version__)"
      ]
    },
    {
      "cell_type": "code",
      "source": [
        "!pip install -Uq hazm\n",
        "\n",
        "import hazm\n",
        "normalizer = hazm.Normalizer(persian_numbers=False)\n",
        "\n",
        "def normalize_input(text):\n",
        "  text = noramlizer.normalize(text)\n",
        "  return text"
      ],
      "metadata": {
        "id": "K20btDTkPGVd",
        "outputId": "120a1e7c-2f0c-4ebf-eb80-2029034c856e",
        "colab": {
          "base_uri": "https://localhost:8080/"
        }
      },
      "execution_count": 5,
      "outputs": [
        {
          "output_type": "stream",
          "name": "stdout",
          "text": [
            "\u001b[2K     \u001b[90m━━━━━━━━━━━━━━━━━━━━━━━━━━━━━━━━━━━━━━━\u001b[0m \u001b[32m477.8/477.8 kB\u001b[0m \u001b[31m8.6 MB/s\u001b[0m eta \u001b[36m0:00:00\u001b[0m\n",
            "\u001b[2K     \u001b[90m━━━━━━━━━━━━━━━━━━━━━━━━━━━━━━━━━━━━━━━━\u001b[0m \u001b[32m17.3/17.3 MB\u001b[0m \u001b[31m82.5 MB/s\u001b[0m eta \u001b[36m0:00:00\u001b[0m\n",
            "\u001b[2K     \u001b[90m━━━━━━━━━━━━━━━━━━━━━━━━━━━━━━━━━━━━━━\u001b[0m \u001b[32m993.5/993.5 kB\u001b[0m \u001b[31m64.8 MB/s\u001b[0m eta \u001b[36m0:00:00\u001b[0m\n",
            "\u001b[?25h\u001b[31mERROR: pip's dependency resolver does not currently take into account all the packages that are installed. This behaviour is the source of the following dependency conflicts.\n",
            "numba 0.56.4 requires numpy<1.24,>=1.18, but you have numpy 1.24.3 which is incompatible.\n",
            "tensorflow 2.12.0 requires numpy<1.24,>=1.22, but you have numpy 1.24.3 which is incompatible.\u001b[0m\u001b[31m\n",
            "\u001b[0m"
          ]
        }
      ]
    },
    {
      "cell_type": "markdown",
      "source": [
        "**So basically we are going to train an encoder-decoder model based on our natural language data to have good enough text encoder and general decoder, next step is to bring on the vision model and connect the vision encoder to the trained decoder, now the decoder part is going to freeze and the vision encoder is going to learn the latent space pretty well**"
      ],
      "metadata": {
        "id": "sCAUWIz-_JDX"
      }
    },
    {
      "cell_type": "markdown",
      "metadata": {
        "id": "IQT2E9PoWKAn"
      },
      "source": [
        "## Defining the ML-Model"
      ]
    },
    {
      "cell_type": "markdown",
      "source": [
        "###Loading the models"
      ],
      "metadata": {
        "id": "DNifsnpO-42z"
      }
    },
    {
      "cell_type": "markdown",
      "source": [
        "**First we should manage to train our nlp enc-dec model, we've chosen Parsebert and ParsGPT for the task**"
      ],
      "metadata": {
        "id": "IFysCfMo_ErV"
      }
    },
    {
      "cell_type": "code",
      "execution_count": 6,
      "metadata": {
        "id": "l79DaXF9WKAo",
        "outputId": "59bdddc5-d808-4ac7-d1a4-02ce341395c9",
        "colab": {
          "base_uri": "https://localhost:8080/",
          "height": 35
        }
      },
      "outputs": [
        {
          "output_type": "execute_result",
          "data": {
            "text/plain": [
              "'cuda:0'"
            ],
            "application/vnd.google.colaboratory.intrinsic+json": {
              "type": "string"
            }
          },
          "metadata": {},
          "execution_count": 6
        }
      ],
      "source": [
        "device = \"cuda:0\" if torch.cuda.is_available() else \"cpu\"\n",
        "device"
      ]
    },
    {
      "cell_type": "code",
      "execution_count": 7,
      "metadata": {
        "id": "vOKzv2bCWKAo",
        "outputId": "a744ed22-a864-441d-d948-8278fa32acc0",
        "colab": {
          "base_uri": "https://localhost:8080/",
          "height": 1000,
          "referenced_widgets": [
            "afd6fa2cc3d14a29b68afc4acac5dccc",
            "f318903bf41d4479a8d0a8d39cd67f2e",
            "53e6ae90ef9d48f69d274fad886c45d3",
            "5b4cdfc2aea9449f9dc7431b867ad4f6",
            "37d1357239cf4477a3976ff06a4e9155",
            "fe5da2a3d06a4037a8d4bc597680b1a0",
            "4e8fa1d9c1e84cb8933ba3405882bb4e",
            "234d82f835ac4f41a08b7bbfa2abc38d",
            "64fa678c662b412682a7b4f5ce9ebad2",
            "f163a45cf84e42c5ba179cedfdb8d419",
            "4588d97dd5ae4b03b7d9730bf7ddc19c",
            "21d1f504c22145578ce8961e4bc3c27f",
            "3b63b000990e4c3faa99c3e0badfdd51",
            "b738ba6fd61849aba74be684321eb3e4",
            "fa7b2b19a4634306bc0e429e853245a3",
            "7a5e7e2e920a4f2f9295f726740cad32",
            "2e38f305fa1f47dea9ee93f9e2bd8740",
            "1f0b71f7bb8c430eb8db4ce93f2b44aa",
            "06dd799022284cc7b23ea27e330acdf0",
            "c4ecb760dd084d618166831185c0d209",
            "cb6b6d1ab6f64495b305f34a06080e15",
            "e60dd0b4bb794a1aaa5b31cba8e68a91",
            "c72b04ef3a704666af9c2c93d69cee25",
            "59eb3cb5960044c094a960b894f67722",
            "3ea4bfa294834137a46436755f3b73a4",
            "998c971af7784d87aa4dfe744cd26f7f",
            "071c6c00cde14574bcf938e0a8f0bea6",
            "03881d4ee44547e4a1ba6eb1a3151bad",
            "bc8d9574b10b4294933819dc48482f7e",
            "de8b9307532547228dbe159cd219f50b",
            "b93afdce4dac44688284dbcf6fb9f187",
            "26ec1d251e5340e593088f72bc29b063",
            "648f0f0595f643a9829dadd19f4559eb",
            "101691b1e6a54c9983014b9484c02e1e",
            "38606a8f78974cb2a3fd86e75c31dd43",
            "7e4404baac7b487380794c29ebb0ece0",
            "38635d8e4e17435c9dda35ab123a20ad",
            "e5c2f1eae786431984bee3049086811a",
            "9e86dcac831e458e9bb724ddfa671c45",
            "da15e6a089914846ab5a57cf0e63ce38",
            "31faedc632ed42de807ad97b6aac32e9",
            "6d6d41da757a47f8977a16c384079b4e",
            "c64a330e0d4b412fad2b70208d40e50c",
            "34fa3d07f88747f4b575ceaa78137071",
            "d1b6b0eb63924af28c93b6d4a82f90ec",
            "b7ff7d7cf453441ca0f5f6f1cee225f9",
            "64ecac72df934b7b90e3a9ff58e071ff",
            "bf53b59269af45b0ae87f72096ccf4c0",
            "1d6b61a1b84e4c59b08d522710506294",
            "01fda2b8abfa415eb0840f0709b8854e",
            "23d4836a154446238528477ecf7a1a08",
            "1a165b5cc9834c5db7b01a95d24e9f27",
            "53dc72849eee4c39bc83a361fb39996f",
            "122261d912a244f4ac4bddc6767870bd",
            "776d50d9bb62466a8b3688784d992c42",
            "60b5d9376c16479180c6aabb3574e5c0",
            "9f74a2ea3a0141e78ade9125b482a809",
            "d7296a88e3cd41e8ac255b1c2720861b",
            "bc8d405ff28c4156939e0397855b6588",
            "8e4facc4f4da491ea77fde4d033a6287",
            "18b1d203b2134397b57b1c83c48526bc",
            "a8c64c69c6fd4ee2ad20358152735461",
            "2860e0e9acb94cae85e8e5e7dceac1bb",
            "66a9eabff6ea46f38c26da56bc32b26c",
            "9970ba6a29f943ebbc040ea6804cb794",
            "cf40f0cf9e294e8a850486bc820148fa",
            "a1d5fdd1c27b435e8ee8194cebf65847",
            "cf72f040849d49ffa0c287a5750c52e5",
            "a25e10cbcdd14fca99167bc55c6e7e21",
            "8fec514d89e04e8091b9f3313e295751",
            "ed0d74416bcd4967b4e45893d85dd732",
            "e631e7eb25d44577a38810568f77b676",
            "d1aaee64ef014085b849d15a4ee7f473",
            "b62e056c7fe1433ca9d6b28e4c324cc6",
            "849adaf217de4aa19b45f683fe2f78fb",
            "867e33ee088743c8bb3b5b71e2406e67",
            "ad6aee5f65eb4f1eb653f6f59135b52a",
            "ddf1076652ea4ce38b291b71264a933e",
            "6566b68c45214472818093301a050418",
            "971f9e67d0b04269854432d77220f2f2",
            "43ecbf69361548b886c09f11e045ac9d",
            "679fbfc43dbc436799deba30250827ee",
            "7efa9e9a567643edb7b0f086ee1e799e",
            "7b4e706f893f4199a3149c395c4ce0d2",
            "af58c71a7383498c825e34232bdb5340",
            "4d70213fd87b47b4925d9fd0c28174b2",
            "f28c50ba893f44f19b6bc2837335e0a3",
            "297a407aaa4842abad4975411ce066c2"
          ]
        }
      },
      "outputs": [
        {
          "output_type": "display_data",
          "data": {
            "text/plain": [
              "Downloading (…)okenizer_config.json:   0%|          | 0.00/728 [00:00<?, ?B/s]"
            ],
            "application/vnd.jupyter.widget-view+json": {
              "version_major": 2,
              "version_minor": 0,
              "model_id": "afd6fa2cc3d14a29b68afc4acac5dccc"
            }
          },
          "metadata": {}
        },
        {
          "output_type": "display_data",
          "data": {
            "text/plain": [
              "Downloading (…)lve/main/config.json:   0%|          | 0.00/808 [00:00<?, ?B/s]"
            ],
            "application/vnd.jupyter.widget-view+json": {
              "version_major": 2,
              "version_minor": 0,
              "model_id": "21d1f504c22145578ce8961e4bc3c27f"
            }
          },
          "metadata": {}
        },
        {
          "output_type": "display_data",
          "data": {
            "text/plain": [
              "Downloading (…)olve/main/vocab.json:   0%|          | 0.00/1.16M [00:00<?, ?B/s]"
            ],
            "application/vnd.jupyter.widget-view+json": {
              "version_major": 2,
              "version_minor": 0,
              "model_id": "c72b04ef3a704666af9c2c93d69cee25"
            }
          },
          "metadata": {}
        },
        {
          "output_type": "display_data",
          "data": {
            "text/plain": [
              "Downloading (…)olve/main/merges.txt:   0%|          | 0.00/875k [00:00<?, ?B/s]"
            ],
            "application/vnd.jupyter.widget-view+json": {
              "version_major": 2,
              "version_minor": 0,
              "model_id": "101691b1e6a54c9983014b9484c02e1e"
            }
          },
          "metadata": {}
        },
        {
          "output_type": "display_data",
          "data": {
            "text/plain": [
              "Downloading (…)/main/tokenizer.json:   0%|          | 0.00/2.75M [00:00<?, ?B/s]"
            ],
            "application/vnd.jupyter.widget-view+json": {
              "version_major": 2,
              "version_minor": 0,
              "model_id": "d1b6b0eb63924af28c93b6d4a82f90ec"
            }
          },
          "metadata": {}
        },
        {
          "output_type": "display_data",
          "data": {
            "text/plain": [
              "Downloading (…)in/added_tokens.json:   0%|          | 0.00/14.0 [00:00<?, ?B/s]"
            ],
            "application/vnd.jupyter.widget-view+json": {
              "version_major": 2,
              "version_minor": 0,
              "model_id": "60b5d9376c16479180c6aabb3574e5c0"
            }
          },
          "metadata": {}
        },
        {
          "output_type": "display_data",
          "data": {
            "text/plain": [
              "Downloading (…)cial_tokens_map.json:   0%|          | 0.00/104 [00:00<?, ?B/s]"
            ],
            "application/vnd.jupyter.widget-view+json": {
              "version_major": 2,
              "version_minor": 0,
              "model_id": "a1d5fdd1c27b435e8ee8194cebf65847"
            }
          },
          "metadata": {}
        },
        {
          "output_type": "display_data",
          "data": {
            "text/plain": [
              "Downloading (…)lve/main/config.json:   0%|          | 0.00/1.44k [00:00<?, ?B/s]"
            ],
            "application/vnd.jupyter.widget-view+json": {
              "version_major": 2,
              "version_minor": 0,
              "model_id": "ddf1076652ea4ce38b291b71264a933e"
            }
          },
          "metadata": {}
        },
        {
          "output_type": "stream",
          "name": "stdout",
          "text": [
            "--2023-06-06 00:53:10--  https://huggingface.co/HooshvareLab/gpt2-fa/resolve/main/pytorch_model.bin\n",
            "Resolving huggingface.co (huggingface.co)... 18.67.0.90, 18.67.0.55, 18.67.0.34, ...\n",
            "Connecting to huggingface.co (huggingface.co)|18.67.0.90|:443... connected.\n",
            "HTTP request sent, awaiting response... 302 Found\n",
            "Location: https://cdn-lfs.huggingface.co/HooshvareLab/gpt2-fa/46b0b806c740a0f0a9f056f5574c5fa896166fe844945fd3c849bf34365e5060?response-content-disposition=attachment%3B+filename*%3DUTF-8%27%27pytorch_model.bin%3B+filename%3D%22pytorch_model.bin%22%3B&response-content-type=application%2Foctet-stream&Expires=1686271990&Policy=eyJTdGF0ZW1lbnQiOlt7IlJlc291cmNlIjoiaHR0cHM6Ly9jZG4tbGZzLmh1Z2dpbmdmYWNlLmNvL0hvb3NodmFyZUxhYi9ncHQyLWZhLzQ2YjBiODA2Yzc0MGEwZjBhOWYwNTZmNTU3NGM1ZmE4OTYxNjZmZTg0NDk0NWZkM2M4NDliZjM0MzY1ZTUwNjA%7EcmVzcG9uc2UtY29udGVudC1kaXNwb3NpdGlvbj0qJnJlc3BvbnNlLWNvbnRlbnQtdHlwZT0qIiwiQ29uZGl0aW9uIjp7IkRhdGVMZXNzVGhhbiI6eyJBV1M6RXBvY2hUaW1lIjoxNjg2MjcxOTkwfX19XX0_&Signature=xvNPZmvoraRIxsSnzyjvLZDWF05OKmYwAtXRK40r%7EVOu84dYsSPN0cJEg3ExpOUisoWDsZbka9CB9XuS%7ExNkUQJmQHjOdjZugvDmdSUQuhlCS8yqxo3sgkKRuQa0kHKFn0qU9t1tcHv2r-2tOc2Sx0vKjAib1rtc92DpFke4AEoofjiI66Fzlwmghnb053WWPn5Jqs3etGExiH-kfbpXmouxo68%7EMMBUj3oOil4TwXG0ohO5QECR6AbsU814t1jo1yMZv--3l%7EfZM-qwCpWqEJd4eg4ZohnpG4kzmYOOgWyRcGg7nWYymoN5t4VPj068P37NYOeH7iKQ0gT84CvG8A__&Key-Pair-Id=KVTP0A1DKRTAX [following]\n",
            "--2023-06-06 00:53:10--  https://cdn-lfs.huggingface.co/HooshvareLab/gpt2-fa/46b0b806c740a0f0a9f056f5574c5fa896166fe844945fd3c849bf34365e5060?response-content-disposition=attachment%3B+filename*%3DUTF-8%27%27pytorch_model.bin%3B+filename%3D%22pytorch_model.bin%22%3B&response-content-type=application%2Foctet-stream&Expires=1686271990&Policy=eyJTdGF0ZW1lbnQiOlt7IlJlc291cmNlIjoiaHR0cHM6Ly9jZG4tbGZzLmh1Z2dpbmdmYWNlLmNvL0hvb3NodmFyZUxhYi9ncHQyLWZhLzQ2YjBiODA2Yzc0MGEwZjBhOWYwNTZmNTU3NGM1ZmE4OTYxNjZmZTg0NDk0NWZkM2M4NDliZjM0MzY1ZTUwNjA%7EcmVzcG9uc2UtY29udGVudC1kaXNwb3NpdGlvbj0qJnJlc3BvbnNlLWNvbnRlbnQtdHlwZT0qIiwiQ29uZGl0aW9uIjp7IkRhdGVMZXNzVGhhbiI6eyJBV1M6RXBvY2hUaW1lIjoxNjg2MjcxOTkwfX19XX0_&Signature=xvNPZmvoraRIxsSnzyjvLZDWF05OKmYwAtXRK40r%7EVOu84dYsSPN0cJEg3ExpOUisoWDsZbka9CB9XuS%7ExNkUQJmQHjOdjZugvDmdSUQuhlCS8yqxo3sgkKRuQa0kHKFn0qU9t1tcHv2r-2tOc2Sx0vKjAib1rtc92DpFke4AEoofjiI66Fzlwmghnb053WWPn5Jqs3etGExiH-kfbpXmouxo68%7EMMBUj3oOil4TwXG0ohO5QECR6AbsU814t1jo1yMZv--3l%7EfZM-qwCpWqEJd4eg4ZohnpG4kzmYOOgWyRcGg7nWYymoN5t4VPj068P37NYOeH7iKQ0gT84CvG8A__&Key-Pair-Id=KVTP0A1DKRTAX\n",
            "Resolving cdn-lfs.huggingface.co (cdn-lfs.huggingface.co)... 18.64.174.110, 18.64.174.109, 18.64.174.43, ...\n",
            "Connecting to cdn-lfs.huggingface.co (cdn-lfs.huggingface.co)|18.64.174.110|:443... connected.\n",
            "HTTP request sent, awaiting response... 200 OK\n",
            "Length: 485044198 (463M) [application/octet-stream]\n",
            "Saving to: ‘/content/gpt2/pytorch_model.bin’\n",
            "\n",
            "pytorch_model.bin   100%[===================>] 462.57M  41.6MB/s    in 10s     \n",
            "\n",
            "2023-06-06 00:53:21 (45.1 MB/s) - ‘/content/gpt2/pytorch_model.bin’ saved [485044198/485044198]\n",
            "\n",
            "--2023-06-06 00:53:21--  https://huggingface.co/HooshvareLab/gpt2-fa/resolve/main/tokenizer.json\n",
            "Resolving huggingface.co (huggingface.co)... 18.67.0.90, 18.67.0.55, 18.67.0.34, ...\n",
            "Connecting to huggingface.co (huggingface.co)|18.67.0.90|:443... connected.\n",
            "HTTP request sent, awaiting response... 200 OK\n",
            "Length: 2748949 (2.6M) [text/plain]\n",
            "Saving to: ‘/content/gpt2/tokenizer.json.1’\n",
            "\n",
            "tokenizer.json.1    100%[===================>]   2.62M  15.0MB/s    in 0.2s    \n",
            "\n",
            "2023-06-06 00:53:21 (15.0 MB/s) - ‘/content/gpt2/tokenizer.json.1’ saved [2748949/2748949]\n",
            "\n",
            "--2023-06-06 00:53:21--  https://huggingface.co/HooshvareLab/bert-fa-base-uncased-clf-persiannews/resolve/main/pytorch_model.bin\n",
            "Resolving huggingface.co (huggingface.co)... 18.67.0.90, 18.67.0.55, 18.67.0.34, ...\n",
            "Connecting to huggingface.co (huggingface.co)|18.67.0.90|:443... connected.\n",
            "HTTP request sent, awaiting response... 302 Found\n",
            "Location: https://cdn-lfs.huggingface.co/HooshvareLab/bert-fa-base-uncased-clf-persiannews/c6dd3d8d00488930f31d6d9ec1b49533a4603454f61e1aa8067dc01cdcc7a4e2?response-content-disposition=attachment%3B+filename*%3DUTF-8%27%27pytorch_model.bin%3B+filename%3D%22pytorch_model.bin%22%3B&response-content-type=application%2Foctet-stream&Expires=1686272002&Policy=eyJTdGF0ZW1lbnQiOlt7IlJlc291cmNlIjoiaHR0cHM6Ly9jZG4tbGZzLmh1Z2dpbmdmYWNlLmNvL0hvb3NodmFyZUxhYi9iZXJ0LWZhLWJhc2UtdW5jYXNlZC1jbGYtcGVyc2lhbm5ld3MvYzZkZDNkOGQwMDQ4ODkzMGYzMWQ2ZDllYzFiNDk1MzNhNDYwMzQ1NGY2MWUxYWE4MDY3ZGMwMWNkY2M3YTRlMj9yZXNwb25zZS1jb250ZW50LWRpc3Bvc2l0aW9uPSomcmVzcG9uc2UtY29udGVudC10eXBlPSoiLCJDb25kaXRpb24iOnsiRGF0ZUxlc3NUaGFuIjp7IkFXUzpFcG9jaFRpbWUiOjE2ODYyNzIwMDJ9fX1dfQ__&Signature=stmK0zZ6m7mTEconM-fZNlQti4WqDmcl8ONxekRHJfnzvyaebj3ucoxUJpOgSd2X-rQW96A0HzNTWOOSbzRXcWK-o0RCWNLTw7Cs5arR3L31YVII07GFRM6hWIZ7CCGBtsfCB280ZVQFWTVVBNKcADVLXoBV%7EOZmi4QdmNl-uqyFSISi7g%7EKYoDctnfvUJ7y8uYkd89fbDDOLCDaV6IucqRrvAsAInWA8eHWrSPE1sEWIo7ARK4Z5%7EvjqrTpw5xAhTkptdlerSPTEXCqkLXOJwkpb8b3szLmMtKylsZJBsPrGZyPkO1YMwkEAQhUUGx%7EpTonvX7ImfyRvdMC8KPuCQ__&Key-Pair-Id=KVTP0A1DKRTAX [following]\n",
            "--2023-06-06 00:53:21--  https://cdn-lfs.huggingface.co/HooshvareLab/bert-fa-base-uncased-clf-persiannews/c6dd3d8d00488930f31d6d9ec1b49533a4603454f61e1aa8067dc01cdcc7a4e2?response-content-disposition=attachment%3B+filename*%3DUTF-8%27%27pytorch_model.bin%3B+filename%3D%22pytorch_model.bin%22%3B&response-content-type=application%2Foctet-stream&Expires=1686272002&Policy=eyJTdGF0ZW1lbnQiOlt7IlJlc291cmNlIjoiaHR0cHM6Ly9jZG4tbGZzLmh1Z2dpbmdmYWNlLmNvL0hvb3NodmFyZUxhYi9iZXJ0LWZhLWJhc2UtdW5jYXNlZC1jbGYtcGVyc2lhbm5ld3MvYzZkZDNkOGQwMDQ4ODkzMGYzMWQ2ZDllYzFiNDk1MzNhNDYwMzQ1NGY2MWUxYWE4MDY3ZGMwMWNkY2M3YTRlMj9yZXNwb25zZS1jb250ZW50LWRpc3Bvc2l0aW9uPSomcmVzcG9uc2UtY29udGVudC10eXBlPSoiLCJDb25kaXRpb24iOnsiRGF0ZUxlc3NUaGFuIjp7IkFXUzpFcG9jaFRpbWUiOjE2ODYyNzIwMDJ9fX1dfQ__&Signature=stmK0zZ6m7mTEconM-fZNlQti4WqDmcl8ONxekRHJfnzvyaebj3ucoxUJpOgSd2X-rQW96A0HzNTWOOSbzRXcWK-o0RCWNLTw7Cs5arR3L31YVII07GFRM6hWIZ7CCGBtsfCB280ZVQFWTVVBNKcADVLXoBV%7EOZmi4QdmNl-uqyFSISi7g%7EKYoDctnfvUJ7y8uYkd89fbDDOLCDaV6IucqRrvAsAInWA8eHWrSPE1sEWIo7ARK4Z5%7EvjqrTpw5xAhTkptdlerSPTEXCqkLXOJwkpb8b3szLmMtKylsZJBsPrGZyPkO1YMwkEAQhUUGx%7EpTonvX7ImfyRvdMC8KPuCQ__&Key-Pair-Id=KVTP0A1DKRTAX\n",
            "Resolving cdn-lfs.huggingface.co (cdn-lfs.huggingface.co)... 18.64.174.110, 18.64.174.109, 18.64.174.43, ...\n",
            "Connecting to cdn-lfs.huggingface.co (cdn-lfs.huggingface.co)|18.64.174.110|:443... connected.\n",
            "HTTP request sent, awaiting response... 200 OK\n",
            "Length: 651477729 (621M) [application/octet-stream]\n",
            "Saving to: ‘huggingface.co/HooshvareLab/bert-fa-base-uncased-clf-persiannews/resolve/main/pytorch_model.bin’\n",
            "\n",
            "huggingface.co/Hoos 100%[===================>] 621.30M  31.6MB/s    in 21s     \n",
            "\n",
            "2023-06-06 00:53:44 (29.3 MB/s) - ‘huggingface.co/HooshvareLab/bert-fa-base-uncased-clf-persiannews/resolve/main/pytorch_model.bin’ saved [651477729/651477729]\n",
            "\n",
            "/content/bert/: Scheme missing.\n",
            "FINISHED --2023-06-06 00:53:44--\n",
            "Total wall clock time: 23s\n",
            "Downloaded: 1 files, 621M in 21s (29.3 MB/s)\n"
          ]
        }
      ],
      "source": [
        "##loading the gpt and bert model\n",
        "gpt_name_or_path = \"HooshvareLab/gpt2-fa\"\n",
        "bert_name_or_path = \"HooshvareLab/bert-fa-base-uncased-clf-persiannews\"\n",
        "##we wil stick to gpt tokenizer as our chosen tokenizer\n",
        "tokenizer = AutoTokenizer.from_pretrained(\n",
        "    gpt_name_or_path,\n",
        "    bos_token='<s>', \n",
        "    eos_token='</s>', \n",
        "    pad_token='<pad>',\n",
        "    unk_token='<unk>'\n",
        ")\n",
        "tokenizer.add_special_tokens({\n",
        "    \"bos_token\": '</s>',\n",
        "    \"eos_token\": '</s>', \n",
        "    \"pad_token\": '<pad>',\n",
        "    \"unk_token\": '<unk>'\n",
        "})\n",
        "\n",
        "config = AutoConfig.from_pretrained(\n",
        "    gpt_name_or_path,\n",
        "    bos_token_id=tokenizer(\"<s>\")[\"input_ids\"][0], \n",
        "    eos_token_id=tokenizer(\"</s>\")[\"input_ids\"][0], \n",
        "    pad_token_id=tokenizer(\"<pad>\")[\"input_ids\"][0],\n",
        "    unk_token_id=tokenizer(\"<unk>\")[\"input_ids\"][0],\n",
        ")\n",
        "\n",
        "bert_config = AutoConfig.from_pretrained(bert_name_or_path)\n",
        "\n",
        "##saving the config on the drive\n",
        "tokenizer.save_pretrained(\"/content/gpt2/\")\n",
        "config.save_pretrained(\"/content/gpt2/\")\n",
        "bert_config.save_pretrained(\"/content/bert/\")\n",
        "\n",
        "!wget \"https://huggingface.co/HooshvareLab/gpt2-fa/resolve/main/pytorch_model.bin\" -P /content/gpt2/\n",
        "!wget \"https://huggingface.co/HooshvareLab/gpt2-fa/resolve/main/tokenizer.json\" -P /content/gpt2/\n",
        "!wget \"https://huggingface.co/HooshvareLab/bert-fa-base-uncased-clf-persiannews/resolve/main/pytorch_model.bin\" -p /content/bert/"
      ]
    },
    {
      "cell_type": "markdown",
      "metadata": {
        "id": "Ete0nQRLMl1J"
      },
      "source": [
        "####Suitable data"
      ]
    },
    {
      "cell_type": "code",
      "source": [
        "import json\n",
        "f=open(\"news.json\")\n",
        "news=json.load(f)"
      ],
      "metadata": {
        "id": "rLmbX06qUp-A"
      },
      "execution_count": 8,
      "outputs": []
    },
    {
      "cell_type": "code",
      "source": [
        "text_description_list_final=[]\n",
        "text_title_list_final=[]\n",
        "images_list_final=[]\n",
        "for item in news:\n",
        "  for image in item.get(\"images\"):\n",
        "    if image==\"1400070516181726323700473.jpg\":\n",
        "      continue\n",
        "    try:\n",
        "      open(\"images/\"+image,\"rb\")\n",
        "      text_description_list_final.append(item.get(\"description\"))\n",
        "      text_title_list_final.append(item.get(\"title\"))\n",
        "      images_list_final.append(\"images/\"+image)\n",
        "    except(FileNotFoundError, IOError):\n",
        "      continue"
      ],
      "metadata": {
        "id": "23HA_SsFYUgc"
      },
      "execution_count": null,
      "outputs": []
    },
    {
      "cell_type": "code",
      "source": [
        "plt.hist([len(tokenizer.encode(text)) for text in text_title_list_final], colour = 'g')\n",
        "plt.title(\"sentence length frequency\")\n",
        "plt.ytitle(\"number of sentences\")\n",
        "plt.xtitle(\"sentence length\")\n",
        "plt.show()"
      ],
      "metadata": {
        "id": "sM3BTYOBdYU2"
      },
      "execution_count": null,
      "outputs": []
    },
    {
      "cell_type": "code",
      "source": [
        "max_seq = max([len(tokenizer.encode(text)) for text in text_title_list_final])\n",
        "\n",
        "print(f'The longest text is {max_seq} tokens long.')\n",
        "max_seq = 16"
      ],
      "metadata": {
        "id": "T_N53QcscLIy"
      },
      "execution_count": null,
      "outputs": []
    },
    {
      "cell_type": "code",
      "source": [
        "vision_data = pd.DataFrame(shape = (len(images_list_final,1)))\n",
        "data[\"images\"] = images_list_final\n",
        "data[\"output\"] = text_title_list_final\n",
        "\n",
        "\n",
        "nlp_data = pd.DataFrame(shape = (len(list(set(text_title_list_final))),1))\n",
        "nlp_data[\"input\"] = text_title_list_final\n",
        "nlp_data[\"outptu\"] = text_title_list_final\n",
        "\n",
        "train_data = nlp_data"
      ],
      "metadata": {
        "id": "oKc_RlX7GoCe"
      },
      "execution_count": null,
      "outputs": []
    },
    {
      "cell_type": "code",
      "metadata": {
        "id": "wakECgirV1ZN"
      },
      "source": [
        "# map article and summary len to dict as well as if sample is longer than 16 tokens\n",
        "def map_to_length(x):\n",
        "  x[\"out_len\"] = len(tokenizer(x[\"output\"]).input_ids)\n",
        "  x[\"out_longer_16\"] = int(x[\"out_len\"] > tokenizer.max_len)\n",
        "  return x"
      ],
      "execution_count": null,
      "outputs": []
    },
    {
      "cell_type": "code",
      "metadata": {
        "id": "5yAVH5fkMwLr"
      },
      "source": [
        "sample_size = 0.95 * len(images_list_final)\n",
        "data_stats = train_data.select(range(sample_size)).map(map_to_length, num_proc=4)"
      ],
      "execution_count": null,
      "outputs": []
    },
    {
      "cell_type": "code",
      "metadata": {
        "id": "kALWVxHlOU4A"
      },
      "source": [
        "def compute_and_print_stats(x):\n",
        "  if len(x[\"out_len\"]) == sample_size:\n",
        "    print(\n",
        "        \"output Mean: {}, %-titles > 16:{}\".format(\n",
        "            sum(x[\"article_len\"]) / sample_size,\n",
        "            sum(x[\"article_longer_512\"]) / sample_size, \n",
        "        )\n",
        "    )\n",
        "\n",
        "output = data_stats.map(\n",
        "  compute_and_print_stats, \n",
        "  batched=True,\n",
        "  batch_size=-1,\n",
        ")"
      ],
      "execution_count": null,
      "outputs": []
    },
    {
      "cell_type": "code",
      "metadata": {
        "id": "yoN2q0hZUbXN"
      },
      "source": [
        "encoder_max_length=max_seq\n",
        "decoder_max_length=max_seq\n",
        "\n",
        "def process_data_to_model_inputs(batch):\n",
        "  # tokenize the inputs and labels\n",
        "  inputs = tokenizer(batch[\"input\"], padding=\"max_length\", truncation=True, max_length=encoder_max_length)\n",
        "  outputs = tokenizer(batch[\"output\"], padding=\"max_length\", truncation=True, max_length=decoder_max_length)\n",
        "\n",
        "  batch[\"input_ids\"] = inputs.input_ids\n",
        "  batch[\"attention_mask\"] = inputs.attention_mask\n",
        "  batch[\"decoder_input_ids\"] = outputs.input_ids\n",
        "  batch[\"decoder_attention_mask\"] = outputs.attention_mask\n",
        "  batch[\"labels\"] = outputs.input_ids.copy()\n",
        "\n",
        "  # because BERT automatically shifts the labels, the labels correspond exactly to `decoder_input_ids`. \n",
        "  # We have to make sure that the PAD token is ignored\n",
        "  batch[\"labels\"] = [[-100 if token == tokenizer.pad_token_id else token for token in labels] for labels in batch[\"labels\"]]\n",
        "\n",
        "  return batch"
      ],
      "execution_count": null,
      "outputs": []
    },
    {
      "cell_type": "code",
      "metadata": {
        "id": "Z396M38-beJE"
      },
      "source": [
        "batch_size=4\n",
        "\n",
        "training_data = training_data.map(\n",
        "    process_data_to_model_inputs, \n",
        "    batched=True, \n",
        "    batch_size=batch_size, \n",
        "    remove_columns=[\"input\", \"output\", \"id\"]\n",
        ")"
      ],
      "execution_count": null,
      "outputs": []
    },
    {
      "cell_type": "code",
      "metadata": {
        "id": "rQ2nmUCRbzxY"
      },
      "source": [
        "training_data = train_data.select(range(sample_size))\n",
        "val_data = pd.concat([train_data, training_data]).drop_duplicates(keep=False)"
      ],
      "execution_count": null,
      "outputs": []
    },
    {
      "cell_type": "code",
      "metadata": {
        "id": "GFBL22RxsN1Q"
      },
      "source": [
        "training_data"
      ],
      "execution_count": null,
      "outputs": []
    },
    {
      "cell_type": "code",
      "metadata": {
        "id": "-vZKuZVvqxlC"
      },
      "source": [
        "training_data.set_format(\n",
        "    type=\"torch\", columns=[\"input_ids\", \"attention_mask\", \"decoder_input_ids\", \"decoder_attention_mask\", \"labels\"],\n",
        ")\n"
      ],
      "execution_count": null,
      "outputs": []
    },
    {
      "cell_type": "code",
      "metadata": {
        "id": "lB-bX6qktl1i"
      },
      "source": [
        "val_data.set_format(\n",
        "    typt=\"torch\" , columns=[\"input_ids\", \"attention_mask\", \"decoder_input_ids\", \"decoder_attention_mask\", \"labels\"],\n",
        ")"
      ],
      "execution_count": null,
      "outputs": []
    },
    {
      "cell_type": "markdown",
      "source": [
        "####Loading the nlp model"
      ],
      "metadata": {
        "id": "W7_jfaHEAEv6"
      }
    },
    {
      "cell_type": "code",
      "source": [
        "bert2bert = EncoderDecoderModel.from_encoder_decoder_pretrained(bert_name_or_path,gpt_name_or_path)"
      ],
      "metadata": {
        "id": "5iBgzrfCDhXB"
      },
      "execution_count": null,
      "outputs": []
    },
    {
      "cell_type": "code",
      "source": [
        "bert2bert.config.decoder_start_token_id = tokenizer.cls_token_id\n",
        "bert2bert.config.eos_token_id = tokenizer.sep_token_id\n",
        "bert2bert.config.pad_token_id = tokenizer.pad_token_id\n",
        "bert2bert.config.vocab_size = bert2bert.config.encoder.vocab_size"
      ],
      "metadata": {
        "id": "0Yw-wS4QDhTj"
      },
      "execution_count": null,
      "outputs": []
    },
    {
      "cell_type": "code",
      "source": [
        "bert2bert.config.max_length = 23\n",
        "bert2bert.config.min_length = 2\n",
        "bert2bert.config.no_repeat_ngram_size = 3\n",
        "bert2bert.config.early_stopping = True\n",
        "bert2bert.config.length_penalty = 2.0\n",
        "bert2bert.config.num_beams = 4"
      ],
      "metadata": {
        "id": "kqmyO2eZEB-t"
      },
      "execution_count": null,
      "outputs": []
    },
    {
      "cell_type": "code",
      "source": [
        "%%capture\n",
        "!rm seq2seq_trainer.py\n",
        "!rm seq2seq_training_args.py\n",
        "!wget https://raw.githubusercontent.com/huggingface/transformers/master/examples/seq2seq/seq2seq_trainer.py\n",
        "!wget https://raw.githubusercontent.com/huggingface/transformers/master/examples/seq2seq/seq2seq_training_args.py"
      ],
      "metadata": {
        "id": "GCs5GmMLEMeg"
      },
      "execution_count": null,
      "outputs": []
    },
    {
      "cell_type": "code",
      "source": [
        "%%capture\n",
        "!pip install git-python==1.0.3\n",
        "!pip install rouge_score\n",
        "!pip install sacrebleu"
      ],
      "metadata": {
        "id": "m10TYMvtEjzv"
      },
      "execution_count": null,
      "outputs": []
    },
    {
      "cell_type": "code",
      "source": [
        "from seq2seq_trainer import Seq2SeqTrainer\n",
        "from seq2seq_training_args import Seq2SeqTrainingArguments"
      ],
      "metadata": {
        "id": "RRCu1wCVEmdl"
      },
      "execution_count": null,
      "outputs": []
    },
    {
      "cell_type": "code",
      "source": [
        "training_args = Seq2SeqTrainingArguments(\n",
        "    predict_with_generate=True,\n",
        "    evaluation_strategy=\"steps\",\n",
        "    per_device_train_batch_size=batch_size,\n",
        "    per_device_eval_batch_size=batch_size,\n",
        "    fp16=True, \n",
        "    output_dir=\"/content/TasnimDataset/models\",\n",
        "    logging_steps=2,\n",
        "    save_steps=10,\n",
        "    eval_steps=4,\n",
        ")"
      ],
      "metadata": {
        "id": "Lj2Eme_9Eo4j"
      },
      "execution_count": null,
      "outputs": []
    },
    {
      "cell_type": "code",
      "source": [
        "rouge = datasets.load_metric(\"rouge\")"
      ],
      "metadata": {
        "id": "skBR5ZHtFBkY"
      },
      "execution_count": null,
      "outputs": []
    },
    {
      "cell_type": "code",
      "source": [
        "def compute_metrics(pred):\n",
        "    labels_ids = pred.label_ids\n",
        "    pred_ids = pred.predictions\n",
        "\n",
        "    pred_str = tokenizer.batch_decode(pred_ids, skip_special_tokens=True)\n",
        "    labels_ids[labels_ids == -100] = tokenizer.pad_token_id\n",
        "    label_str = tokenizer.batch_decode(labels_ids, skip_special_tokens=True)\n",
        "\n",
        "    rouge_output = rouge.compute(predictions=pred_str, references=label_str, rouge_types=[\"rouge2\"])[\"rouge2\"].mid\n",
        "\n",
        "    return {\n",
        "        \"rouge2_precision\": round(rouge_output.precision, 4),\n",
        "        \"rouge2_recall\": round(rouge_output.recall, 4),\n",
        "        \"rouge2_fmeasure\": round(rouge_output.fmeasure, 4),\n",
        "    }"
      ],
      "metadata": {
        "id": "t3yv70KYFHVm"
      },
      "execution_count": null,
      "outputs": []
    },
    {
      "cell_type": "code",
      "source": [
        "trainer = Seq2SeqTrainer(\n",
        "    model=bert2bert,\n",
        "    args=training_args,\n",
        "    compute_metrics=compute_metrics,\n",
        "    train_dataset=training_data,\n",
        "    eval_dataset=val_data,\n",
        ")\n",
        "trainer.train()"
      ],
      "metadata": {
        "id": "7ZFXf-6wFMcx"
      },
      "execution_count": null,
      "outputs": []
    },
    {
      "cell_type": "markdown",
      "metadata": {
        "id": "OnlqXa1SWKAo"
      },
      "source": [
        "## Prepareing data"
      ]
    },
    {
      "cell_type": "code",
      "source": [
        "import random\n",
        "import numpy as np\n",
        "\n",
        "# Loading the model configuration and setting it to the GPT2 standard settings.\n",
        "configuration = GPT2Config.from_pretrained('/content/gpt2', output_hidden_states=False)\n",
        "\n",
        "# Create the instance of the model and set the token size embedding length\n",
        "model = GPT2LMHeadModel.from_pretrained(\"/content/gpt2\", config=configuration)\n",
        "model.resize_token_embeddings(len(tokenizer))\n",
        "\n",
        "# Tell pytorch to run this model on the GPU.\n",
        "device = torch.device(\"cuda\")\n",
        "model.cuda()\n",
        "\n",
        "# This step is optional but will enable reproducible runs.\n",
        "seed_val = 42\n",
        "\n",
        "random.seed(seed_val)\n",
        "np.random.seed(seed_val)\n",
        "torch.manual_seed(seed_val)\n",
        "torch.cuda.manual_seed_all(seed_val)"
      ],
      "metadata": {
        "id": "i8oWfGTSeThK"
      },
      "execution_count": 27,
      "outputs": []
    },
    {
      "cell_type": "code",
      "source": [
        "##set parsebert \n",
        "\n",
        "encoder = BertGenerationEncoder.from_pretrained(\"HooshvareLab/roberta-fa-zwnj-base\", bos_token_id=101, eos_token_id=102)\n",
        "\n",
        "decoder = BertGenerationDecoder.from_pretrained(\n",
        "    \"/content/gpt2\", add_cross_attention=True, is_decoder=True, bos_token_id=101, eos_token_id=102\n",
        ")\n",
        "\n",
        "bert2bert = EncoderDecoderModel(encoder=encoder, decoder=decoder)\n",
        "\n",
        "##set our handy tokenizer\n",
        "tokenizer = BertTokenizer.from_pretrained(\"bert-large-uncased\")\n",
        "\n",
        "##a guide on how to use the model\n",
        "loss = bert2bert(input_ids=input_ids, decoder_input_ids=labels, labels=labels).loss\n",
        "loss.backward()"
      ],
      "metadata": {
        "id": "0b79hqFmiDvo"
      },
      "execution_count": null,
      "outputs": []
    },
    {
      "cell_type": "code",
      "source": [
        "from transformers import BertConfig, EncoderDecoderConfig, EncoderDecoderModel\n",
        "\n",
        "# Initializing a BERT bert-base-uncased style configuration\n",
        "config_encoder = BertConfig()\n",
        "config_decoder = BertConfig()\n",
        "\n",
        "config = EncoderDecoderConfig.from_encoder_decoder_configs(config_encoder, config_decoder)\n",
        "\n",
        "# Initializing a Bert2Bert model from the bert-base-uncased style configurations\n",
        "model = EncoderDecoderModel(config=config)\n",
        "\n",
        "# Accessing the model configuration\n",
        "config_encoder = model.config.encoder\n",
        "config_decoder = model.config.decoder\n",
        "# set decoder config to causal lm\n",
        "config_decoder.is_decoder = True\n",
        "config_decoder.add_cross_attention = True\n",
        "\n",
        "# Saving the model, including its configuration\n",
        "model.save_pretrained(\"my-model\")\n",
        "\n",
        "# loading model and config from pretrained folder\n",
        "encoder_decoder_config = EncoderDecoderConfig.from_pretrained(\"my-model\")\n",
        "model = EncoderDecoderModel.from_pretrained(\"my-model\", config=encoder_decoder_config)\n",
        "\n",
        "config_encoder = BertConfig(\"HooshvareLab/roberta-fa-zwnj-base\")\n",
        "config_decoder = BertConfig(\"/content/gpt2\")\n",
        "\n",
        "config = EncoderDecoderConfig.from_encoder_decoder_configs(config_encoder, config_decoder)\n",
        "\n",
        "# Initializing a Bert2Bert model from the bert-base-uncased style configurations\n",
        "model = EncoderDecoderModel(config=config)\n",
        "\n",
        "# Accessing the model configuration\n",
        "config_encoder = model.config.encoder\n",
        "config_decoder = model.config.decoder\n",
        "# set decoder config to causal lm\n",
        "config_decoder.is_decoder = True\n",
        "config_decoder.add_cross_attention = True\n",
        "\n",
        "# Saving the model, including its configuration\n",
        "model.save_pretrained(\"my-model\")\n",
        "\n",
        "# loading model and config from pretrained folder\n",
        "encoder_decoder_config = EncoderDecoderConfig.from_pretrained(\"my-model\")\n",
        "model = EncoderDecoderModel.from_pretrained(\"my-model\", config=encoder_decoder_config)"
      ],
      "metadata": {
        "id": "oBaRhxqv3ID9"
      },
      "execution_count": null,
      "outputs": []
    },
    {
      "cell_type": "code",
      "source": [
        "epochs = 3\n",
        "warmup_steps = 1e2\n",
        "sample_every = 300"
      ],
      "metadata": {
        "id": "umiQ2kh6fX_l"
      },
      "execution_count": 30,
      "outputs": []
    },
    {
      "cell_type": "code",
      "source": [
        "from transformers import AdamW\n",
        "\n",
        "# AdamW is a class from the huggingface library, it is the optimizer we will be using, and we will only be instantiating it with the default parameters.\n",
        "optimizer = AdamW(\n",
        "    model.parameters(),\n",
        "    lr=5e-4,\n",
        "    eps=1e-8\n",
        ")"
      ],
      "metadata": {
        "id": "Sts5KSlIfiUm",
        "outputId": "d53a7810-0d87-4c1d-c66f-bab97b394809",
        "colab": {
          "base_uri": "https://localhost:8080/"
        }
      },
      "execution_count": 31,
      "outputs": [
        {
          "output_type": "stream",
          "name": "stderr",
          "text": [
            "/usr/local/lib/python3.10/dist-packages/transformers/optimization.py:407: FutureWarning: This implementation of AdamW is deprecated and will be removed in a future version. Use the PyTorch implementation torch.optim.AdamW instead, or set `no_deprecation_warning=True` to disable this warning\n",
            "  warnings.warn(\n"
          ]
        }
      ]
    },
    {
      "cell_type": "code",
      "source": [
        "from transformers import get_linear_schedule_with_warmup\n",
        "\n",
        "\"\"\"\n",
        "Total training steps is the number of data points, times the number of epochs. \n",
        "Essentially, epochs are training cycles, how many times each point will be seen by the model. \n",
        "\"\"\"\n",
        "\n",
        "total_steps = len(train_dataloader) * epochs\n",
        "\n",
        "\"\"\"\n",
        "We can set a variable learning rate which will help scan larger areas of the \n",
        "problem space at higher LR earlier, then fine tune to find the exact model minima \n",
        "at lower LR later in training.\n",
        "\"\"\"\n",
        "scheduler = get_linear_schedule_with_warmup(\n",
        "    optimizer,\n",
        "    num_warmup_steps=warmup_steps,\n",
        "    num_training_steps=total_steps)\n"
      ],
      "metadata": {
        "id": "1V5GrPTHgwJe"
      },
      "execution_count": 32,
      "outputs": []
    },
    {
      "cell_type": "code",
      "source": [
        "tokenizer(texts[0])[\"input_ids\"]\n",
        "torch.tensor(tokenizer([texts[0]])[\"input_ids\"])"
      ],
      "metadata": {
        "id": "mGf2qvTDg1nJ",
        "outputId": "aaf5f1c9-f792-41a0-9708-b7a90f1268dd",
        "colab": {
          "base_uri": "https://localhost:8080/"
        }
      },
      "execution_count": 35,
      "outputs": [
        {
          "output_type": "execute_result",
          "data": {
            "text/plain": [
              "tensor([[  272,  1486, 13048, 19968,   293,  2251,  4495]])"
            ]
          },
          "metadata": {},
          "execution_count": 35
        }
      ]
    },
    {
      "cell_type": "code",
      "source": [
        "sample_text = texts[np.random.randint(0, len(texts))]\n",
        "sample_input = f\"<s>{sample_text}<|startoftext|>\"\n",
        "print(sample_input)\n",
        "sample_input_ids = torch.tensor(tokenizer([sample_input])[\"input_ids\"])\n",
        "sample_input_ids = sample_input_ids.to(device)\n",
        "\n",
        "sample_outputs = model.generate(\n",
        "    input_ids=sample_input_ids,\n",
        "    # bos_token_id=random.randint(1, len(tokenizer.get_vocab())),\n",
        "    do_sample=True,\n",
        "    top_k=12,\n",
        "    max_length=12,\n",
        "    top_p=0.95,\n",
        "    num_return_sequences=1\n",
        ")\n",
        "for i, sample_output in enumerate(sample_outputs):\n",
        "    gen_sample_output = tokenizer.decode(sample_output, skip_special_tokens=False)\n",
        "    gen_sample_output = gen_sample_output.replace(\"<|startoftext|>\", \"\\n\")\n",
        "    gen_sample_output = gen_sample_output.replace(\"<s>\", \"\")\n",
        "    gen_sample_output = gen_sample_output.replace(\"</s>\", \"\")\n",
        "    gen_sample_output = gen_sample_output.replace(\"<sep>\", \"\\n\")\n",
        "\n",
        "    print(f'Example output: {gen_sample_output}')"
      ],
      "metadata": {
        "id": "JJ3-8pQshCjJ",
        "outputId": "635496e1-622f-4ab2-efb7-12ee363c1ef9",
        "colab": {
          "base_uri": "https://localhost:8080/"
        }
      },
      "execution_count": 39,
      "outputs": [
        {
          "output_type": "stream",
          "name": "stdout",
          "text": [
            "<s>فینال لیگ برتر والیبال نشسته مردان<|startoftext|>\n",
            "Example output: فینال لیگ برتر والیبال نشسته مردان\n",
            "دین و بانوان\n"
          ]
        }
      ]
    },
    {
      "cell_type": "code",
      "source": [
        "import random\n",
        "import time\n",
        "import datetime\n",
        "from tqdm import tqdm\n",
        "\n",
        "\n",
        "def format_time(elapsed):\n",
        "    return str(datetime.timedelta(seconds=int(round((elapsed)))))\n",
        "\n",
        "\n",
        "total_t0 = time.time()\n",
        "\n",
        "training_stats = []\n",
        "\n",
        "model = model.to(device)\n",
        "\n",
        "for epoch_i in tqdm(range(0, epochs), position=0):\n",
        "\n",
        "    print(f'Beginning epoch {epoch_i + 1} of {epochs}')\n",
        "\n",
        "    t0 = time.time()\n",
        "\n",
        "    total_train_loss = 0\n",
        "\n",
        "    model.train()\n",
        "\n",
        "    for step, batch in tqdm(enumerate(train_dataloader), total=len(train_dataloader), position=0):\n",
        "\n",
        "        b_input_ids = batch[0].to(device)\n",
        "        b_labels = batch[0].to(device)\n",
        "        b_masks = batch[1].to(device)\n",
        "\n",
        "        model.zero_grad()\n",
        "\n",
        "        outputs = model(b_input_ids, labels=b_labels, attention_mask=b_masks, token_type_ids=None)\n",
        "\n",
        "        loss = outputs[0]\n",
        "\n",
        "        batch_loss = loss.item()\n",
        "        total_train_loss += batch_loss\n",
        "\n",
        "        # Get sample every 100 batches.\n",
        "        if step % sample_every == 0 and not step == 0:\n",
        "\n",
        "            elapsed = format_time(time.time() - t0)\n",
        "            print()\n",
        "            print(f'Batch {step} of {len(train_dataloader)}. Loss:{batch_loss}. Time:{elapsed}')\n",
        "\n",
        "            model.eval()\n",
        "\n",
        "            sample_poet = poets[np.random.randint(0, len(poets))]\n",
        "            sample_input = f\"<s>{sample_poet}<|startoftext|>\"\n",
        "            sample_input_ids = torch.tensor(tokenizer([sample_input])[\"input_ids\"])\n",
        "            sample_input_ids = sample_input_ids.to(device)\n",
        "\n",
        "            sample_outputs = model.generate(\n",
        "                input_ids=sample_input_ids,\n",
        "                # bos_token_id=random.randint(1, len(tokenizer.get_vocab())),\n",
        "                do_sample=True,\n",
        "                top_k=50,\n",
        "                max_length=50,\n",
        "                top_p=0.95,\n",
        "                num_return_sequences=1\n",
        "            )\n",
        "            for i, sample_output in enumerate(sample_outputs):\n",
        "                gen_sample_output = tokenizer.decode(sample_output, skip_special_tokens=False)\n",
        "                gen_sample_output = gen_sample_output.replace(\"<|startoftext|>\", \"\\n\")\n",
        "                gen_sample_output = gen_sample_output.replace(\"<s>\", \"\")\n",
        "                gen_sample_output = gen_sample_output.replace(\"</s>\", \"\")\n",
        "                gen_sample_output = gen_sample_output.replace(\"<sep>\", \"\\n\")\n",
        "\n",
        "                print(f'Example output: {gen_sample_output}')\n",
        "\n",
        "            model.train()\n",
        "\n",
        "        loss.backward()\n",
        "        optimizer.step()\n",
        "        scheduler.step()\n",
        "\n",
        "    # Calculate the average loss over all of the batches.\n",
        "    avg_train_loss = total_train_loss / len(train_dataloader)\n",
        "\n",
        "    # Measure how long this epoch took.\n",
        "    training_time = format_time(time.time() - t0)\n",
        "\n",
        "    print()\n",
        "    print(f'Average Training Loss: {avg_train_loss}. Epoch time: {training_time}')\n",
        "    print()\n",
        "\n",
        "    t0 = time.time()\n",
        "\n",
        "    model.eval()\n",
        "\n",
        "    total_eval_loss = 0\n",
        "    nb_eval_steps = 0\n",
        "\n",
        "    # Evaluate data for one epoch\n",
        "    for batch in tqdm(validation_dataloader, total=len(validation_dataloader), position=0):\n",
        "\n",
        "        b_input_ids = batch[0].to(device)\n",
        "        b_labels = batch[0].to(device)\n",
        "        b_masks = batch[1].to(device)\n",
        "\n",
        "        with torch.no_grad():\n",
        "\n",
        "            outputs = model(b_input_ids, attention_mask=b_masks, labels=b_labels)\n",
        "\n",
        "            loss = outputs[0]\n",
        "\n",
        "        batch_loss = loss.item()\n",
        "        total_eval_loss += batch_loss\n",
        "\n",
        "    avg_val_loss = total_eval_loss / len(validation_dataloader)\n",
        "\n",
        "    validation_time = format_time(time.time() - t0)\n",
        "\n",
        "    print()\n",
        "    print(f'Validation loss: {avg_val_loss}. Validation Time: {validation_time}')\n",
        "    print()\n",
        "\n",
        "    # Record all statistics from this epoch.\n",
        "    training_stats.append(\n",
        "        {\n",
        "            'epoch': epoch_i + 1,\n",
        "            'Training Loss': avg_train_loss,\n",
        "            'Valid. Loss': avg_val_loss,\n",
        "            'Training Time': training_time,\n",
        "            'Validation Time': validation_time\n",
        "        }\n",
        "    )\n",
        "\n",
        "print(f'Total training took {format_time(time.time()-total_t0)}')"
      ],
      "metadata": {
        "id": "U9S3Yvvrh8vw"
      },
      "execution_count": null,
      "outputs": []
    },
    {
      "cell_type": "code",
      "execution_count": null,
      "metadata": {
        "id": "ITQnDH2JWKAo"
      },
      "outputs": [],
      "source": [
        "TEST_SIZE = 0.15\n",
        "VALIDATION_SIZE = 0.15\n",
        "BATCH_SIZE = 64\n",
        "\n",
        "class CLIPDataset(Dataset):\n",
        "    def __init__(self, list_image_path, list_txt):\n",
        "        self.image_path = list_image_path\n",
        "        self.text = my_tokenizer(list_txt).to(device)\n",
        "\n",
        "    def __len__(self):\n",
        "        return len(self.text)\n",
        "\n",
        "    def __getitem__(self, idx):\n",
        "        image = preprocess(Image.open(self.image_path[idx]))\n",
        "        text = self.text[idx]\n",
        "        return image, text\n",
        "\n",
        "# class CLIPDataset(Dataset):\n",
        "#     def __init__(self, images_path, list_txt):\n",
        "#         self.images_path = images_path\n",
        "#         # self.images = list_images.to(device)\n",
        "#         self.text = my_tokenizer(list_txt).to(device)\n",
        "\n",
        "#     def __len__(self):\n",
        "#         return len(self.text)\n",
        "\n",
        "#     def __getitem__(self, idx):\n",
        "#         image = images[idx]\n",
        "#         text = self.text[idx]\n",
        "#         return image, text\n",
        "\n",
        "all_df = pd.DataFrame({'text': text_title_list_final, 'image_path': images_list_final})\n",
        "\n",
        "train_df, test_df = train_test_split(all_df, test_size=TEST_SIZE, shuffle=True, random_state=42)\n",
        "train_df, val_df = train_test_split(train_df, test_size=VALIDATION_SIZE, shuffle=True, random_state=42)\n",
        "\n",
        "train_dataset = CLIPDataset(train_df['image_path'].tolist(), train_df['text'].tolist())\n",
        "test_dataset = CLIPDataset(test_df['image_path'].tolist(), test_df['text'].tolist())\n",
        "val_dataset = CLIPDataset(val_df['image_path'].tolist(), val_df['text'].tolist())\n",
        "\n",
        "dataloader = {}\n",
        "dataloader['train'] = DataLoader(train_dataset, batch_size = BATCH_SIZE)\n",
        "dataloader['test'] = DataLoader(test_dataset, batch_size = BATCH_SIZE)\n",
        "dataloader['val'] = DataLoader(val_dataset, batch_size = BATCH_SIZE)\n",
        "\n",
        "# Show shape of data\n",
        "for phase in ['train', 'test', 'val']:\n",
        "    for item in dataloader[phase]:\n",
        "        print(f'[{phase}]')\n",
        "        print(f'> item[0].shape: ', item[0].shape)\n",
        "        print(f'> item[1].shape: ', item[1].shape)\n",
        "        break"
      ]
    },
    {
      "cell_type": "markdown",
      "metadata": {
        "id": "28M9T4XYWKAo"
      },
      "source": [
        "## Fine-tune model"
      ]
    },
    {
      "cell_type": "markdown",
      "metadata": {
        "id": "OrCqJ4fMpX11"
      },
      "source": [
        "<div style=\"direction:rtl;\">در این بخش قصد داریم تا مدل ساخته شده را با استفاده از دیتاست مان Fine-tune کنیم.</div>"
      ]
    },
    {
      "cell_type": "markdown",
      "metadata": {
        "id": "nOBbl_UHpX11"
      },
      "source": [
        "<div style=\"direction:rtl;\">ابتدا لازم است تا یک سری از هایپرپارامترها را در این بخش تعیین کنیم:</div>\n",
        "</br>\n",
        "\n",
        "| Hyper-paremeter                                         | Value                                               |\n",
        "| ------------------------------------------------------- | --------------------------------------------------- |\n",
        "| Number of Epochs [EPOCH]                                |   10                                                |\n",
        "| Learning-Rate [LR]                                      |   1e-7                                              |\n",
        "| Eps for Adam-optimizer [EPS]                            |   1e-9                                              |\n",
        "| Weight decay of Adam-optimizer [WEIGHT_DECAY]           |   0.1                                               |\n",
        "| Maximum of learning-rate value for scheduler [MAX_LR]   |   1e-2                                              |\n",
        "| Optimizer                                               |   Adam                                              |\n",
        "| Learning-rate scheduler [scheduler]                     |   OneCycleLR                                        |\n",
        "| Image and text prediction loss                          |   CrossEntropyLoss                                  |\n",
        "| Number of freeze layers                                 |   20 layer of each module (visual and transformer)  |"
      ]
    },
    {
      "cell_type": "code",
      "execution_count": null,
      "metadata": {
        "id": "BE-R41RezF8H"
      },
      "outputs": [],
      "source": [
        "# !mkdir /content/drive/MyDrive/clip_trained_model"
      ]
    },
    {
      "cell_type": "code",
      "execution_count": null,
      "metadata": {
        "id": "32H5ab1nl_QZ"
      },
      "outputs": [],
      "source": [
        "EPOCH = 10\n",
        "LR = 1e-3\n",
        "EPS = 1e-9\n",
        "WEIGHT_DECAY = 0.1\n",
        "MAX_LR = 5e-3\n",
        "MIN_LR = 1e-7\n",
        "BASE_MODEL_PATH = '/content/drive/MyDrive/TasnimDataset/models/clip_trained_model/'"
      ]
    },
    {
      "cell_type": "code",
      "execution_count": null,
      "metadata": {
        "id": "9-La7qSMVWIZ"
      },
      "outputs": [],
      "source": [
        "loss_img = nn.CrossEntropyLoss()\n",
        "loss_txt = nn.CrossEntropyLoss()\n",
        "\n",
        "optimizer = torch.optim.AdamW(model.parameters(), \n",
        "                             lr=LR,\n",
        "                             betas=(0.9,0.98),\n",
        "                             eps=EPS,\n",
        "                             weight_decay=WEIGHT_DECAY) \n",
        "\n",
        "scheduler = torch.optim.lr_scheduler.OneCycleLR(optimizer, \n",
        "                                                max_lr=MAX_LR, \n",
        "                                                steps_per_epoch=len(dataloader['train']), \n",
        "                                                epochs=EPOCH)"
      ]
    },
    {
      "cell_type": "markdown",
      "metadata": {
        "id": "5gkQhih_ebp1"
      },
      "source": [
        "<div style=\"direction:rtl;\">در این بخش مدل زبانی و مدل تصویر ۲۰ لایه آخر به حالت قابل آموزش هستند و بقیه مدل فریز شده است:</div>"
      ]
    },
    {
      "cell_type": "code",
      "execution_count": null,
      "metadata": {
        "id": "B1HXx-XHpX12"
      },
      "outputs": [],
      "source": [
        "layer_num = [0, 0]\n",
        "freeze_layer_thr = 30\n",
        "freeze_layer_txt_thr = 20\n",
        "\n",
        "for param in model.transformer.parameters():\n",
        "    layer_num[0]+=1\n",
        "for param in model.visual.parameters():\n",
        "    layer_num[1]+=1\n",
        "\n",
        "for i, param in enumerate(model.transformer.parameters()):\n",
        "    if freeze_layer_txt_thr >= layer_num[0] - i:\n",
        "        param.requires_grad = True\n",
        "    else:\n",
        "        param.requires_grad = False\n",
        "for i, param in enumerate(model.visual.parameters()):\n",
        "    if freeze_layer_thr >= layer_num[1] - i:\n",
        "        param.requires_grad = True\n",
        "    else:\n",
        "        param.requires_grad = False\n",
        "\n"
      ]
    },
    {
      "cell_type": "markdown",
      "metadata": {
        "id": "0ZF7V8dlpX12"
      },
      "source": [
        "<div style=\"direction:rtl;\">فرآیند آموزش به این شکل است که دارای دو فاز آموزش و اعتبار می باشد، در فاز آموزش گرادیان ها حساب شده و مراحل backpropagation انجام می شود ولی در فاز اعتبار صرفا بررسی می شود که مقدار loss چقدر است برای این داده ها، به نوعی برای مشخص کردن محلی است که مدل به اندازه کافی خوب شده است. که در این آموزش در ایپاک ۴ مدل خوب شده است.</div>\n",
        "\n",
        "</br>\n",
        "\n",
        "<div style=\"direction:rtl;\">به منظور محاسبه loss در هنگام یادگیری، مطابق با <a href=\"https://arxiv.org/abs/2103.00020\">مقاله CLIP</a> فرآیند انجام شده است:</div>\n",
        "\n",
        "<br>\n",
        "\n",
        "<p align=\"center\"><img src=\"https://github.com/AAhmadS/NLP-HW3/blob/data/clip_train_loss.png?raw=1\" width=60% /></p>"
      ]
    },
    {
      "cell_type": "code",
      "execution_count": null,
      "metadata": {
        "id": "cHNzRPPOWKAp"
      },
      "outputs": [],
      "source": [
        "def train_model(model, optimizer, scheduler, num_epochs=10):\n",
        "    since = time.time()\n",
        "\n",
        "    for epoch in range(num_epochs):\n",
        "        print(f'Epoch {epoch+1}/{num_epochs}')\n",
        "        print('-' * 10)\n",
        "\n",
        "        best_val_loss = 10000000 \n",
        "        for phase in ['train', 'val']:\n",
        "            if phase == 'train':\n",
        "                model.train()\n",
        "            else:\n",
        "                model.eval()\n",
        "\n",
        "            total_loss = 0.0\n",
        "            num = 0\n",
        "\n",
        "            with tqdm(dataloader[phase]) as pbar:\n",
        "              for batch in pbar:\n",
        "                optimizer.zero_grad()\n",
        "                images, texts = batch\n",
        "                images = images.to(device)\n",
        "                texts = texts.to(device)\n",
        "\n",
        "                with torch.set_grad_enabled(phase == 'train'):\n",
        "                    logits_per_image, logits_per_text = model(images, texts)\n",
        "                    ground_truth = torch.arange(len(images),dtype=torch.long,device=device)\n",
        "                    batch_loss = (loss_img(logits_per_image,ground_truth) + loss_txt(logits_per_text,ground_truth))/2\n",
        "\n",
        "                    if phase == 'train':\n",
        "                        batch_loss.backward()\n",
        "                        optimizer.step()\n",
        "\n",
        "                total_loss += batch_loss\n",
        "                num += 1\n",
        "              if phase == 'train':\n",
        "                  scheduler.step()\n",
        "\n",
        "              epoch_loss = total_loss / num\n",
        "              pbar.set_description(f'EPOCH:{epoch+1} - Loss: {epoch_loss/(i+1):.4f}')    \n",
        "\n",
        "              \n",
        "              if phase == 'val':\n",
        "                if epoch_loss < best_val_loss:\n",
        "                  best_val_loss = epoch_loss\n",
        "                  torch.save(model.state_dict(), BASE_MODEL_PATH+f'clip_en_fi_ep.pt')\n",
        "\n",
        "              print(f'{phase} Loss: {epoch_loss:.4f}')\n",
        "\n",
        "              if phase == 'train':\n",
        "                  torch.save(model.state_dict(), BASE_MODEL_PATH+f'clip_en_fi_ep{epoch}.pt')\n",
        "        print()\n",
        "    time_elapsed = time.time() - since\n",
        "    print(f'Training complete in {time_elapsed // 60:.0f}m {time_elapsed % 60:.0f}s')"
      ]
    },
    {
      "cell_type": "code",
      "execution_count": null,
      "metadata": {
        "id": "3XQlseyeskc3",
        "outputId": "b36f38c3-a1a7-4312-be79-10539992843a",
        "colab": {
          "base_uri": "https://localhost:8080/",
          "height": 373
        }
      },
      "outputs": [
        {
          "output_type": "stream",
          "name": "stdout",
          "text": [
            "Epoch 1/5\n",
            "----------\n"
          ]
        },
        {
          "output_type": "stream",
          "name": "stderr",
          "text": [
            "  0%|          | 2/467 [00:17<1:08:41,  8.86s/it]\n"
          ]
        },
        {
          "output_type": "error",
          "ename": "KeyboardInterrupt",
          "evalue": "ignored",
          "traceback": [
            "\u001b[0;31m---------------------------------------------------------------------------\u001b[0m",
            "\u001b[0;31mKeyboardInterrupt\u001b[0m                         Traceback (most recent call last)",
            "\u001b[0;32m<ipython-input-29-451e4ab274b9>\u001b[0m in \u001b[0;36m<cell line: 1>\u001b[0;34m()\u001b[0m\n\u001b[0;32m----> 1\u001b[0;31m \u001b[0mtrain_model\u001b[0m\u001b[0;34m(\u001b[0m\u001b[0mmodel\u001b[0m\u001b[0;34m=\u001b[0m\u001b[0mmodel\u001b[0m\u001b[0;34m,\u001b[0m \u001b[0moptimizer\u001b[0m\u001b[0;34m=\u001b[0m\u001b[0moptimizer\u001b[0m\u001b[0;34m,\u001b[0m \u001b[0mscheduler\u001b[0m\u001b[0;34m=\u001b[0m\u001b[0mscheduler\u001b[0m\u001b[0;34m,\u001b[0m \u001b[0mnum_epochs\u001b[0m\u001b[0;34m=\u001b[0m\u001b[0;36m5\u001b[0m\u001b[0;34m)\u001b[0m\u001b[0;34m\u001b[0m\u001b[0;34m\u001b[0m\u001b[0m\n\u001b[0m",
            "\u001b[0;32m<ipython-input-28-307d6c366f92>\u001b[0m in \u001b[0;36mtrain_model\u001b[0;34m(model, optimizer, scheduler, num_epochs)\u001b[0m\n\u001b[1;32m     20\u001b[0m                 \u001b[0moptimizer\u001b[0m\u001b[0;34m.\u001b[0m\u001b[0mzero_grad\u001b[0m\u001b[0;34m(\u001b[0m\u001b[0;34m)\u001b[0m\u001b[0;34m\u001b[0m\u001b[0;34m\u001b[0m\u001b[0m\n\u001b[1;32m     21\u001b[0m                 \u001b[0mimages\u001b[0m\u001b[0;34m,\u001b[0m \u001b[0mtexts\u001b[0m \u001b[0;34m=\u001b[0m \u001b[0mbatch\u001b[0m\u001b[0;34m\u001b[0m\u001b[0;34m\u001b[0m\u001b[0m\n\u001b[0;32m---> 22\u001b[0;31m                 \u001b[0mimages\u001b[0m \u001b[0;34m=\u001b[0m \u001b[0mimages\u001b[0m\u001b[0;34m.\u001b[0m\u001b[0mto\u001b[0m\u001b[0;34m(\u001b[0m\u001b[0mdevice\u001b[0m\u001b[0;34m)\u001b[0m\u001b[0;34m\u001b[0m\u001b[0;34m\u001b[0m\u001b[0m\n\u001b[0m\u001b[1;32m     23\u001b[0m                 \u001b[0mtexts\u001b[0m \u001b[0;34m=\u001b[0m \u001b[0mtexts\u001b[0m\u001b[0;34m.\u001b[0m\u001b[0mto\u001b[0m\u001b[0;34m(\u001b[0m\u001b[0mdevice\u001b[0m\u001b[0;34m)\u001b[0m\u001b[0;34m\u001b[0m\u001b[0;34m\u001b[0m\u001b[0m\n\u001b[1;32m     24\u001b[0m \u001b[0;34m\u001b[0m\u001b[0m\n",
            "\u001b[0;31mKeyboardInterrupt\u001b[0m: "
          ]
        }
      ],
      "source": [
        "train_model(model=model, optimizer=optimizer, scheduler=scheduler, num_epochs=5)"
      ]
    },
    {
      "cell_type": "code",
      "source": [
        "\n",
        "torch.save(model.state_dict(), f'clip_en_fi_ep{1}.pt')\n",
        "          "
      ],
      "metadata": {
        "id": "Bd7-XnKhYbkS"
      },
      "execution_count": null,
      "outputs": []
    },
    {
      "cell_type": "markdown",
      "source": [
        "##Adding the decoder to the model"
      ],
      "metadata": {
        "id": "oqERFn9YJ6YV"
      }
    },
    {
      "cell_type": "code",
      "source": [
        "!pip install -q BertGeneration"
      ],
      "metadata": {
        "id": "FmcexjWGMCXm"
      },
      "execution_count": null,
      "outputs": []
    },
    {
      "cell_type": "code",
      "source": [
        "import BertGeneration\n",
        "decoder = BertGenerationDecoder.from_pretrained(\n",
        "    \"bert-large-uncased\", add_cross_attention=True, is_decoder=True, bos_token_id=101, eos_token_id=102\n",
        ")"
      ],
      "metadata": {
        "id": "hRUx1Hm5J8Wt"
      },
      "execution_count": null,
      "outputs": []
    },
    {
      "cell_type": "code",
      "source": [
        "##decoding loop\n",
        "\n",
        "def train_model(model, optimizer, scheduler, num_epochs=5, criterion):\n",
        "    since = time.time()\n",
        "\n",
        "    for epoch in range(num_epochs):\n",
        "        print(f'Epoch {epoch+1}/{num_epochs}')\n",
        "        print('-' * 10)\n",
        "\n",
        "        best_val_loss = 10000000 \n",
        "        for phase in ['train', 'val']:\n",
        "            if phase == 'train':\n",
        "                model.train()\n",
        "            else:\n",
        "                model.eval()\n",
        "\n",
        "            total_loss = 0.0\n",
        "            num = 0\n",
        "\n",
        "            for batch in tqdm(dataloader[phase]):\n",
        "                optimizer.zero_grad()\n",
        "                images, texts = batch\n",
        "                images = images.to(device)\n",
        "                texts = texts.to(device)\n",
        "\n",
        "                with torch.set_grad_enabled(phase == 'train'):\n",
        "                    logits = model(images)\n",
        "                    ground_truth = texts\n",
        "                    batch_loss = criterion(logits, ground_truth)\n",
        "\n",
        "                    if phase == 'train':\n",
        "                        batch_loss.backward()\n",
        "                        optimizer.step()\n",
        "\n",
        "                total_loss += batch_loss\n",
        "                num += 1\n",
        "            if phase == 'train':\n",
        "                scheduler.step()\n",
        "\n",
        "            epoch_loss = total_loss / num\n",
        "            \n",
        "            if phase == 'val':\n",
        "              if epoch_loss < best_val_loss:\n",
        "                best_val_loss = epoch_loss\n",
        "                torch.save(model.state_dict(), BASE_MODEL_PATH+f'clip_en_fi_ep_dec.pt')\n",
        "\n",
        "            print(f'{phase} Loss: {epoch_loss:.4f}')\n",
        "\n",
        "            if phase == 'train':\n",
        "                torch.save(model.state_dict(), BASE_MODEL_PATH+f'clip_en_fi_ep_dec{epoch}.pt')\n",
        "            \n",
        "        print()\n",
        "\n",
        "    time_elapsed = time.time() - since\n",
        "    print(f'Training complete in {time_elapsed // 60:.0f}m {time_elapsed % 60:.0f}s')"
      ],
      "metadata": {
        "id": "uT98v5aRJ-rK"
      },
      "execution_count": null,
      "outputs": []
    },
    {
      "cell_type": "code",
      "source": [
        "##suitable dataset based on latent vectors extracted from data\n",
        "\n",
        "##todo \n",
        "\n",
        "##give all data latent vectors and save in the drive\n",
        "\n",
        "\n",
        "## create the dataset, it should take vectors and text as input and output"
      ],
      "metadata": {
        "id": "o-YunH6AKBif"
      },
      "execution_count": null,
      "outputs": []
    },
    {
      "cell_type": "code",
      "source": [
        "## parameters "
      ],
      "metadata": {
        "id": "8sI9zeEvKDfV"
      },
      "execution_count": null,
      "outputs": []
    },
    {
      "cell_type": "code",
      "source": [
        "##run"
      ],
      "metadata": {
        "id": "P4ydHMNYKa3j"
      },
      "execution_count": null,
      "outputs": []
    },
    {
      "cell_type": "code",
      "source": [
        "# from torch.utils.data import Dataset  # this is the pytorch class import\n",
        "# import torch\n",
        "# torch.manual_seed(42)\n",
        "\n",
        "\n",
        "# class MTGDataset(Dataset):\n",
        "\n",
        "#     def __init__(self, txt_list, tokenizer, max_length=1024):\n",
        "\n",
        "#         self.tokenizer = tokenizer  # the gpt2 tokenizer we instantiated\n",
        "#         self.input_ids = []\n",
        "#         self.attn_masks = []\n",
        "\n",
        "#         for txt in txt_list:\n",
        "#             \"\"\"\n",
        "#             This loop will iterate through each entry in the flavour text corpus.\n",
        "#             For each bit of text it will prepend it with the start of text token,\n",
        "#             then append the end of text token and pad to the maximum length with the \n",
        "#             pad token. \n",
        "#             \"\"\"\n",
        "\n",
        "#             encodings_dict = tokenizer('<s>' + txt + '</s>',\n",
        "#                                        truncation=True,\n",
        "#                                        max_length=max_length,\n",
        "#                                        padding=\"max_length\")\n",
        "\n",
        "#             \"\"\"\n",
        "#             Each iteration then appends either the encoded tensor to a list,\n",
        "#             or the attention mask for that encoding to a list. The attention mask is\n",
        "#             a binary list of 1's or 0's which determine whether the langauge model\n",
        "#             should take that token into consideration or not. \n",
        "#             \"\"\"\n",
        "#             self.input_ids.append(torch.tensor(encodings_dict['input_ids']))\n",
        "#             self.attn_masks.append(torch.tensor(encodings_dict['attention_mask']))\n",
        "\n",
        "#     def __len__(self):\n",
        "#         return len(self.input_ids)\n",
        "\n",
        "#     def __getitem__(self, idx):\n",
        "#         return self.input_ids[idx], self.attn_masks[idx]"
      ],
      "metadata": {
        "id": "gfldvKZyc8hK"
      },
      "execution_count": 18,
      "outputs": []
    },
    {
      "cell_type": "code",
      "source": [
        "# from torch.utils.data import random_split\n",
        "\n",
        "# texts = list(set(text_title_list_final))\n",
        "\n",
        "# dataset = MTGDataset(texts, tokenizer, max_length=max_seq)\n",
        "\n",
        "# # Split into training and validation sets\n",
        "# train_size = int(0.95 * len(dataset))\n",
        "# val_size = len(dataset) - train_size\n",
        "# train_dataset, val_dataset = random_split(dataset, [train_size, val_size])\n",
        "\n",
        "# f'There are {len(train_dataset)} samples for training, and {len(val_dataset)} samples for validation testing'"
      ],
      "metadata": {
        "id": "9nbrD34fdFm_",
        "outputId": "6088cb96-d216-48bc-b1ea-1412d9669fd5",
        "colab": {
          "base_uri": "https://localhost:8080/",
          "height": 35
        }
      },
      "execution_count": 21,
      "outputs": [
        {
          "output_type": "execute_result",
          "data": {
            "text/plain": [
              "'There are 1313 samples for training, and 70 samples for validation testing'"
            ],
            "application/vnd.google.colaboratory.intrinsic+json": {
              "type": "string"
            }
          },
          "metadata": {},
          "execution_count": 21
        }
      ]
    },
    {
      "cell_type": "code",
      "source": [
        "# from torch.utils.data import DataLoader, RandomSampler, SequentialSampler\n",
        "\n",
        "# train_dataloader = DataLoader(\n",
        "#     train_dataset,\n",
        "#     sampler=RandomSampler(train_dataset),\n",
        "#     batch_size=8\n",
        "# )\n",
        "\n",
        "# validation_dataloader = DataLoader(\n",
        "#     val_dataset,\n",
        "#     sampler=SequentialSampler(val_dataset),\n",
        "#     batch_size=8\n",
        "# )"
      ],
      "metadata": {
        "id": "h8xPqPzPeHTS"
      },
      "execution_count": 22,
      "outputs": []
    },
    {
      "cell_type": "code",
      "source": [
        "# len(tokenizer)"
      ],
      "metadata": {
        "id": "fUM8HYQPeh4o",
        "outputId": "0a2aa11a-4095-4a2f-e3fb-f797a9ebe123",
        "colab": {
          "base_uri": "https://localhost:8080/"
        }
      },
      "execution_count": 23,
      "outputs": [
        {
          "output_type": "execute_result",
          "data": {
            "text/plain": [
              "42001"
            ]
          },
          "metadata": {},
          "execution_count": 23
        }
      ]
    }
  ]
}