{
  "nbformat": 4,
  "nbformat_minor": 0,
  "metadata": {
    "colab": {
      "provenance": [],
      "authorship_tag": "ABX9TyNogm4Oziy40jWNKqTH3uRo",
      "include_colab_link": true
    },
    "kernelspec": {
      "name": "python3",
      "display_name": "Python 3"
    },
    "language_info": {
      "name": "python"
    }
  },
  "cells": [
    {
      "cell_type": "markdown",
      "metadata": {
        "id": "view-in-github",
        "colab_type": "text"
      },
      "source": [
        "<a href=\"https://colab.research.google.com/github/AAhmadS/NLP-HW3/blob/main/Multimodal.ipynb\" target=\"_parent\"><img src=\"https://colab.research.google.com/assets/colab-badge.svg\" alt=\"Open In Colab\"/></a>"
      ]
    },
    {
      "cell_type": "markdown",
      "metadata": {
        "id": "ee4wEwBwy9qE"
      },
      "source": [
        "# Loading data onto the disk"
      ]
    },
    {
      "cell_type": "code",
      "execution_count": 1,
      "metadata": {
        "id": "3YoIG770-WmH",
        "colab": {
          "base_uri": "https://localhost:8080/"
        },
        "outputId": "033bac34-f516-4a0f-89bb-3379406e7876"
      },
      "outputs": [
        {
          "output_type": "stream",
          "name": "stdout",
          "text": [
            "Looking in indexes: https://pypi.org/simple, https://us-python.pkg.dev/colab-wheels/public/simple/\n",
            "Requirement already satisfied: kaggle in /usr/local/lib/python3.10/dist-packages (1.5.13)\n",
            "Requirement already satisfied: six>=1.10 in /usr/local/lib/python3.10/dist-packages (from kaggle) (1.16.0)\n",
            "Requirement already satisfied: certifi in /usr/local/lib/python3.10/dist-packages (from kaggle) (2022.12.7)\n",
            "Requirement already satisfied: python-dateutil in /usr/local/lib/python3.10/dist-packages (from kaggle) (2.8.2)\n",
            "Requirement already satisfied: requests in /usr/local/lib/python3.10/dist-packages (from kaggle) (2.27.1)\n",
            "Requirement already satisfied: tqdm in /usr/local/lib/python3.10/dist-packages (from kaggle) (4.65.0)\n",
            "Requirement already satisfied: python-slugify in /usr/local/lib/python3.10/dist-packages (from kaggle) (8.0.1)\n",
            "Requirement already satisfied: urllib3 in /usr/local/lib/python3.10/dist-packages (from kaggle) (1.26.15)\n",
            "Requirement already satisfied: text-unidecode>=1.3 in /usr/local/lib/python3.10/dist-packages (from python-slugify->kaggle) (1.3)\n",
            "Requirement already satisfied: charset-normalizer~=2.0.0 in /usr/local/lib/python3.10/dist-packages (from requests->kaggle) (2.0.12)\n",
            "Requirement already satisfied: idna<4,>=2.5 in /usr/local/lib/python3.10/dist-packages (from requests->kaggle) (3.4)\n"
          ]
        }
      ],
      "source": [
        "!pip install kaggle"
      ]
    },
    {
      "cell_type": "code",
      "execution_count": 2,
      "metadata": {
        "id": "rNwkS_vw_zQY"
      },
      "outputs": [],
      "source": [
        "import json \n",
        "\n",
        "api = {\"username\":\"erwinfrece\",\"key\":\"55ebd86bb868f23f587a182bdff86493\"}\n",
        "with open('kaggle.json', 'w') as f:\n",
        "   json.dump(api, f)"
      ]
    },
    {
      "cell_type": "code",
      "execution_count": 3,
      "metadata": {
        "id": "W0WPeUjP_v8b"
      },
      "outputs": [],
      "source": [
        "!mkdir ~/.kaggle\n",
        "!cp kaggle.json ~/.kaggle/\n",
        "!chmod 600 ~/.kaggle/kaggle.json"
      ]
    },
    {
      "cell_type": "code",
      "execution_count": null,
      "metadata": {
        "id": "8L6OKvOgAWNn",
        "colab": {
          "base_uri": "https://localhost:8080/"
        },
        "outputId": "91105df9-0d76-4880-eccc-ca6b2760e7fd"
      },
      "outputs": [
        {
          "output_type": "stream",
          "name": "stdout",
          "text": [
            "Downloading persian-image-captioning-dataset.zip to /content\n",
            " 19% 327M/1.65G [00:15<01:04, 22.4MB/s]"
          ]
        }
      ],
      "source": [
        "!kaggle datasets download -d malekzadeharman/persian-image-captioning-dataset"
      ]
    },
    {
      "cell_type": "code",
      "execution_count": 1,
      "metadata": {
        "colab": {
          "base_uri": "https://localhost:8080/"
        },
        "id": "CyaJ4h0Oy9qH",
        "outputId": "6c7c2997-973a-46c6-cf17-eaa4bedb4d63"
      },
      "outputs": [
        {
          "output_type": "stream",
          "name": "stdout",
          "text": [
            "Mounted at /content/drive\n"
          ]
        }
      ],
      "source": [
        "from google.colab import drive\n",
        "drive.mount('/content/drive')"
      ]
    },
    {
      "cell_type": "code",
      "execution_count": 2,
      "metadata": {
        "colab": {
          "base_uri": "https://localhost:8080/"
        },
        "id": "8iZpV3lGy9qI",
        "outputId": "9205d131-5417-4245-ae0e-d213eecd9fb5"
      },
      "outputs": [
        {
          "output_type": "stream",
          "name": "stdout",
          "text": [
            "/content/drive/My Drive\n"
          ]
        }
      ],
      "source": [
        "%cd drive/My Drive/NLP"
      ]
    },
    {
      "cell_type": "code",
      "execution_count": null,
      "metadata": {
        "id": "rc8F8EGxy9qJ"
      },
      "outputs": [],
      "source": [
        "# !ls drive/My\\ Drive/"
      ]
    },
    {
      "cell_type": "code",
      "execution_count": null,
      "metadata": {
        "id": "tJexWXK2y9qJ"
      },
      "outputs": [],
      "source": [
        "# !cp train_ende.zip .\n",
        "# !cp test.zip ."
      ]
    },
    {
      "cell_type": "code",
      "execution_count": null,
      "metadata": {
        "id": "GrY8wnUOy9qK"
      },
      "outputs": [],
      "source": [
        "#!git clone https://github.com/XL2248/MSCTD"
      ]
    },
    {
      "cell_type": "code",
      "execution_count": null,
      "metadata": {
        "id": "pE0KdySQy9qK"
      },
      "outputs": [],
      "source": [
        "'''\n",
        "!cp MSCTD/MSCTD_data/ende/english_*.txt .\n",
        "!cp MSCTD/MSCTD_data/ende/image_index_*.txt .\n",
        "!cp MSCTD/MSCTD_data/ende/sentiment_*.txt .\n",
        "\n",
        "import os\n",
        "import shutil\n",
        "\n",
        "for file in os.listdir('MSCTD/MSCTD_data/ende'):\n",
        "    if file.startswith('english_'):\n",
        "        shutil.copy('MSCTD/MSCTD_data/ende/' + file, file)\n",
        "    if file.startswith('image_index_'):\n",
        "        shutil.copy('MSCTD/MSCTD_data/ende/' + file, file)\n",
        "    if file.startswith('sentiment_'):\n",
        "        shutil.copy('MSCTD/MSCTD_data/ende/' + file, file)\n",
        "'''"
      ]
    },
    {
      "cell_type": "code",
      "execution_count": null,
      "metadata": {
        "id": "pL84Z09dy9qL"
      },
      "outputs": [],
      "source": [
        "#!pip install --upgrade --no-cache-dir gdown\n",
        "#!gdown --id 1GAZgPpTUBSfhne-Tp0GDkvSHuq6EMMbj\n",
        "#!gdown --id 1B9ZFmSTqfTMaqJ15nQDrRNLqBvo-B39W"
      ]
    },
    {
      "cell_type": "code",
      "source": [
        "%cd drive/MyDrive/dataset/train"
      ],
      "metadata": {
        "id": "X36bL6FdZZ-C"
      },
      "execution_count": null,
      "outputs": []
    },
    {
      "cell_type": "code",
      "source": [
        "!ls"
      ],
      "metadata": {
        "id": "qB-yhXBGLx47"
      },
      "execution_count": null,
      "outputs": []
    },
    {
      "cell_type": "code",
      "execution_count": null,
      "metadata": {
        "id": "ifqLr4vyy9qL"
      },
      "outputs": [],
      "source": [
        "!unzip train_ende.zip\n"
      ]
    },
    {
      "cell_type": "code",
      "execution_count": null,
      "metadata": {
        "id": "XOjTBAoJZkM2"
      },
      "outputs": [],
      "source": [
        "'''\n",
        "%%bash\n",
        "for x in *.zip\n",
        "do\n",
        "  unzip -qq $x\n",
        "done\n",
        "'''"
      ]
    },
    {
      "cell_type": "code",
      "execution_count": null,
      "metadata": {
        "id": "M0p4n5fty9qM"
      },
      "outputs": [],
      "source": [
        "# !mkdir dataset\n",
        "# !cd dataset; mkdir train test dev\n",
        "'''\n",
        "os.makedirs('dataset', exist_ok=True)\n",
        "os.makedirs('dataset/train', exist_ok=True)\n",
        "os.makedirs('dataset/test', exist_ok=True)\n",
        "os.makedirs('dataset/dev', exist_ok=True)\n",
        "'''"
      ]
    },
    {
      "cell_type": "code",
      "execution_count": null,
      "metadata": {
        "id": "6XqUi8SGy9qM"
      },
      "outputs": [],
      "source": [
        "# !mv *train* dataset/train\n",
        "# !mv *test* dataset/test\n",
        "# !mv *dev* dataset/dev\n",
        "'''\n",
        "for file in os.listdir():\n",
        "    if 'train' in file:\n",
        "        shutil.move(file, 'dataset/train')\n",
        "    if 'test' in file:\n",
        "        shutil.move(file, 'dataset/test')\n",
        "    if 'dev' in file:\n",
        "        shutil.move(file, 'dataset/dev')\n",
        "'''"
      ]
    },
    {
      "cell_type": "markdown",
      "metadata": {
        "id": "bnrp5n8jy9qM"
      },
      "source": [
        "# Dataset and Dataloader"
      ]
    },
    {
      "cell_type": "code",
      "execution_count": null,
      "metadata": {
        "id": "2kPg0W8My9qN"
      },
      "outputs": [],
      "source": [
        "!pip install -q mtcnn"
      ]
    },
    {
      "cell_type": "code",
      "execution_count": null,
      "metadata": {
        "id": "dCUd5o_Xy9qN"
      },
      "outputs": [],
      "source": [
        "import torch\n",
        "import torch.nn as nn\n",
        "import torch.nn.functional as F\n",
        "import torch.optim as optim\n",
        "from torchvision import transforms as T\n",
        "from torchvision.io import read_image\n",
        "from torch.utils.data import Dataset, DataLoader\n",
        "from torchvision import transforms\n",
        "from PIL import Image\n",
        "import os\n",
        "from pathlib import Path\n",
        "import pandas as pd\n",
        "import numpy as np\n",
        "import matplotlib.pyplot as plt\n",
        "%matplotlib inline\n",
        "import seaborn as sns\n",
        "import cv2\n",
        "from mtcnn.mtcnn import MTCNN\n",
        "import linecache"
      ]
    },
    {
      "cell_type": "code",
      "execution_count": null,
      "metadata": {
        "id": "XoQMEB-0y9qN"
      },
      "outputs": [],
      "source": [
        "class MSCTD_Dataset (Dataset):\n",
        "  def __init__(self, dataset_dir, images_dir, conversation_dir, texts, sentiments,\n",
        "                transform=None, preprocess_func=None, pad_idx=None, max_len=None):\n",
        "    self.dataset_path = Path(dataset_dir)\n",
        "    self.images_path = self.dataset_path / images_dir\n",
        "    self.sentiment_path = self.dataset_path / sentiments\n",
        "    self.text_path = self.dataset_path / texts\n",
        "    self.conversations_path = self.dataset_path / conversation_dir\n",
        "\n",
        "    self.transform = transform\n",
        "\n",
        "    self.preprocess_func = preprocess_func\n",
        "    self.pad_idx = pad_idx\n",
        "    self.max_len = max_len\n",
        "\n",
        "    with open(self.text_path, 'r') as f:\n",
        "        self.texts = f.read().splitlines()\n",
        "\n",
        "    with open(self.sentiment_path, 'r') as f:\n",
        "        self.sentiments = np.array(f.read().splitlines()).astype(\"int32\")\n",
        "\n",
        "    with open(self.conversations_path, 'r') as f:\n",
        "        self.conversations = np.array(f.read().splitlines())\n",
        "    \n",
        "  def __len__(self):\n",
        "        return len(self.sentiments)\n",
        "\n",
        "  def __getitem__(self, idx):\n",
        "        img_path = self.images_path / f'{idx}.jpg'\n",
        "        image = Image.open(img_path)\n",
        "        # image = read_image(str(img_path))\n",
        "        if self.transform:\n",
        "            image = self.transform(image)\n",
        "       \n",
        "        text = self.texts[idx].strip()\n",
        "\n",
        "        if self.preprocess_func is not None:\n",
        "            text = self.preprocess_func(text)\n",
        "            if self.max_len is not None:\n",
        "                text = text[:self.max_len]\n",
        "            if self.pad_idx is not None:\n",
        "                text = F.pad(torch.tensor(text), (0, self.max_len - len(text)), 'constant', self.pad_idx)\n",
        "        \n",
        "        sentiment = self.sentiments[idx]\n",
        "\n",
        "        data_dict = {\"text\":text,\n",
        "                     \"image\":image,\n",
        "                     \"sentiment\":sentiment}\n",
        "        return data_dict"
      ]
    },
    {
      "cell_type": "code",
      "execution_count": null,
      "metadata": {
        "id": "rPs6IzWG1ERE"
      },
      "outputs": [],
      "source": [
        "class Final_Dataset (MSCTD_Dataset):\n",
        "  def __init__(self, dataset_dir, images_dir, conversation_dir, texts, sentiments,\n",
        "               preprocess_func=None, pad_idx=None, max_len=None, transform=None):\n",
        "\n",
        "    super().__init__(dataset_dir, images_dir, conversation_dir, texts, sentiments, transform)\n",
        "    self.dataset_path = Path(dataset_dir)\n",
        "    self.images_path = self.dataset_path / images_dir\n",
        "    self.sentiment_path = self.dataset_path / sentiments\n",
        "    self.text_path = self.dataset_path / texts\n",
        "    self.conversations_path = self.dataset_path / conversation_dir\n",
        "    self.transform = transform\n",
        "    self.preprocess_func = preprocess_func\n",
        "    self.pad_idx = pad_idx\n",
        "    self.max_len = max_len\n",
        "\n",
        "    with open(self.sentiment_path, 'r') as f:\n",
        "      self.length = len(f.readlines())\n",
        "\n",
        "    with open(self.text_path, 'r') as f:\n",
        "        self.texts = f.read().splitlines()\n",
        "\n",
        "    with open(self.sentiment_path, 'r') as f:\n",
        "        self.sentiments = np.array(f.read().splitlines()).astype(\"int32\")\n",
        "    \n",
        "    with open(self.conversations_path, 'r') as f:\n",
        "        self.conversations = np.array(f.read().splitlines())\n",
        "    \n",
        "  def __len__(self):\n",
        "        return self.length\n",
        "\n",
        "  def __getitem__(self, idx):\n",
        "        text = self.texts[idx]\n",
        "        if self.preprocess_func is not None:\n",
        "            text = self.preprocess_func(text)\n",
        "            if self.max_len is not None:\n",
        "                text = text[:self.max_len]\n",
        "            if self.pad_idx is not None:\n",
        "                text = F.pad(torch.tensor(text), (0, self.max_len - len(text)), 'constant', self.pad_idx)\n",
        "        labels = self.sentiments[idx]\n",
        "        img_path = self.images_path / f'{idx}.jpg'\n",
        "        image = Image.open(img_path)\n",
        "        if self.transform:\n",
        "            image = self.transform(image)\n",
        "        sentiment = self.sentiments[idx]\n",
        "        return text,image,sentiment"
      ]
    },
    {
      "cell_type": "code",
      "execution_count": null,
      "metadata": {
        "id": "QaGpy76hEVKb"
      },
      "outputs": [],
      "source": [
        "!pip install pyenchant"
      ]
    },
    {
      "cell_type": "code",
      "execution_count": null,
      "metadata": {
        "id": "E_CTK1b2y9qO"
      },
      "outputs": [],
      "source": [
        "import nltk\n",
        "import string\n",
        "from nltk.corpus import stopwords, wordnet\n",
        "from nltk.stem import WordNetLemmatizer\n",
        "from nltk.tokenize import word_tokenize\n",
        "from nltk import pos_tag\n",
        "\n",
        "import enchant\n",
        "english_dict = enchant.Dict(\"en_US\")"
      ]
    },
    {
      "cell_type": "code",
      "execution_count": null,
      "metadata": {
        "id": "NkzIr7yhEi5J"
      },
      "outputs": [],
      "source": [
        "nltk.download('punkt')\n",
        "nltk.download('stopwords')\n",
        "nltk.download('wordnet')\n",
        "nltk.download('omw-1.4')\n",
        "nltk.download('averaged_perceptron_tagger')"
      ]
    },
    {
      "cell_type": "code",
      "execution_count": null,
      "metadata": {
        "id": "a0AAW7pHy9qO"
      },
      "outputs": [],
      "source": [
        "NUM = '<NUM>'\n",
        "UNK = '<UNK>'\n",
        "\n",
        "lemmatizer = WordNetLemmatizer()\n",
        "stop_words = set(stopwords.words('english'))\n",
        "\n",
        "\n",
        "def sent_preprocess(sent, lower=True, remove_punct=True, remove_stopwords=True,\n",
        "                    lemmatize=True, handle_nums=True, handle_unknowns=True):\n",
        "    if lower:\n",
        "        sent = sent.lower()\n",
        "    \n",
        "    if remove_punct:\n",
        "        sent = sent.translate(str.maketrans('', '', string.punctuation))\n",
        "    \n",
        "    word_tokens = word_tokenize(sent)\n",
        "\n",
        "    if remove_stopwords:\n",
        "        word_tokens = [w for w in word_tokens if not w in stop_words]\n",
        "\n",
        "    if lemmatize:\n",
        "        word_tokens = [lemmatizer.lemmatize(w) for w in word_tokens]\n",
        "\n",
        "    if handle_nums:\n",
        "        \n",
        "        def is_number(s):\n",
        "            if s.isdigit():\n",
        "                return True\n",
        "            if s[:-2].isdigit():\n",
        "                if s[-2:] == 'th' or s[-2:] == 'st' or s[-2:] == 'nd' or s[-2:] == 'rd':\n",
        "                    return True\n",
        "            return False\n",
        "\n",
        "        word_tokens = [NUM if is_number(w) else w for w in word_tokens]\n",
        "\n",
        "    if handle_unknowns:\n",
        "        word_tokens = [w if english_dict.check(w) else UNK for w in word_tokens]\n",
        "\n",
        "    return word_tokens"
      ]
    },
    {
      "cell_type": "markdown",
      "metadata": {
        "id": "d33pQ5Yiy9qP"
      },
      "source": [
        "# Model"
      ]
    },
    {
      "cell_type": "markdown",
      "metadata": {
        "id": "ZwNin1RRy9qP"
      },
      "source": [
        "### Bert Congfiguration"
      ]
    },
    {
      "cell_type": "code",
      "execution_count": null,
      "metadata": {
        "id": "sgl3YjRdy9qQ",
        "colab": {
          "base_uri": "https://localhost:8080/"
        },
        "outputId": "2444a61f-ee44-48b3-a534-1aafc646fcbe"
      },
      "outputs": [
        {
          "output_type": "stream",
          "name": "stdout",
          "text": [
            "\u001b[2K     \u001b[90m━━━━━━━━━━━━━━━━━━━━━━━━━━━━━━━━━━━━━━━━\u001b[0m \u001b[32m6.3/6.3 MB\u001b[0m \u001b[31m24.0 MB/s\u001b[0m eta \u001b[36m0:00:00\u001b[0m\n",
            "\u001b[2K     \u001b[90m━━━━━━━━━━━━━━━━━━━━━━━━━━━━━━━━━━━━━━━\u001b[0m \u001b[32m190.3/190.3 KB\u001b[0m \u001b[31m6.8 MB/s\u001b[0m eta \u001b[36m0:00:00\u001b[0m\n",
            "\u001b[2K     \u001b[90m━━━━━━━━━━━━━━━━━━━━━━━━━━━━━━━━━━━━━━━━\u001b[0m \u001b[32m7.6/7.6 MB\u001b[0m \u001b[31m67.6 MB/s\u001b[0m eta \u001b[36m0:00:00\u001b[0m\n",
            "\u001b[?25h"
          ]
        }
      ],
      "source": [
        "!pip install -q transformers"
      ]
    },
    {
      "cell_type": "code",
      "execution_count": null,
      "metadata": {
        "id": "N4Ucqi-_y9qQ"
      },
      "outputs": [],
      "source": [
        "from transformers import BertConfig, BertTokenizer\n",
        "from transformers import BertModel, AutoModel, BertForSequenceClassification\n",
        "from transformers import AdamW"
      ]
    },
    {
      "cell_type": "code",
      "execution_count": null,
      "metadata": {
        "id": "O2Bh8S8cy9qQ"
      },
      "outputs": [],
      "source": [
        "device = torch.device(\"cuda:0\" if torch.cuda.is_available() else \"cpu\")"
      ]
    },
    {
      "cell_type": "code",
      "execution_count": null,
      "metadata": {
        "id": "0qcfGt4Iy9qR"
      },
      "outputs": [],
      "source": [
        "# general config\n",
        "MAX_LEN = 30\n",
        "\n",
        "TRAIN_BATCH_SIZE = 512\n",
        "VALID_BATCH_SIZE = 512\n",
        "TEST_BATCH_SIZE = 512\n",
        "\n",
        "EPOCHS = 4\n",
        "LEARNING_RATE = 5e-5\n",
        "\n",
        "MODEL_NAME = 'bert-base-uncased'"
      ]
    },
    {
      "cell_type": "code",
      "execution_count": null,
      "metadata": {
        "id": "kWZolUFby9qR"
      },
      "outputs": [],
      "source": [
        "tokenizer = BertTokenizer.from_pretrained(MODEL_NAME)\n",
        "config = BertConfig.from_pretrained(MODEL_NAME)"
      ]
    },
    {
      "cell_type": "code",
      "execution_count": null,
      "metadata": {
        "id": "D-5euGEWy9qR"
      },
      "outputs": [],
      "source": [
        "def bert_preprocess(text):\n",
        "    return tokenizer.encode_plus(\n",
        "        text,\n",
        "        max_length=MAX_LEN,\n",
        "        truncation=True,\n",
        "        add_special_tokens=True,\n",
        "        return_token_type_ids=True,\n",
        "        return_attention_mask=True,\n",
        "        padding='max_length',\n",
        "        return_tensors='pt',\n",
        "    )"
      ]
    },
    {
      "cell_type": "code",
      "execution_count": null,
      "metadata": {
        "id": "RZ0HjhmEy9qR"
      },
      "outputs": [],
      "source": [
        "# change this if needed\n",
        "transform = T.Compose([T.ToTensor()])\n",
        "\n",
        "trainset = MSCTD_Dataset('dataset/train', 'train_ende', 'image_index_train.txt', 'english_train.txt', 'sentiment_train.txt', preprocess_func=bert_preprocess, transform=transform)\n",
        "devset = MSCTD_Dataset('dataset/dev', 'dev', 'image_index_dev.txt', 'english_dev.txt', 'sentiment_dev.txt', preprocess_func=bert_preprocess, transform=transform)\n",
        "testset = MSCTD_Dataset('dataset/test', 'test', 'image_index_test.txt', 'english_test.txt', 'sentiment_test.txt', preprocess_func=bert_preprocess, transform=transform)"
      ]
    },
    {
      "cell_type": "code",
      "execution_count": null,
      "metadata": {
        "id": "7CCPafb8y9qR"
      },
      "outputs": [],
      "source": [
        "train_loader = DataLoader(trainset, batch_size=32, shuffle=False)\n",
        "dev_loader = DataLoader(devset, batch_size=32, shuffle=False)\n",
        "test_loader = DataLoader(testset, batch_size=32, shuffle=False)"
      ]
    },
    {
      "cell_type": "markdown",
      "source": [
        "#Section A:\n",
        "**In this section we aim to use vector representations of our dataset, concatenate them and make use of a fully connected model to take the best out of them**"
      ],
      "metadata": {
        "id": "lOOHhqFZOJAU"
      }
    },
    {
      "cell_type": "markdown",
      "metadata": {
        "id": "daeEHjMa-eVH"
      },
      "source": [
        "##Step 1:<br/>Load models trained in earlier phases"
      ]
    },
    {
      "cell_type": "code",
      "execution_count": null,
      "metadata": {
        "id": "pxtujlOnLJ4E",
        "colab": {
          "base_uri": "https://localhost:8080/"
        },
        "outputId": "a7184785-916a-408e-d799-c7ae108c6cac"
      },
      "outputs": [
        {
          "output_type": "execute_result",
          "data": {
            "text/plain": [
              "device(type='cuda', index=0)"
            ]
          },
          "metadata": {},
          "execution_count": 19
        }
      ],
      "source": [
        "import torch\n",
        "import torch.nn as nn\n",
        "import torch.nn.functional as F\n",
        "\n",
        "device = torch.device(\"cuda:0\" if torch.cuda.is_available() else \"cpu\")\n",
        "device"
      ]
    },
    {
      "cell_type": "code",
      "execution_count": null,
      "metadata": {
        "id": "zdTEdyP-LJ36"
      },
      "outputs": [],
      "source": [
        "transform = transforms.Compose([transforms.ToTensor()\n",
        "                                ,transforms.Resize((288,288),transforms.InterpolationMode(\"bicubic\"))\n",
        "                                ,transforms.Normalize([0.485, 0.456, 0.406],[0.229, 0.224, 0.225])])     \n",
        "def bert_preprocess(text):\n",
        "    return tokenizer.encode_plus(\n",
        "        text,\n",
        "        max_length= MAX_LEN,\n",
        "        truncation=True,\n",
        "        add_special_tokens=True,\n",
        "        return_token_type_ids=True,\n",
        "        return_attention_mask=True,\n",
        "        padding='max_length',\n",
        "        return_tensors='pt',\n",
        "    )\n",
        "train_dataset = Final_Dataset('dataset/train', 'train_ende', 'image_index_train.txt', 'english_train.txt', 'sentiment_train.txt',preprocess_func=bert_preprocess,transform=transform)\n",
        "dev_dataset = Final_Dataset('dataset/dev', 'dev', 'image_index_dev.txt', 'english_dev.txt', 'sentiment_dev.txt',preprocess_func=bert_preprocess,transform=transform)\n",
        "test_dataset = Final_Dataset('dataset/test', 'test', 'image_index_test.txt', 'english_test.txt', 'sentiment_test.txt',preprocess_func=bert_preprocess,transform=transform)"
      ]
    },
    {
      "cell_type": "code",
      "execution_count": null,
      "metadata": {
        "id": "NvGKsWqoLJ4F"
      },
      "outputs": [],
      "source": [
        "train_loader = torch.utils.data.DataLoader(train_dataset, batch_size=TRAIN_BATCH_SIZE, shuffle=True)\n",
        "dev_loader = torch.utils.data.DataLoader(dev_dataset, batch_size=VALID_BATCH_SIZE, shuffle=True)\n",
        "test_loader = torch.utils.data.DataLoader(test_dataset, batch_size=TEST_BATCH_SIZE, shuffle=True)"
      ]
    },
    {
      "cell_type": "code",
      "execution_count": null,
      "metadata": {
        "id": "j0WcDbRlStCn"
      },
      "outputs": [],
      "source": [
        "#!pip install --upgrade --no-cache-dir gdown\n",
        "#!gdown 11caq-CNLP6_V3106zj0zAkFyYPAjyjyw\n",
        "\n",
        "!pip install transformers\n",
        "from transformers import BertForSequenceClassification\n",
        "\n",
        "def load_pretrained_bert(name='models/bert_model.pt'):\n",
        "    model = BertForSequenceClassification.from_pretrained(\n",
        "    'bert-base-uncased',\n",
        "        num_labels = 3,\n",
        "        output_attentions = False,\n",
        "        output_hidden_states = False,\n",
        "    ).to(device)\n",
        "    model.load_state_dict(torch.load(name))\n",
        "    model.classifier = nn.Sequential()\n",
        "    return model"
      ]
    },
    {
      "cell_type": "code",
      "source": [
        "#!pip install --upgrade --no-cache-dir gdown\n",
        "#!gdown 1EfyDFNxAHGjvnLPRbP0SfnkV9g33-CFJ\n",
        "\n",
        "from torchvision.models import efficientnet_b2, EfficientNet_B2_Weights\n",
        "\n",
        "def load_pretrained_image(name = 'models/scene_modal_en.pth'):\n",
        "    class lastLayer(nn.Module):\n",
        "      def __init__(self, pretrained):\n",
        "          super(lastLayer, self).__init__()\n",
        "          self.pretrained = pretrained\n",
        "          self.last = nn.Sequential(\n",
        "              nn.Dropout(p = 0.2,inplace=True),\n",
        "              nn.Linear(1408, 90),\n",
        "              nn.Dropout(p = 0.3,inplace=True),\n",
        "              nn.Linear(90, 30),\n",
        "              nn.Dropout(p = 0.1,inplace=True),\n",
        "              nn.Linear(30, 3),\n",
        "              )\n",
        "      \n",
        "      def forward(self, x):\n",
        "          x = self.pretrained(x)\n",
        "          x = self.last(x)\n",
        "          return x\n",
        "\n",
        "    image_model = efficientnet_b2(weights=EfficientNet_B2_Weights.IMAGENET1K_V1)\n",
        "    image_model.classifier = nn.Sequential()\n",
        "    image_model = lastLayer(image_model).to(device)\n",
        "    image_model.load_state_dict(torch.load(\"models/scene_modal_en.pth\"))\n",
        "    image_model.last = nn.Sequential()\n",
        "    return image_model"
      ],
      "metadata": {
        "id": "PPgwDx9TS7od"
      },
      "execution_count": null,
      "outputs": []
    },
    {
      "cell_type": "code",
      "source": [
        "image_model = load_pretrained_image()\n",
        "text_model = load_pretrained_bert()\n"
      ],
      "metadata": {
        "id": "Ny_eeNyAWYCN"
      },
      "execution_count": null,
      "outputs": []
    },
    {
      "cell_type": "markdown",
      "source": [
        "##Step 2:<br/>Get Embedded vectors of our data using previous phases' models."
      ],
      "metadata": {
        "id": "MDp5Jcn-QUa7"
      }
    },
    {
      "cell_type": "code",
      "source": [
        "#!mkdir dataset/train/cated_data"
      ],
      "metadata": {
        "id": "0n-5ynunCjSW"
      },
      "execution_count": null,
      "outputs": []
    },
    {
      "cell_type": "code",
      "execution_count": null,
      "metadata": {
        "id": "a4_eC_ltRDOM"
      },
      "outputs": [],
      "source": [
        "'''\n",
        "import tqdm\n",
        "import pickle\n",
        "\n",
        "vectors = []\n",
        "labels = []\n",
        "with tqdm.tqdm(enumerate(train_loader), total=len(train_loader)) as pbar:\n",
        "      with torch.no_grad():  \n",
        "        for i, m in pbar:\n",
        "            data_i,image_i, y = m\n",
        "            (input_ids, attention_mask, token_type_ids) = data_i.values()\n",
        "            input_ids, attention_mask, token_type_ids = input_ids.to(device), attention_mask.to(device), token_type_ids.to(device)\n",
        "            y = y.to(device)\n",
        "            input_ids = input_ids.squeeze(1)\n",
        "            attention_mask = attention_mask.squeeze(1)\n",
        "            token_type_ids = token_type_ids.squeeze(1)\n",
        "            output = text_model(input_ids, attention_mask=attention_mask, token_type_ids=token_type_ids)\n",
        "            rep_text = output.logits\n",
        "            y = y.to(device)\n",
        "            image_i = image_i.to(device)\n",
        "            rep_image = image_model(image_i)\n",
        "            rep = torch.cat((rep_text,rep_image),dim=1)\n",
        "            print(rep.size())\n",
        "            print(y.size())\n",
        "            torch.save(y, \"dataset/train/cated_data/labels_\"+str(i)+\".pt\") \n",
        "            torch.save(rep, \"dataset/train/cated_data/vectors_\"+str(i)+\".pt\") \n",
        "'''"
      ]
    },
    {
      "cell_type": "code",
      "source": [
        "#!mkdir dataset/test/cated_data"
      ],
      "metadata": {
        "id": "eG34FLRtJUSx"
      },
      "execution_count": null,
      "outputs": []
    },
    {
      "cell_type": "code",
      "source": [
        "'''\n",
        "import tqdm\n",
        "import pickle\n",
        "\n",
        "vectors = []\n",
        "labels = []\n",
        "with tqdm.tqdm(enumerate(test_loader), total=len(test_loader)) as pbar:\n",
        "      with torch.no_grad():  \n",
        "        for i, m in pbar:\n",
        "            data_i,image_i, y = m\n",
        "            (input_ids, attention_mask, token_type_ids) = data_i.values()\n",
        "            input_ids, attention_mask, token_type_ids = input_ids.to(device), attention_mask.to(device), token_type_ids.to(device)\n",
        "            y = y.to(device)\n",
        "            input_ids = input_ids.squeeze(1)\n",
        "            attention_mask = attention_mask.squeeze(1)\n",
        "            token_type_ids = token_type_ids.squeeze(1)\n",
        "            output = text_model(input_ids, attention_mask=attention_mask, token_type_ids=token_type_ids)\n",
        "            rep_text = output.logits\n",
        "            y = y.to(device)\n",
        "            image_i = image_i.to(device)\n",
        "            rep_image = image_model(image_i)\n",
        "            rep = torch.cat((rep_text,rep_image),dim=1)\n",
        "            print(rep.size())\n",
        "            print(y.size())\n",
        "            torch.save(y, \"dataset/test/cated_data/labels_\"+str(i)+\".pt\") \n",
        "            torch.save(rep, \"dataset/test/cated_data/vectors_\"+str(i)+\".pt\") \n",
        "'''"
      ],
      "metadata": {
        "id": "2jA7MPKyTCSt"
      },
      "execution_count": null,
      "outputs": []
    },
    {
      "cell_type": "code",
      "source": [
        "image_lenght = int(len([name for name in os.listdir(\"dataset/train/cated_data\") if os.path.isfile(os.path.join(\"dataset/train/cated_data\", name))])/2)\n",
        "data_train = torch.load(\"dataset/train/cated_data/vectors_\"+str(0)+\".pt\")\n",
        "labels_train = torch.load(\"dataset/train/cated_data/labels_\"+str(0)+\".pt\")\n",
        "for i in range(1,image_lenght):\n",
        "  t = torch.load(\"dataset/train/cated_data/vectors_\"+str(i)+\".pt\")\n",
        "  lb = torch.load(\"dataset/train/cated_data/labels_\"+str(i)+\".pt\")\n",
        "  data_train = torch.cat((data_train,t),dim=0)\n",
        "  labels_train = torch.cat((labels_train,lb),dim=0)"
      ],
      "metadata": {
        "id": "2XDFwaRu-KPr"
      },
      "execution_count": null,
      "outputs": []
    },
    {
      "cell_type": "code",
      "source": [
        "data_train.size()"
      ],
      "metadata": {
        "id": "b1XxsJ59CWRf",
        "colab": {
          "base_uri": "https://localhost:8080/"
        },
        "outputId": "14443b61-b8eb-4b04-dac2-5c98d1be2dcb"
      },
      "execution_count": null,
      "outputs": [
        {
          "output_type": "execute_result",
          "data": {
            "text/plain": [
              "torch.Size([20240, 2176])"
            ]
          },
          "metadata": {},
          "execution_count": 39
        }
      ]
    },
    {
      "cell_type": "code",
      "source": [
        "labels_train.size()"
      ],
      "metadata": {
        "id": "YMIyuKUYDLMA",
        "colab": {
          "base_uri": "https://localhost:8080/"
        },
        "outputId": "307d40ca-4657-4668-84ba-341229127756"
      },
      "execution_count": null,
      "outputs": [
        {
          "output_type": "execute_result",
          "data": {
            "text/plain": [
              "torch.Size([20240])"
            ]
          },
          "metadata": {},
          "execution_count": 41
        }
      ]
    },
    {
      "cell_type": "code",
      "source": [
        "image_lenght = int(len([name for name in os.listdir(\"dataset/test/cated_data\") if os.path.isfile(os.path.join(\"dataset/test/cated_data\", name))])/2)\n",
        "data_test = torch.load(\"dataset/test/cated_data/vectors_\"+str(0)+\".pt\")\n",
        "labels_test = torch.load(\"dataset/test/cated_data/labels_\"+str(0)+\".pt\")\n",
        "for i in range(1,image_lenght):\n",
        "  t = torch.load(\"dataset/test/cated_data/vectors_\"+str(i)+\".pt\")\n",
        "  lb = torch.load(\"dataset/test/cated_data/labels_\"+str(i)+\".pt\")\n",
        "  data_test = torch.cat((data_test,t),dim=0)\n",
        "  labels_test = torch.cat((labels_test,lb),dim=0)"
      ],
      "metadata": {
        "id": "oBEdrV---KL-"
      },
      "execution_count": null,
      "outputs": []
    },
    {
      "cell_type": "code",
      "source": [
        "data_test.size()"
      ],
      "metadata": {
        "id": "fWkfwEVeESOq",
        "colab": {
          "base_uri": "https://localhost:8080/"
        },
        "outputId": "9bc5f35e-d2cd-4fea-e301-9eadc23be522"
      },
      "execution_count": null,
      "outputs": [
        {
          "output_type": "execute_result",
          "data": {
            "text/plain": [
              "torch.Size([5067, 2176])"
            ]
          },
          "metadata": {},
          "execution_count": 47
        }
      ]
    },
    {
      "cell_type": "code",
      "source": [
        "labels_test"
      ],
      "metadata": {
        "id": "BuX36_TiESOr",
        "colab": {
          "base_uri": "https://localhost:8080/"
        },
        "outputId": "373b94d2-7aa1-4f4b-8439-d02e5ad43100"
      },
      "execution_count": null,
      "outputs": [
        {
          "output_type": "execute_result",
          "data": {
            "text/plain": [
              "tensor([1, 1, 2,  ..., 2, 1, 2], device='cuda:0', dtype=torch.int32)"
            ]
          },
          "metadata": {},
          "execution_count": 146
        }
      ]
    },
    {
      "cell_type": "markdown",
      "metadata": {
        "id": "Q9DBYSgfy9qS"
      },
      "source": [
        "##Step 3:<br/>Define Model Architecture"
      ]
    },
    {
      "cell_type": "code",
      "execution_count": null,
      "metadata": {
        "id": "Syjw9cQCy9qS"
      },
      "outputs": [],
      "source": [
        "import torch.nn.functional as F\n",
        "class MultiModalModel(nn.Module):\n",
        "        def __init__(self,num_input,num_classes=3):\n",
        "          super(MultiModalModel,self).__init__()\n",
        "          hidden_1 = num_input//2\n",
        "          self.fc1 = nn.Linear(num_input, hidden_1)\n",
        "          self.fc2 = nn.Linear(hidden_1, num_classes)\n",
        "          self.droput = nn.Dropout(0.1)\n",
        "\n",
        "        def forward(self,x):\n",
        "          x = F.relu(self.fc1(x))\n",
        "          x = self.droput(x)\n",
        "          x = self.fc2(x)\n",
        "          return x"
      ]
    },
    {
      "cell_type": "code",
      "source": [
        "modalmodel = MultiModalModel(data_train.size()[1]).to(device)"
      ],
      "metadata": {
        "id": "u6-Iw2n7-ByU"
      },
      "execution_count": null,
      "outputs": []
    },
    {
      "cell_type": "markdown",
      "metadata": {
        "id": "VmEPjcvIy9qS"
      },
      "source": [
        "## Training"
      ]
    },
    {
      "cell_type": "code",
      "execution_count": null,
      "metadata": {
        "id": "OYgIeazay9qS"
      },
      "outputs": [],
      "source": [
        "from sklearn.metrics import accuracy_score, precision_score, recall_score, f1_score, confusion_matrix, ConfusionMatrixDisplay"
      ]
    },
    {
      "cell_type": "code",
      "execution_count": null,
      "metadata": {
        "id": "pAn3Vcziy9qS"
      },
      "outputs": [],
      "source": [
        "import tqdm\n",
        "\n",
        "def one_epoch(model, vector,truth, criterion, optimizer=None, train=True,batch_size = 64):\n",
        "    total_loss = 0\n",
        "    N = len(truth)\n",
        "    Y = []\n",
        "    Y_pred = []\n",
        "    if train:\n",
        "        model.train()\n",
        "    else:\n",
        "        model.eval()\n",
        "    for i in (range(N//batch_size + 1)):\n",
        "        vec = vector[i*batch_size:min((i+1)*batch_size,N)]\n",
        "        y = truth[i*batch_size:min((i+1)*batch_size,N)]\n",
        "        \n",
        "        if train:\n",
        "            optimizer.zero_grad()\n",
        "        vec = vec.to(device)\n",
        "        y = y.long().to(device)\n",
        "        p = model(vec)\n",
        "        loss = criterion(p, y.long())\n",
        "        total_loss += loss.item() * len(y)\n",
        "        if train:\n",
        "            loss.backward()\n",
        "            optimizer.step()\n",
        "        y_pred = p.argmax(dim=-1)\n",
        "        Y.append(y.cpu().numpy())\n",
        "        Y_pred.append(y_pred.cpu().numpy())\n",
        "\n",
        "    total_loss /= N\n",
        "\n",
        "    Y = np.concatenate(Y)\n",
        "    Y_pred = np.concatenate(Y_pred)\n",
        "    acc = accuracy_score(Y_pred, Y)\n",
        "    result = {'loss': total_loss, 'accuracy': acc}\n",
        "    if metrics is not None:\n",
        "        result.update({metric: metric_func(Y, Y_pred) for metric, metric_func in metrics.items()})\n",
        "\n",
        "    return result"
      ]
    },
    {
      "cell_type": "code",
      "execution_count": null,
      "metadata": {
        "id": "ngHxX_Y7y9qT"
      },
      "outputs": [],
      "source": [
        "def train_model(model, train,test, num_epochs, criterion, optimizer, model_name='pytroch-model', scheduler=None,batch_size=64):\n",
        "    train_loader, train_labels = train\n",
        "    test_loader, test_labels = test\n",
        "    min_val_acc = 0\n",
        "\n",
        "    train_losses = []\n",
        "    val_losses = []\n",
        "    train_accuracies = []\n",
        "    val_accuracies = []\n",
        "\n",
        "    for epoch in range(num_epochs):\n",
        "        result = one_epoch(model, train_loader,train_labels, criterion, optimizer, train=True,batch_size=batch_size)\n",
        "        train_loss = result['loss']\n",
        "        train_acc = result['accuracy']\n",
        "        train_losses.append(train_loss)\n",
        "        train_accuracies.append(train_acc)\n",
        "        val_result = one_epoch(model, test_loader,test_labels, criterion, train=False,batch_size=batch_size)\n",
        "        val_loss = val_result['loss']\n",
        "        val_acc = val_result['accuracy']\n",
        "        val_losses.append(val_loss)\n",
        "        val_accuracies.append(val_acc)\n",
        "        \n",
        "        print()\n",
        "        print(f'Train Accuracy : {train_acc*100.:2f}% , Train Loss : {train_loss:4f}')\n",
        "        print(f'Valid Accuracy : {val_acc*100.:2f}% , Valid Loss : {val_loss:4f}')\n",
        "\n",
        "        if val_acc > min_val_acc:\n",
        "            min_val_acc = val_acc\n",
        "            torch.save(model.state_dict(), f'{model_name}.pt')\n",
        "\n",
        "        if scheduler:\n",
        "            scheduler.step(val_loss)\n",
        "\n",
        "    plt.plot(train_losses, label='train')\n",
        "    plt.plot(val_losses, label='val')\n",
        "    plt.title('Loss history of training and Val sets')\n",
        "    plt.legend()\n",
        "    plt.show()\n",
        "\n",
        "    plt.plot(train_accuracies, label='train')\n",
        "    plt.plot(val_accuracies, label='val')\n",
        "    plt.title('Accuracy history of training and Val sets')\n",
        "    plt.legend()\n",
        "    plt.show()\n",
        "\n",
        "    model.load_state_dict(torch.load(f'{model_name}.pt'))\n",
        "    return model, min_val_loss"
      ]
    },
    {
      "cell_type": "code",
      "execution_count": null,
      "metadata": {
        "id": "p3hzyeR0y9qT"
      },
      "outputs": [],
      "source": [
        "average_policy = 'macro'\n",
        "metrics = {'accuracy': accuracy_score, 'precision': lambda y1, y2: precision_score(y1, y2, average=average_policy),\n",
        "           'recall': lambda y1, y2: recall_score(y1, y2, average=average_policy),\n",
        "           'f1': lambda y1, y2: f1_score(y1, y2, average=average_policy),\n",
        "           'confusion_matrix': confusion_matrix}"
      ]
    },
    {
      "cell_type": "code",
      "execution_count": null,
      "metadata": {
        "id": "7-mbbeDiy9qT"
      },
      "outputs": [],
      "source": [
        "# Training Configuration\n",
        "LEARNING_RATE = 1e-5\n",
        "EPOCH = 30\n",
        "BATCH_SIZE = 64\n",
        "optimizer = torch.optim.Adam(filter(lambda p: p.requires_grad, modalmodel.parameters()), lr=LEARNING_RATE)\n",
        "scheduler = torch.optim.lr_scheduler.ReduceLROnPlateau(optimizer, patience=2, verbose=True, factor=0.5)\n",
        "criterion = nn.CrossEntropyLoss()\n",
        "modalmodel, min_val_loss = train_model(modalmodel, (data_train,labels_train),(data_test,labels_test),EPOCH, criterion, optimizer, model_name='multi_modal', scheduler=scheduler,batch_size =BATCH_SIZE)"
      ]
    },
    {
      "cell_type": "markdown",
      "metadata": {
        "id": "U-1BiHYgy9qT"
      },
      "source": [
        "## Evaluation"
      ]
    },
    {
      "cell_type": "code",
      "execution_count": null,
      "metadata": {
        "id": "Xzj1ybzLy9qU"
      },
      "outputs": [],
      "source": [
        "def eval_model(model, loader, metrics=metrics, set_name='Test', plot_confusion_matrix=True):\n",
        "    test_loader,test_labels = loader\n",
        "    results = one_epoch(modalmodel, test_loader,test_labels, criterion, train=False,batch_size=64)\n",
        "    disp = ConfusionMatrixDisplay(results.pop('confusion_matrix'))\n",
        "    if plot_confusion_matrix:\n",
        "        disp.plot()\n",
        "    return results"
      ]
    },
    {
      "cell_type": "code",
      "execution_count": null,
      "metadata": {
        "id": "cEzw44yBy9qU",
        "colab": {
          "base_uri": "https://localhost:8080/",
          "height": 366
        },
        "outputId": "5bc6a1fa-9043-4c8b-f28e-6843ffed704e"
      },
      "outputs": [
        {
          "output_type": "execute_result",
          "data": {
            "text/plain": [
              "{'loss': 1.0308159757512125,\n",
              " 'accuracy': 0.5109532267613973,\n",
              " 'precision': 0.49459412570910005,\n",
              " 'recall': 0.49214243052451795,\n",
              " 'f1': 0.4865680397937809}"
            ]
          },
          "metadata": {},
          "execution_count": 192
        },
        {
          "output_type": "display_data",
          "data": {
            "text/plain": [
              "<Figure size 432x288 with 2 Axes>"
            ],
            "image/png": "[encoded data removed]"
          },
          "metadata": {
            "needs_background": "light"
          }
        }
      ],
      "source": [
        "eval_model(modalmodel, (data_test,labels_test))"
      ]
    },
    {
      "cell_type": "markdown",
      "source": [
        "#Section B:\n",
        "**Now we are to use a transformer model as a backbone**"
      ],
      "metadata": {
        "id": "WYv1s3SGBPiz"
      }
    },
    {
      "cell_type": "markdown",
      "source": [
        "##essential imports"
      ],
      "metadata": {
        "id": "WSnKi7xHChAM"
      }
    },
    {
      "cell_type": "code",
      "source": [
        "!pip install -q transformers"
      ],
      "metadata": {
        "id": "nqs4Olhdd49B"
      },
      "execution_count": null,
      "outputs": []
    },
    {
      "cell_type": "code",
      "source": [
        "from transformers import AutoTokenizer, VisualBertForVisualReasoning\n",
        "from transformers import BertConfig, BertTokenizer\n",
        "from transformers import BertModel, AutoModel, BertForSequenceClassification\n",
        "from transformers import AdamW\n",
        "import torch\n",
        "from torch.nn import BCEWithLogitsLoss as logit_bce"
      ],
      "metadata": {
        "id": "ilDISWmABYDb"
      },
      "execution_count": null,
      "outputs": []
    },
    {
      "cell_type": "code",
      "source": [
        "from sklearn.metrics import accuracy_score, precision_score, recall_score, f1_score, confusion_matrix, ConfusionMatrixDisplay\n"
      ],
      "metadata": {
        "id": "u2OV9E6Sl_qP"
      },
      "execution_count": null,
      "outputs": []
    },
    {
      "cell_type": "markdown",
      "source": [
        "##Configurations"
      ],
      "metadata": {
        "id": "BDu_UGoKCeZj"
      }
    },
    {
      "cell_type": "code",
      "source": [
        "device = torch.device(\"cuda:0\" if torch.cuda.is_available() else \"cpu\")"
      ],
      "metadata": {
        "id": "sHzg_AQ4EM17"
      },
      "execution_count": null,
      "outputs": []
    },
    {
      "cell_type": "code",
      "source": [
        "# general config\n",
        "VIS_EMB_DIM=1408\n",
        "TXT_EMB_DIM=768\n",
        "\n",
        "TRAIN_DATA_SIZE=40\n",
        "TEST_DATA_SIZE=10\n",
        "\n",
        "TRAIN_BATCH_SIZE = 240\n",
        "TEST_BATCH_SIZE = 240"
      ],
      "metadata": {
        "id": "YGDrXHQVBbPT"
      },
      "execution_count": null,
      "outputs": []
    },
    {
      "cell_type": "code",
      "source": [
        "model = VisualBertForVisualReasoning.from_pretrained(\"uclanlp/visualbert-nlvr2\",\n",
        "                                                    num_labels = 3,\n",
        "                                                    output_attentions=False,\n",
        "                                                    output_hidden_states=False,\n",
        "                                                    visual_embedding_dim = VIS_EMB_DIM,\n",
        "                                                    ignore_mismatched_sizes=True)\n",
        "\n",
        "model = model.to(device)"
      ],
      "metadata": {
        "colab": {
          "base_uri": "https://localhost:8080/"
        },
        "id": "Q7l8PxfgBhvj",
        "outputId": "99739790-d63d-4bff-eb84-975a0cf86e78"
      },
      "execution_count": null,
      "outputs": [
        {
          "output_type": "stream",
          "name": "stderr",
          "text": [
            "Some weights of VisualBertForVisualReasoning were not initialized from the model checkpoint at uclanlp/visualbert-nlvr2 and are newly initialized because the shapes did not match:\n",
            "- visual_bert.embeddings.visual_projection.weight: found shape torch.Size([768, 1024]) in the checkpoint and torch.Size([768, 1408]) in the model instantiated\n",
            "- cls.weight: found shape torch.Size([2, 768]) in the checkpoint and torch.Size([3, 768]) in the model instantiated\n",
            "- cls.bias: found shape torch.Size([2]) in the checkpoint and torch.Size([3]) in the model instantiated\n",
            "You should probably TRAIN this model on a down-stream task to be able to use it for predictions and inference.\n"
          ]
        }
      ]
    },
    {
      "cell_type": "markdown",
      "source": [
        "##Preparing suitable datasets for the process\n",
        "**Since we are dealing with a somewhat different data from the original data we used to work on; we now need a dataset compatible with the new data**"
      ],
      "metadata": {
        "id": "zT4N_jI2Esya"
      }
    },
    {
      "cell_type": "code",
      "source": [
        "class Final_Emb_Dataset (Dataset):\n",
        "  def __init__(self, dataset_dir, visual_embedded_dir, visual_file_len, transform=None):\n",
        "\n",
        "    self.visual_embedded_path = dataset_dir +\"/\"+ visual_embedded_dir\n",
        "    self.transform = transform\n",
        "\n",
        "    self.sentiments = torch.load(self.visual_embedded_path+\"/labels_0.pt\")\n",
        "    self.vectors = torch.load(self.visual_embedded_path+\"/vectors_0.pt\")\n",
        "    for i in range(1,visual_file_len):\n",
        "      self.sentiments = torch.cat((self.sentiments,torch.load(self.visual_embedded_path+f\"/labels_{i}.pt\")))\n",
        "      self.vectors = torch.cat((self.vectors,torch.load(self.visual_embedded_path+f\"/vectors_{i}.pt\")))\n",
        "\n",
        "    self.length= self.vectors.size()[0]\n",
        "\n",
        "    \n",
        "  def __len__(self):\n",
        "        return self.length\n",
        "\n",
        "  def __getitem__(self, idx):\n",
        "        sentiment = self.sentiments[idx]\n",
        "        image = self.vectors[idx,-VIS_EMB_DIM:]\n",
        "        text = self.vectors[idx,:TXT_EMB_DIM]\n",
        "        return text,image,sentiment"
      ],
      "metadata": {
        "id": "9dgoSNBBJp2S"
      },
      "execution_count": null,
      "outputs": []
    },
    {
      "cell_type": "code",
      "source": [
        "# def bert_preprocess(text):\n",
        "#     return tokenizer.encode_plus(\n",
        "#         text,\n",
        "#         max_length=MAX_LEN,\n",
        "#         truncation=True,\n",
        "#         add_special_tokens=True,\n",
        "#         return_token_type_ids=True,\n",
        "#         return_attention_mask=True,\n",
        "#         padding='max_length',\n",
        "#         return_tensors='pt',\n",
        "#     )"
      ],
      "metadata": {
        "id": "hnR9MAAOD789"
      },
      "execution_count": null,
      "outputs": []
    },
    {
      "cell_type": "code",
      "source": [
        "transform = T.Compose([T.ToTensor()])\n",
        "\n",
        "trainset = Final_Emb_Dataset('dataset/train','cated_data', TRAIN_DATA_SIZE,transform=transform)\n",
        "testset = Final_Emb_Dataset('dataset/test', 'cated_data', TEST_DATA_SIZE,transform=transform)"
      ],
      "metadata": {
        "id": "z2L7MtrUErj8"
      },
      "execution_count": null,
      "outputs": []
    },
    {
      "cell_type": "code",
      "source": [
        "train_loader = DataLoader(trainset, batch_size=TRAIN_BATCH_SIZE, shuffle=True)\n",
        "test_loader = DataLoader(testset, batch_size=TEST_BATCH_SIZE, shuffle=False)"
      ],
      "metadata": {
        "id": "mXqEXF1_Hqr7"
      },
      "execution_count": null,
      "outputs": []
    },
    {
      "cell_type": "markdown",
      "source": [
        "##Training"
      ],
      "metadata": {
        "id": "mjndOiV3HZWC"
      }
    },
    {
      "cell_type": "code",
      "source": [
        "average_policy = 'macro'\n",
        "metrics = {'accuracy': accuracy_score, 'precision': lambda y1, y2: precision_score(y1, y2, average=average_policy),\n",
        "           'recall': lambda y1, y2: recall_score(y1, y2, average=average_policy),\n",
        "           'f1': lambda y1, y2: f1_score(y1, y2, average=average_policy),\n",
        "           'confusion_matrix': confusion_matrix}\n"
      ],
      "metadata": {
        "id": "s8LZBYeLl-Xe"
      },
      "execution_count": null,
      "outputs": []
    },
    {
      "cell_type": "code",
      "source": [
        "def onehot(y):\n",
        "  out = torch.zeros((y.size()[0],3),device=device)\n",
        "  for i,index in enumerate(y):\n",
        "    out[i,index.item()] = 1\n",
        "  return out"
      ],
      "metadata": {
        "id": "9EBzKsaAyekY"
      },
      "execution_count": null,
      "outputs": []
    },
    {
      "cell_type": "code",
      "source": [
        "import tqdm\n",
        "\n",
        "def one_epoch(model, loader, criterion, optimizer=None, epoch='', train=True, set_name='Train', metrics=None):\n",
        "    total_loss = 0\n",
        "    N = len(loader.dataset)\n",
        "    Y = []\n",
        "    Y_pred = []\n",
        "    Accs = []\n",
        "    if train:\n",
        "        model.train()\n",
        "    else:\n",
        "        model.eval()\n",
        "\n",
        "    with torch.set_grad_enabled(train), tqdm.tqdm(enumerate(loader), total=len(loader)) as pbar:\n",
        "        for i, data_i in pbar:\n",
        "            if train:\n",
        "                optimizer.zero_grad()\n",
        "\n",
        "            text, image, y = data_i[0], data_i[1], data_i[2]\n",
        "\n",
        "            inputs_embeds = text.unsqueeze(1).to(torch.float)\n",
        "            visual_embeds = image.unsqueeze(1)\n",
        "            visual_token_type_ids = torch.ones(visual_embeds.shape[:-1], dtype=torch.long, device=device)\n",
        "            visual_attention_mask = torch.ones(visual_embeds.shape[:-1], dtype=torch.float, device= device)\n",
        "            labels = y.unsqueeze(0).to(torch.long)\n",
        "            inputs=(\n",
        "                {\n",
        "                    \"inputs_embeds\" : inputs_embeds,\n",
        "                    \"visual_embeds\": visual_embeds,\n",
        "                    \"visual_token_type_ids\": visual_token_type_ids,\n",
        "                    \"visual_attention_mask\": visual_attention_mask,\n",
        "                }\n",
        "            )\n",
        "\n",
        "            outputs = model(**inputs, labels=labels)\n",
        "            #loss = outputs.loss\n",
        "            scores = outputs.logits\n",
        "            loss = criterion(scores, onehot(y.long()))\n",
        "            \n",
        "\n",
        "            total_loss += loss.item() * len(y)\n",
        "\n",
        "            if train:\n",
        "                loss.backward()\n",
        "                optimizer.step()\n",
        "                \n",
        "\n",
        "            y_pred = scores.argmax(dim=-1)\n",
        "            Y.append(y.cpu().numpy())\n",
        "            Y_pred.append(y_pred.cpu().numpy())\n",
        "\n",
        "            Accs.append(np.count_nonzero(y_pred.cpu().numpy() == y.cpu().numpy())/len(y))\n",
        "            pbar.set_description(f'{epoch}: {set_name} Loss: {total_loss / N:.3e}, acc : {sum(Accs)/len(Accs)*100:.4f}%')\n",
        "\n",
        "\n",
        "    total_loss /= N\n",
        "\n",
        "    Y = np.concatenate(Y)\n",
        "    Y_pred = np.concatenate(Y_pred)\n",
        "    acc = accuracy_score(Y_pred, Y)\n",
        "    print(f'Accuracy of {set_name} set: {acc}')\n",
        "\n",
        "    result = {'loss': total_loss, 'accuracy': acc}\n",
        "    if metrics is not None:\n",
        "        result.update({metric: metric_func(Y, Y_pred) for metric, metric_func in metrics.items()})\n",
        "\n",
        "    return result"
      ],
      "metadata": {
        "id": "8bJNRg8cmBRf"
      },
      "execution_count": null,
      "outputs": []
    },
    {
      "cell_type": "code",
      "source": [
        "def train_model(model, dataloaders, num_epochs, criterion, optimizer, model_name='visualbert-model', scheduler=None):\n",
        "    train_loader, val_loader = dataloaders\n",
        "    min_val_loss = np.inf\n",
        "    max_val_acc = 0\n",
        "\n",
        "    train_losses = []\n",
        "    val_losses = []\n",
        "    train_accuracies = []\n",
        "    val_accuracies = []\n",
        "\n",
        "    for epoch in range(num_epochs):\n",
        "        result = one_epoch(model, train_loader, criterion, optimizer, epoch, train=True, set_name='Train')\n",
        "        train_loss = result['loss']\n",
        "        train_acc = result['accuracy']\n",
        "        train_losses.append(train_loss)\n",
        "        train_accuracies.append(train_acc)\n",
        "        val_result = one_epoch(model, val_loader, criterion, epoch=epoch, train=False, set_name='Validation')\n",
        "        val_loss = val_result['loss']\n",
        "        val_acc = val_result['accuracy']\n",
        "        val_losses.append(val_loss)\n",
        "        val_accuracies.append(val_acc)\n",
        "        \n",
        "        print('\\n', '-' * 60)\n",
        "\n",
        "        if val_loss < min_val_loss:\n",
        "            min_val_loss = val_loss\n",
        "            \n",
        "        if val_acc > max_val_acc:\n",
        "            max_val_acc = val_acc\n",
        "            torch.save(model.state_dict(), f'models/{model_name}.pt')\n",
        "\n",
        "        if scheduler:\n",
        "            scheduler.step(val_loss)\n",
        "\n",
        "    plt.plot(train_losses, label='train')\n",
        "    plt.plot(val_losses, label='val')\n",
        "    plt.title('loss history of training and val sets')\n",
        "    plt.legend()\n",
        "    plt.show()\n",
        "\n",
        "    plt.plot(train_accuracies, label='train')\n",
        "    plt.plot(val_accuracies, label='val')\n",
        "    plt.title('Accuracy history of training and val sets')\n",
        "    plt.legend()\n",
        "    plt.show()\n",
        "\n",
        "    model.load_state_dict(torch.load(f'models/{model_name}.pt'))\n",
        "    return model, min_val_loss"
      ],
      "metadata": {
        "id": "W5-kK7NVY-QQ"
      },
      "execution_count": null,
      "outputs": []
    },
    {
      "cell_type": "code",
      "source": [
        "LEARNING_RATE = 1e-4\n",
        "EPSILON = 5e-8\n",
        "EPOCHS = 5"
      ],
      "metadata": {
        "id": "46NyEc6i1T-G"
      },
      "execution_count": null,
      "outputs": []
    },
    {
      "cell_type": "code",
      "source": [
        "optimizer = torch.optim.AdamW(model.parameters(),lr = LEARNING_RATE)\n",
        "scheduler = torch.optim.lr_scheduler.ReduceLROnPlateau(optimizer, patience=2, verbose=True, factor=0.5)\n",
        "criterion = logit_bce()"
      ],
      "metadata": {
        "id": "jsm6Qh5FG3tq"
      },
      "execution_count": null,
      "outputs": []
    },
    {
      "cell_type": "code",
      "source": [
        "model, min_val_loss = train_model(model, \n",
        "                                  (train_loader, test_loader), \n",
        "                                  EPOCHS, \n",
        "                                  criterion, \n",
        "                                  optimizer, \n",
        "                                  model_name='visualbert_cnn_alt_second', \n",
        "                                  scheduler=None)"
      ],
      "metadata": {
        "colab": {
          "base_uri": "https://localhost:8080/",
          "height": 1000
        },
        "id": "Jg4ZheMTmiCs",
        "outputId": "960d5735-d3dd-4d61-d4b6-3b18115725b1"
      },
      "execution_count": null,
      "outputs": [
        {
          "output_type": "stream",
          "name": "stderr",
          "text": [
            "0: Train Loss: 5.829e-01, acc : 51.4902%: 100%|██████████| 85/85 [00:11<00:00,  7.57it/s]\n"
          ]
        },
        {
          "output_type": "stream",
          "name": "stdout",
          "text": [
            "Accuracy of Train set: 0.5146245059288538\n"
          ]
        },
        {
          "output_type": "stream",
          "name": "stderr",
          "text": [
            "0: Validation Loss: 6.242e-01, acc : 44.8064%: 100%|██████████| 22/22 [00:00<00:00, 26.94it/s]\n"
          ]
        },
        {
          "output_type": "stream",
          "name": "stdout",
          "text": [
            "Accuracy of Validation set: 0.44977304124728634\n",
            "\n",
            " ------------------------------------------------------------\n"
          ]
        },
        {
          "output_type": "stream",
          "name": "stderr",
          "text": [
            "1: Train Loss: 5.656e-01, acc : 53.7059%: 100%|██████████| 85/85 [00:11<00:00,  7.50it/s]\n"
          ]
        },
        {
          "output_type": "stream",
          "name": "stdout",
          "text": [
            "Accuracy of Train set: 0.5374505928853754\n"
          ]
        },
        {
          "output_type": "stream",
          "name": "stderr",
          "text": [
            "1: Validation Loss: 6.375e-01, acc : 48.3186%: 100%|██████████| 22/22 [00:00<00:00, 26.23it/s]\n"
          ]
        },
        {
          "output_type": "stream",
          "name": "stdout",
          "text": [
            "Accuracy of Validation set: 0.47858693507006117\n",
            "\n",
            " ------------------------------------------------------------\n"
          ]
        },
        {
          "output_type": "stream",
          "name": "stderr",
          "text": [
            "2: Train Loss: 5.494e-01, acc : 56.7108%: 100%|██████████| 85/85 [00:11<00:00,  7.45it/s]\n"
          ]
        },
        {
          "output_type": "stream",
          "name": "stdout",
          "text": [
            "Accuracy of Train set: 0.5670454545454545\n"
          ]
        },
        {
          "output_type": "stream",
          "name": "stderr",
          "text": [
            "2: Validation Loss: 6.029e-01, acc : 51.4604%: 100%|██████████| 22/22 [00:00<00:00, 26.60it/s]\n"
          ]
        },
        {
          "output_type": "stream",
          "name": "stdout",
          "text": [
            "Accuracy of Validation set: 0.5097690941385435\n",
            "\n",
            " ------------------------------------------------------------\n"
          ]
        },
        {
          "output_type": "stream",
          "name": "stderr",
          "text": [
            "3: Train Loss: 5.451e-01, acc : 57.2059%: 100%|██████████| 85/85 [00:11<00:00,  7.20it/s]\n"
          ]
        },
        {
          "output_type": "stream",
          "name": "stdout",
          "text": [
            "Accuracy of Train set: 0.5714426877470355\n"
          ]
        },
        {
          "output_type": "stream",
          "name": "stderr",
          "text": [
            "3: Validation Loss: 5.990e-01, acc : 53.0324%: 100%|██████████| 22/22 [00:00<00:00, 23.76it/s]\n"
          ]
        },
        {
          "output_type": "stream",
          "name": "stdout",
          "text": [
            "Accuracy of Validation set: 0.5261495954213539\n",
            "\n",
            " ------------------------------------------------------------\n"
          ]
        },
        {
          "output_type": "stream",
          "name": "stderr",
          "text": [
            "4: Train Loss: 5.424e-01, acc : 57.8186%: 100%|██████████| 85/85 [00:11<00:00,  7.53it/s]\n"
          ]
        },
        {
          "output_type": "stream",
          "name": "stdout",
          "text": [
            "Accuracy of Train set: 0.5784090909090909\n"
          ]
        },
        {
          "output_type": "stream",
          "name": "stderr",
          "text": [
            "4: Validation Loss: 6.131e-01, acc : 51.0248%: 100%|██████████| 22/22 [00:00<00:00, 26.82it/s]\n"
          ]
        },
        {
          "output_type": "stream",
          "name": "stdout",
          "text": [
            "Accuracy of Validation set: 0.5052299190842707\n",
            "\n",
            " ------------------------------------------------------------\n"
          ]
        },
        {
          "output_type": "display_data",
          "data": {
            "text/plain": [
              "<Figure size 432x288 with 1 Axes>"
            ],
            "image/png": "[encoded data removed]"
          },
          "metadata": {
            "needs_background": "light"
          }
        },
        {
          "output_type": "display_data",
          "data": {
            "text/plain": [
              "<Figure size 432x288 with 1 Axes>"
            ],
            "image/png": "[encoded data removed]"
          },
          "metadata": {
            "needs_background": "light"
          }
        }
      ]
    },
    {
      "cell_type": "markdown",
      "source": [
        "##Evaluation"
      ],
      "metadata": {
        "id": "ZNRb0Ilhl6yG"
      }
    },
    {
      "cell_type": "code",
      "source": [
        "def eval_model(model, loader, metrics=metrics, set_name='Test', plot_confusion_matrix=True):\n",
        "    results = one_epoch(model, loader, criterion, train=False, set_name=set_name, metrics=metrics)\n",
        "    disp = ConfusionMatrixDisplay(results.pop('confusion_matrix'))\n",
        "    if plot_confusion_matrix:\n",
        "        disp.plot()\n",
        "    return results"
      ],
      "metadata": {
        "id": "THSZMBiMl9ku"
      },
      "execution_count": null,
      "outputs": []
    },
    {
      "cell_type": "code",
      "source": [
        "model.load_state_dict(torch.load('models/visualbert_cnn_alt.pt'))\n",
        "eval_model(model, test_loader)"
      ],
      "metadata": {
        "colab": {
          "base_uri": "https://localhost:8080/",
          "height": 400
        },
        "id": "82nvzYO-l8fO",
        "outputId": "d2dab72a-2d5e-42d1-a470-677bb241eeab"
      },
      "execution_count": null,
      "outputs": [
        {
          "output_type": "stream",
          "name": "stderr",
          "text": [
            ": Test Loss: 5.847e-01, acc : 53.1460%: 100%|██████████| 22/22 [00:01<00:00, 11.31it/s]\n"
          ]
        },
        {
          "output_type": "stream",
          "name": "stdout",
          "text": [
            "Accuracy of Test set: 0.5273337280442076\n"
          ]
        },
        {
          "output_type": "execute_result",
          "data": {
            "text/plain": [
              "{'loss': 0.5847306788285291,\n",
              " 'accuracy': 0.5273337280442076,\n",
              " 'precision': 0.4995780017875528,\n",
              " 'recall': 0.4943013850730122,\n",
              " 'f1': 0.4935012725034298}"
            ]
          },
          "metadata": {},
          "execution_count": 110
        },
        {
          "output_type": "display_data",
          "data": {
            "text/plain": [
              "<Figure size 432x288 with 2 Axes>"
            ],
            "image/png": "[encoded data removed]"
          },
          "metadata": {
            "needs_background": "light"
          }
        }
      ]
    }
  ]
}